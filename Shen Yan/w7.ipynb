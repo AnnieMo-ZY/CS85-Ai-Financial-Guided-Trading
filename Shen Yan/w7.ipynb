{
 "cells": [
  {
   "cell_type": "markdown",
   "metadata": {},
   "source": [
    "## Load data"
   ]
  },
  {
   "cell_type": "code",
   "execution_count": 1,
   "metadata": {},
   "outputs": [],
   "source": [
    "import numpy as np\n",
    "import pandas as pd\n",
    "import plotly.graph_objects as go\n",
    "import warnings\n",
    "warnings.filterwarnings('ignore')\n",
    "\n",
    "df = pd.read_csv('/Users/shenyan/Downloads/capstone/Data_OANDA/AUD_CAD_M30_2005_202206.csv', encoding='utf-8')\n"
   ]
  },
  {
   "cell_type": "markdown",
   "metadata": {},
   "source": [
    "## Find pivots"
   ]
  },
  {
   "cell_type": "code",
   "execution_count": 2,
   "metadata": {},
   "outputs": [],
   "source": [
    "def pivotid(data,l,n1,n2):#n1 and n2 are the number of candlesticks on the left and right of l respectively\n",
    "    if l-n1 <0 or l+n2 >= len(data):\n",
    "        return 0\n",
    "    \n",
    "    pivotlow = 1 #true\n",
    "    pivothigh = 1 #true\n",
    "    \n",
    "    for i in range(l-n1,l+n2+1):\n",
    "        if (data.low[l]>data.low[i]):\n",
    "            pivotlow = 0 #false\n",
    "        if (data.high[l]<data.high[i]):\n",
    "            pivothigh = 0 #false\n",
    "\n",
    "    if pivotlow:\n",
    "        return 1\n",
    "    elif pivothigh:\n",
    "        return 2\n",
    "    else:\n",
    "        return 0\n",
    "\n",
    "df['pivot'] = df.apply(lambda x: pivotid(df,x.name,5,5),axis = 1)"
   ]
  },
  {
   "cell_type": "code",
   "execution_count": 3,
   "metadata": {},
   "outputs": [],
   "source": [
    "df['id'] = list(range(0,len(df)))"
   ]
  },
  {
   "cell_type": "code",
   "execution_count": 4,
   "metadata": {},
   "outputs": [],
   "source": [
    "non_pivot_idx=df[df['pivot']== 0].id\n",
    "data = df.drop(non_pivot_idx)"
   ]
  },
  {
   "cell_type": "code",
   "execution_count": 5,
   "metadata": {},
   "outputs": [],
   "source": [
    "df.to_csv(\"30m.csv\")\n",
    "data.to_csv(\"cleandata.csv\")"
   ]
  },
  {
   "cell_type": "code",
   "execution_count": 6,
   "metadata": {},
   "outputs": [
    {
     "data": {
      "text/html": [
       "<div>\n",
       "<style scoped>\n",
       "    .dataframe tbody tr th:only-of-type {\n",
       "        vertical-align: middle;\n",
       "    }\n",
       "\n",
       "    .dataframe tbody tr th {\n",
       "        vertical-align: top;\n",
       "    }\n",
       "\n",
       "    .dataframe thead th {\n",
       "        text-align: right;\n",
       "    }\n",
       "</style>\n",
       "<table border=\"1\" class=\"dataframe\">\n",
       "  <thead>\n",
       "    <tr style=\"text-align: right;\">\n",
       "      <th></th>\n",
       "      <th>datetime</th>\n",
       "      <th>open</th>\n",
       "      <th>high</th>\n",
       "      <th>low</th>\n",
       "      <th>close</th>\n",
       "      <th>pivot</th>\n",
       "      <th>id</th>\n",
       "    </tr>\n",
       "  </thead>\n",
       "  <tbody>\n",
       "    <tr>\n",
       "      <th>7</th>\n",
       "      <td>2005-01-02T22:00:00.000000000Z</td>\n",
       "      <td>0.93874</td>\n",
       "      <td>0.93910</td>\n",
       "      <td>0.93813</td>\n",
       "      <td>0.93892</td>\n",
       "      <td>1</td>\n",
       "      <td>7</td>\n",
       "    </tr>\n",
       "    <tr>\n",
       "      <th>13</th>\n",
       "      <td>2005-01-03T01:00:00.000000000Z</td>\n",
       "      <td>0.94020</td>\n",
       "      <td>0.94198</td>\n",
       "      <td>0.94002</td>\n",
       "      <td>0.94100</td>\n",
       "      <td>2</td>\n",
       "      <td>13</td>\n",
       "    </tr>\n",
       "    <tr>\n",
       "      <th>18</th>\n",
       "      <td>2005-01-03T03:30:00.000000000Z</td>\n",
       "      <td>0.93704</td>\n",
       "      <td>0.93782</td>\n",
       "      <td>0.93274</td>\n",
       "      <td>0.93520</td>\n",
       "      <td>1</td>\n",
       "      <td>18</td>\n",
       "    </tr>\n",
       "    <tr>\n",
       "      <th>28</th>\n",
       "      <td>2005-01-03T08:30:00.000000000Z</td>\n",
       "      <td>0.93862</td>\n",
       "      <td>0.94029</td>\n",
       "      <td>0.93738</td>\n",
       "      <td>0.93774</td>\n",
       "      <td>2</td>\n",
       "      <td>28</td>\n",
       "    </tr>\n",
       "    <tr>\n",
       "      <th>36</th>\n",
       "      <td>2005-01-03T12:30:00.000000000Z</td>\n",
       "      <td>0.93940</td>\n",
       "      <td>0.93968</td>\n",
       "      <td>0.93628</td>\n",
       "      <td>0.93840</td>\n",
       "      <td>1</td>\n",
       "      <td>36</td>\n",
       "    </tr>\n",
       "  </tbody>\n",
       "</table>\n",
       "</div>"
      ],
      "text/plain": [
       "                          datetime     open     high      low    close  pivot  \\\n",
       "7   2005-01-02T22:00:00.000000000Z  0.93874  0.93910  0.93813  0.93892      1   \n",
       "13  2005-01-03T01:00:00.000000000Z  0.94020  0.94198  0.94002  0.94100      2   \n",
       "18  2005-01-03T03:30:00.000000000Z  0.93704  0.93782  0.93274  0.93520      1   \n",
       "28  2005-01-03T08:30:00.000000000Z  0.93862  0.94029  0.93738  0.93774      2   \n",
       "36  2005-01-03T12:30:00.000000000Z  0.93940  0.93968  0.93628  0.93840      1   \n",
       "\n",
       "    id  \n",
       "7    7  \n",
       "13  13  \n",
       "18  18  \n",
       "28  28  \n",
       "36  36  "
      ]
     },
     "execution_count": 6,
     "metadata": {},
     "output_type": "execute_result"
    }
   ],
   "source": [
    "data.head()"
   ]
  },
  {
   "cell_type": "code",
   "execution_count": 1,
   "metadata": {},
   "outputs": [],
   "source": [
    "import numpy as np\n",
    "import pandas as pd\n",
    "import plotly.graph_objects as go\n",
    "import warnings\n",
    "warnings.filterwarnings('ignore')\n",
    "df = pd.read_csv('/Users/shenyan/Downloads/capstone/w7/30m.csv', encoding='utf-8')\n",
    "data = pd.read_csv('/Users/shenyan/Downloads/capstone/w7/cleandata.csv', encoding='utf-8')\n"
   ]
  },
  {
   "cell_type": "markdown",
   "metadata": {},
   "source": [
    "## Rectangle"
   ]
  },
  {
   "cell_type": "code",
   "execution_count": 1,
   "metadata": {},
   "outputs": [],
   "source": [
    "import numpy as np\n",
    "import pandas as pd\n",
    "import plotly.graph_objects as go\n",
    "import warnings\n",
    "warnings.filterwarnings('ignore')\n",
    "df = pd.read_csv('/Users/shenyan/Downloads/capstone/w7/30m.csv', encoding='utf-8')\n",
    "data = pd.read_csv('/Users/shenyan/Downloads/capstone/w7/cleandata.csv', encoding='utf-8')\n"
   ]
  },
  {
   "cell_type": "code",
   "execution_count": null,
   "metadata": {},
   "outputs": [],
   "source": [
    "# for i in range(0,2000):  \n",
    "#     peak,trough =[],[]\n",
    "#     peak_pos,trough_pos =[],[]\n",
    "#     if data.iloc[i].pivot == 1:\n",
    "#         trough.append(data.iloc[i].id)\n",
    "#         trough_pos.append(data.iloc[i].low)\n",
    "\n",
    "#         n = 1\n",
    "#         while data.iloc[i+n+1].high>data.iloc[i+n].high:\n",
    "#             n+=1\n",
    "#         peak.append(data.iloc[i+n].id)\n",
    "#         peak_pos.append(data.iloc[i+n].high)\n",
    "\n",
    "#         m=1\n",
    "#         while data.iloc[i+m+n+1].high<data.iloc[i+n+m].high and abs(data.iloc[i+m+n].low- data.iloc[i].low)<0.0001:\n",
    "#             m+=1\n",
    "#         trough.append(data.iloc[i+m+n].id)\n",
    "#         trough_pos.append(data.iloc[i+m+n].low)\n",
    "        \n",
    "#         k=1\n",
    "#         while data.iloc[i+m+k+n+1].high>data.iloc[i+n+m].high and abs(data.iloc[i+m+n+k].high- data.iloc[i+n].high)<0.0001:\n",
    "#             k += 1\n",
    "#         peak.append(data.iloc[i+n+m+k].id)\n",
    "#         peak_pos.append(data.iloc[i+n+m+k].high)\n",
    "     \n",
    "#         j=1\n",
    "#         while data.iloc[i+n+m+k+j+1].high<data.iloc[i+m+k+n+1].high and abs(data.iloc[i+n+m+k+j].low-data.iloc[i].low)<0.0001:\n",
    "#             j += 1\n",
    "    \n",
    "#         trough.append(data.iloc[i+n+m+k+j].id)\n",
    "#         trough_pos.append(data.iloc[i+n+m+k+j].low)\n",
    "      \n",
    "#         print(f'peak is{peak},trough is {trough}')\n",
    "#         print(f'peak_pos is {peak_pos},trough_pos is {trough_pos}')\n",
    "#         dfpl = df[max(0,data.iloc[i].id-25):min(data.iloc[i+n+m+k+j].id+25,len(df))]\n",
    "#         fig = go.Figure(data=[go.Candlestick(x=dfpl.index,\n",
    "#                         open=dfpl['open'],\n",
    "#                         high=dfpl['high'],\n",
    "#                         low=dfpl['low'],\n",
    "#                         close=dfpl['close'])])\n",
    "\n",
    "\n",
    "#         fig.add_scatter(x=peak,y=peak_pos,\n",
    "#                                     mode = \"markers\",\n",
    "#                                     marker = dict(size=6,color = \"blue\")\n",
    "#                                    )\n",
    "                    \n",
    "#         fig.add_scatter(x=trough,y=trough_pos,\n",
    "#                                     mode = \"markers\",\n",
    "#                                     marker = dict(size=6,color = \"yellow\"),\n",
    "#                                    name=\"trough\")\n",
    "\n",
    "#         fig.add_trace(go.Scatter(x=peak, y=peak_pos, mode='lines', name='max slope'))\n",
    "#         fig.add_trace(go.Scatter(x=trough, y=trough_pos, mode='lines', name='min slope'))\n",
    "#         fig.show()\n",
    "                    \n",
    "\n",
    "            \n",
    "\n",
    "\n",
    "\n",
    "\n",
    "\n",
    "        \n",
    "        \n",
    "        \n",
    "        "
   ]
  },
  {
   "cell_type": "code",
   "execution_count": 3,
   "metadata": {},
   "outputs": [
    {
     "name": "stdout",
     "output_type": "stream",
     "text": [
      "peak is[13, 28],trough is [7, 18, 36]\n",
      "peak_pos is [0.94198, 0.94029],trough_pos is [0.93813, 0.93274, 0.93628]\n"
     ]
    },
    {
     "data": {
      "application/vnd.plotly.v1+json": {
       "config": {
        "plotlyServerURL": "https://plot.ly"
       },
       "data": [
        {
         "close": [
          0.94353,
          0.94353,
          0.9446,
          0.93813,
          0.9391,
          0.93848,
          0.93858,
          0.93892,
          0.94007,
          0.94158,
          0.94051,
          0.94078,
          0.94016,
          0.941,
          0.94074,
          0.93994,
          0.93862,
          0.93686,
          0.9352,
          0.9345,
          0.93502,
          0.93606,
          0.9387,
          0.93852,
          0.93747,
          0.93572,
          0.93738,
          0.93844,
          0.93774,
          0.9387,
          0.93756,
          0.93826,
          0.93852,
          0.93888,
          0.93782,
          0.93924,
          0.9384,
          0.94171,
          0.94064,
          0.94109,
          0.94136,
          0.93844,
          0.941,
          0.94162,
          0.94295,
          0.94188,
          0.94224,
          0.9418,
          0.94144,
          0.94171,
          0.94162,
          0.94064,
          0.9387,
          0.9394,
          0.94002,
          0.93914,
          0.93782,
          0.93826,
          0.9387,
          0.93906,
          0.93818
         ],
         "high": [
          0.94353,
          0.94415,
          0.9446,
          0.94433,
          0.9391,
          0.93936,
          0.93892,
          0.9391,
          0.94007,
          0.94158,
          0.94193,
          0.94104,
          0.94096,
          0.94198,
          0.94171,
          0.94074,
          0.94002,
          0.93896,
          0.93782,
          0.93756,
          0.93536,
          0.93616,
          0.9387,
          0.9394,
          0.93879,
          0.93835,
          0.93782,
          0.93896,
          0.94029,
          0.93958,
          0.93906,
          0.93826,
          0.93906,
          0.93958,
          0.93976,
          0.94056,
          0.93968,
          0.94304,
          0.94295,
          0.94126,
          0.94304,
          0.94206,
          0.941,
          0.94278,
          0.94348,
          0.94331,
          0.94268,
          0.94242,
          0.94278,
          0.9425,
          0.94215,
          0.9425,
          0.94074,
          0.93958,
          0.94012,
          0.94002,
          0.9394,
          0.93862,
          0.93932,
          0.94002,
          0.93906
         ],
         "low": [
          0.93884,
          0.94291,
          0.94317,
          0.93813,
          0.93813,
          0.93822,
          0.93822,
          0.93813,
          0.9391,
          0.9398,
          0.94025,
          0.93936,
          0.93919,
          0.94002,
          0.94047,
          0.93976,
          0.93862,
          0.93624,
          0.93274,
          0.93396,
          0.9337,
          0.93466,
          0.9359,
          0.93808,
          0.93694,
          0.93528,
          0.93554,
          0.9373,
          0.93738,
          0.9373,
          0.93624,
          0.93704,
          0.93712,
          0.93844,
          0.93774,
          0.9373,
          0.93628,
          0.93804,
          0.93968,
          0.93818,
          0.94056,
          0.93826,
          0.93808,
          0.94029,
          0.94091,
          0.94118,
          0.94144,
          0.94171,
          0.94118,
          0.94118,
          0.9402,
          0.94047,
          0.93852,
          0.938,
          0.93924,
          0.93852,
          0.93774,
          0.93747,
          0.93808,
          0.9387,
          0.93791
         ],
         "open": [
          0.93884,
          0.94317,
          0.94353,
          0.94406,
          0.9383,
          0.93936,
          0.9384,
          0.93874,
          0.93936,
          0.94016,
          0.94175,
          0.94069,
          0.94042,
          0.9402,
          0.941,
          0.94056,
          0.93994,
          0.9387,
          0.93704,
          0.93536,
          0.9345,
          0.93502,
          0.93632,
          0.9387,
          0.93844,
          0.93747,
          0.93572,
          0.93747,
          0.93862,
          0.93782,
          0.93896,
          0.93738,
          0.93818,
          0.93888,
          0.93896,
          0.93774,
          0.9394,
          0.93848,
          0.94171,
          0.94029,
          0.94118,
          0.94118,
          0.93835,
          0.94091,
          0.94162,
          0.94304,
          0.94188,
          0.94233,
          0.9418,
          0.94144,
          0.94171,
          0.94171,
          0.94064,
          0.93879,
          0.9394,
          0.94002,
          0.93906,
          0.93782,
          0.93835,
          0.9387,
          0.93906
         ],
         "type": "candlestick",
         "x": [
          0,
          1,
          2,
          3,
          4,
          5,
          6,
          7,
          8,
          9,
          10,
          11,
          12,
          13,
          14,
          15,
          16,
          17,
          18,
          19,
          20,
          21,
          22,
          23,
          24,
          25,
          26,
          27,
          28,
          29,
          30,
          31,
          32,
          33,
          34,
          35,
          36,
          37,
          38,
          39,
          40,
          41,
          42,
          43,
          44,
          45,
          46,
          47,
          48,
          49,
          50,
          51,
          52,
          53,
          54,
          55,
          56,
          57,
          58,
          59,
          60
         ]
        },
        {
         "marker": {
          "color": "blue",
          "size": 6
         },
         "mode": "markers",
         "type": "scatter",
         "x": [
          13,
          28
         ],
         "y": [
          0.94198,
          0.94029
         ]
        },
        {
         "marker": {
          "color": "yellow",
          "size": 6
         },
         "mode": "markers",
         "name": "trough",
         "type": "scatter",
         "x": [
          7,
          18,
          36
         ],
         "y": [
          0.93813,
          0.93274,
          0.93628
         ]
        },
        {
         "mode": "lines",
         "name": "max slope",
         "type": "scatter",
         "x": [
          13,
          28
         ],
         "y": [
          0.94198,
          0.94198
         ]
        },
        {
         "mode": "lines",
         "name": "min slope",
         "type": "scatter",
         "x": [
          7,
          18,
          36
         ],
         "y": [
          0.93274,
          0.93274,
          0.93274
         ]
        }
       ],
       "layout": {
        "template": {
         "data": {
          "bar": [
           {
            "error_x": {
             "color": "#2a3f5f"
            },
            "error_y": {
             "color": "#2a3f5f"
            },
            "marker": {
             "line": {
              "color": "#E5ECF6",
              "width": 0.5
             },
             "pattern": {
              "fillmode": "overlay",
              "size": 10,
              "solidity": 0.2
             }
            },
            "type": "bar"
           }
          ],
          "barpolar": [
           {
            "marker": {
             "line": {
              "color": "#E5ECF6",
              "width": 0.5
             },
             "pattern": {
              "fillmode": "overlay",
              "size": 10,
              "solidity": 0.2
             }
            },
            "type": "barpolar"
           }
          ],
          "carpet": [
           {
            "aaxis": {
             "endlinecolor": "#2a3f5f",
             "gridcolor": "white",
             "linecolor": "white",
             "minorgridcolor": "white",
             "startlinecolor": "#2a3f5f"
            },
            "baxis": {
             "endlinecolor": "#2a3f5f",
             "gridcolor": "white",
             "linecolor": "white",
             "minorgridcolor": "white",
             "startlinecolor": "#2a3f5f"
            },
            "type": "carpet"
           }
          ],
          "choropleth": [
           {
            "colorbar": {
             "outlinewidth": 0,
             "ticks": ""
            },
            "type": "choropleth"
           }
          ],
          "contour": [
           {
            "colorbar": {
             "outlinewidth": 0,
             "ticks": ""
            },
            "colorscale": [
             [
              0,
              "#0d0887"
             ],
             [
              0.1111111111111111,
              "#46039f"
             ],
             [
              0.2222222222222222,
              "#7201a8"
             ],
             [
              0.3333333333333333,
              "#9c179e"
             ],
             [
              0.4444444444444444,
              "#bd3786"
             ],
             [
              0.5555555555555556,
              "#d8576b"
             ],
             [
              0.6666666666666666,
              "#ed7953"
             ],
             [
              0.7777777777777778,
              "#fb9f3a"
             ],
             [
              0.8888888888888888,
              "#fdca26"
             ],
             [
              1,
              "#f0f921"
             ]
            ],
            "type": "contour"
           }
          ],
          "contourcarpet": [
           {
            "colorbar": {
             "outlinewidth": 0,
             "ticks": ""
            },
            "type": "contourcarpet"
           }
          ],
          "heatmap": [
           {
            "colorbar": {
             "outlinewidth": 0,
             "ticks": ""
            },
            "colorscale": [
             [
              0,
              "#0d0887"
             ],
             [
              0.1111111111111111,
              "#46039f"
             ],
             [
              0.2222222222222222,
              "#7201a8"
             ],
             [
              0.3333333333333333,
              "#9c179e"
             ],
             [
              0.4444444444444444,
              "#bd3786"
             ],
             [
              0.5555555555555556,
              "#d8576b"
             ],
             [
              0.6666666666666666,
              "#ed7953"
             ],
             [
              0.7777777777777778,
              "#fb9f3a"
             ],
             [
              0.8888888888888888,
              "#fdca26"
             ],
             [
              1,
              "#f0f921"
             ]
            ],
            "type": "heatmap"
           }
          ],
          "heatmapgl": [
           {
            "colorbar": {
             "outlinewidth": 0,
             "ticks": ""
            },
            "colorscale": [
             [
              0,
              "#0d0887"
             ],
             [
              0.1111111111111111,
              "#46039f"
             ],
             [
              0.2222222222222222,
              "#7201a8"
             ],
             [
              0.3333333333333333,
              "#9c179e"
             ],
             [
              0.4444444444444444,
              "#bd3786"
             ],
             [
              0.5555555555555556,
              "#d8576b"
             ],
             [
              0.6666666666666666,
              "#ed7953"
             ],
             [
              0.7777777777777778,
              "#fb9f3a"
             ],
             [
              0.8888888888888888,
              "#fdca26"
             ],
             [
              1,
              "#f0f921"
             ]
            ],
            "type": "heatmapgl"
           }
          ],
          "histogram": [
           {
            "marker": {
             "pattern": {
              "fillmode": "overlay",
              "size": 10,
              "solidity": 0.2
             }
            },
            "type": "histogram"
           }
          ],
          "histogram2d": [
           {
            "colorbar": {
             "outlinewidth": 0,
             "ticks": ""
            },
            "colorscale": [
             [
              0,
              "#0d0887"
             ],
             [
              0.1111111111111111,
              "#46039f"
             ],
             [
              0.2222222222222222,
              "#7201a8"
             ],
             [
              0.3333333333333333,
              "#9c179e"
             ],
             [
              0.4444444444444444,
              "#bd3786"
             ],
             [
              0.5555555555555556,
              "#d8576b"
             ],
             [
              0.6666666666666666,
              "#ed7953"
             ],
             [
              0.7777777777777778,
              "#fb9f3a"
             ],
             [
              0.8888888888888888,
              "#fdca26"
             ],
             [
              1,
              "#f0f921"
             ]
            ],
            "type": "histogram2d"
           }
          ],
          "histogram2dcontour": [
           {
            "colorbar": {
             "outlinewidth": 0,
             "ticks": ""
            },
            "colorscale": [
             [
              0,
              "#0d0887"
             ],
             [
              0.1111111111111111,
              "#46039f"
             ],
             [
              0.2222222222222222,
              "#7201a8"
             ],
             [
              0.3333333333333333,
              "#9c179e"
             ],
             [
              0.4444444444444444,
              "#bd3786"
             ],
             [
              0.5555555555555556,
              "#d8576b"
             ],
             [
              0.6666666666666666,
              "#ed7953"
             ],
             [
              0.7777777777777778,
              "#fb9f3a"
             ],
             [
              0.8888888888888888,
              "#fdca26"
             ],
             [
              1,
              "#f0f921"
             ]
            ],
            "type": "histogram2dcontour"
           }
          ],
          "mesh3d": [
           {
            "colorbar": {
             "outlinewidth": 0,
             "ticks": ""
            },
            "type": "mesh3d"
           }
          ],
          "parcoords": [
           {
            "line": {
             "colorbar": {
              "outlinewidth": 0,
              "ticks": ""
             }
            },
            "type": "parcoords"
           }
          ],
          "pie": [
           {
            "automargin": true,
            "type": "pie"
           }
          ],
          "scatter": [
           {
            "fillpattern": {
             "fillmode": "overlay",
             "size": 10,
             "solidity": 0.2
            },
            "type": "scatter"
           }
          ],
          "scatter3d": [
           {
            "line": {
             "colorbar": {
              "outlinewidth": 0,
              "ticks": ""
             }
            },
            "marker": {
             "colorbar": {
              "outlinewidth": 0,
              "ticks": ""
             }
            },
            "type": "scatter3d"
           }
          ],
          "scattercarpet": [
           {
            "marker": {
             "colorbar": {
              "outlinewidth": 0,
              "ticks": ""
             }
            },
            "type": "scattercarpet"
           }
          ],
          "scattergeo": [
           {
            "marker": {
             "colorbar": {
              "outlinewidth": 0,
              "ticks": ""
             }
            },
            "type": "scattergeo"
           }
          ],
          "scattergl": [
           {
            "marker": {
             "colorbar": {
              "outlinewidth": 0,
              "ticks": ""
             }
            },
            "type": "scattergl"
           }
          ],
          "scattermapbox": [
           {
            "marker": {
             "colorbar": {
              "outlinewidth": 0,
              "ticks": ""
             }
            },
            "type": "scattermapbox"
           }
          ],
          "scatterpolar": [
           {
            "marker": {
             "colorbar": {
              "outlinewidth": 0,
              "ticks": ""
             }
            },
            "type": "scatterpolar"
           }
          ],
          "scatterpolargl": [
           {
            "marker": {
             "colorbar": {
              "outlinewidth": 0,
              "ticks": ""
             }
            },
            "type": "scatterpolargl"
           }
          ],
          "scatterternary": [
           {
            "marker": {
             "colorbar": {
              "outlinewidth": 0,
              "ticks": ""
             }
            },
            "type": "scatterternary"
           }
          ],
          "surface": [
           {
            "colorbar": {
             "outlinewidth": 0,
             "ticks": ""
            },
            "colorscale": [
             [
              0,
              "#0d0887"
             ],
             [
              0.1111111111111111,
              "#46039f"
             ],
             [
              0.2222222222222222,
              "#7201a8"
             ],
             [
              0.3333333333333333,
              "#9c179e"
             ],
             [
              0.4444444444444444,
              "#bd3786"
             ],
             [
              0.5555555555555556,
              "#d8576b"
             ],
             [
              0.6666666666666666,
              "#ed7953"
             ],
             [
              0.7777777777777778,
              "#fb9f3a"
             ],
             [
              0.8888888888888888,
              "#fdca26"
             ],
             [
              1,
              "#f0f921"
             ]
            ],
            "type": "surface"
           }
          ],
          "table": [
           {
            "cells": {
             "fill": {
              "color": "#EBF0F8"
             },
             "line": {
              "color": "white"
             }
            },
            "header": {
             "fill": {
              "color": "#C8D4E3"
             },
             "line": {
              "color": "white"
             }
            },
            "type": "table"
           }
          ]
         },
         "layout": {
          "annotationdefaults": {
           "arrowcolor": "#2a3f5f",
           "arrowhead": 0,
           "arrowwidth": 1
          },
          "autotypenumbers": "strict",
          "coloraxis": {
           "colorbar": {
            "outlinewidth": 0,
            "ticks": ""
           }
          },
          "colorscale": {
           "diverging": [
            [
             0,
             "#8e0152"
            ],
            [
             0.1,
             "#c51b7d"
            ],
            [
             0.2,
             "#de77ae"
            ],
            [
             0.3,
             "#f1b6da"
            ],
            [
             0.4,
             "#fde0ef"
            ],
            [
             0.5,
             "#f7f7f7"
            ],
            [
             0.6,
             "#e6f5d0"
            ],
            [
             0.7,
             "#b8e186"
            ],
            [
             0.8,
             "#7fbc41"
            ],
            [
             0.9,
             "#4d9221"
            ],
            [
             1,
             "#276419"
            ]
           ],
           "sequential": [
            [
             0,
             "#0d0887"
            ],
            [
             0.1111111111111111,
             "#46039f"
            ],
            [
             0.2222222222222222,
             "#7201a8"
            ],
            [
             0.3333333333333333,
             "#9c179e"
            ],
            [
             0.4444444444444444,
             "#bd3786"
            ],
            [
             0.5555555555555556,
             "#d8576b"
            ],
            [
             0.6666666666666666,
             "#ed7953"
            ],
            [
             0.7777777777777778,
             "#fb9f3a"
            ],
            [
             0.8888888888888888,
             "#fdca26"
            ],
            [
             1,
             "#f0f921"
            ]
           ],
           "sequentialminus": [
            [
             0,
             "#0d0887"
            ],
            [
             0.1111111111111111,
             "#46039f"
            ],
            [
             0.2222222222222222,
             "#7201a8"
            ],
            [
             0.3333333333333333,
             "#9c179e"
            ],
            [
             0.4444444444444444,
             "#bd3786"
            ],
            [
             0.5555555555555556,
             "#d8576b"
            ],
            [
             0.6666666666666666,
             "#ed7953"
            ],
            [
             0.7777777777777778,
             "#fb9f3a"
            ],
            [
             0.8888888888888888,
             "#fdca26"
            ],
            [
             1,
             "#f0f921"
            ]
           ]
          },
          "colorway": [
           "#636efa",
           "#EF553B",
           "#00cc96",
           "#ab63fa",
           "#FFA15A",
           "#19d3f3",
           "#FF6692",
           "#B6E880",
           "#FF97FF",
           "#FECB52"
          ],
          "font": {
           "color": "#2a3f5f"
          },
          "geo": {
           "bgcolor": "white",
           "lakecolor": "white",
           "landcolor": "#E5ECF6",
           "showlakes": true,
           "showland": true,
           "subunitcolor": "white"
          },
          "hoverlabel": {
           "align": "left"
          },
          "hovermode": "closest",
          "mapbox": {
           "style": "light"
          },
          "paper_bgcolor": "white",
          "plot_bgcolor": "#E5ECF6",
          "polar": {
           "angularaxis": {
            "gridcolor": "white",
            "linecolor": "white",
            "ticks": ""
           },
           "bgcolor": "#E5ECF6",
           "radialaxis": {
            "gridcolor": "white",
            "linecolor": "white",
            "ticks": ""
           }
          },
          "scene": {
           "xaxis": {
            "backgroundcolor": "#E5ECF6",
            "gridcolor": "white",
            "gridwidth": 2,
            "linecolor": "white",
            "showbackground": true,
            "ticks": "",
            "zerolinecolor": "white"
           },
           "yaxis": {
            "backgroundcolor": "#E5ECF6",
            "gridcolor": "white",
            "gridwidth": 2,
            "linecolor": "white",
            "showbackground": true,
            "ticks": "",
            "zerolinecolor": "white"
           },
           "zaxis": {
            "backgroundcolor": "#E5ECF6",
            "gridcolor": "white",
            "gridwidth": 2,
            "linecolor": "white",
            "showbackground": true,
            "ticks": "",
            "zerolinecolor": "white"
           }
          },
          "shapedefaults": {
           "line": {
            "color": "#2a3f5f"
           }
          },
          "ternary": {
           "aaxis": {
            "gridcolor": "white",
            "linecolor": "white",
            "ticks": ""
           },
           "baxis": {
            "gridcolor": "white",
            "linecolor": "white",
            "ticks": ""
           },
           "bgcolor": "#E5ECF6",
           "caxis": {
            "gridcolor": "white",
            "linecolor": "white",
            "ticks": ""
           }
          },
          "title": {
           "x": 0.05
          },
          "xaxis": {
           "automargin": true,
           "gridcolor": "white",
           "linecolor": "white",
           "ticks": "",
           "title": {
            "standoff": 15
           },
           "zerolinecolor": "white",
           "zerolinewidth": 2
          },
          "yaxis": {
           "automargin": true,
           "gridcolor": "white",
           "linecolor": "white",
           "ticks": "",
           "title": {
            "standoff": 15
           },
           "zerolinecolor": "white",
           "zerolinewidth": 2
          }
         }
        }
       }
      }
     },
     "metadata": {},
     "output_type": "display_data"
    },
    {
     "name": "stdout",
     "output_type": "stream",
     "text": [
      "peak is[28, 37],trough is [18, 36, 44]\n",
      "peak_pos is [0.94029, 0.94304],trough_pos is [0.93274, 0.93628, 0.94091]\n"
     ]
    },
    {
     "data": {
      "application/vnd.plotly.v1+json": {
       "config": {
        "plotlyServerURL": "https://plot.ly"
       },
       "data": [
        {
         "close": [
          0.94353,
          0.94353,
          0.9446,
          0.93813,
          0.9391,
          0.93848,
          0.93858,
          0.93892,
          0.94007,
          0.94158,
          0.94051,
          0.94078,
          0.94016,
          0.941,
          0.94074,
          0.93994,
          0.93862,
          0.93686,
          0.9352,
          0.9345,
          0.93502,
          0.93606,
          0.9387,
          0.93852,
          0.93747,
          0.93572,
          0.93738,
          0.93844,
          0.93774,
          0.9387,
          0.93756,
          0.93826,
          0.93852,
          0.93888,
          0.93782,
          0.93924,
          0.9384,
          0.94171,
          0.94064,
          0.94109,
          0.94136,
          0.93844,
          0.941,
          0.94162,
          0.94295,
          0.94188,
          0.94224,
          0.9418,
          0.94144,
          0.94171,
          0.94162,
          0.94064,
          0.9387,
          0.9394,
          0.94002,
          0.93914,
          0.93782,
          0.93826,
          0.9387,
          0.93906,
          0.93818,
          0.93888,
          0.93852,
          0.93782,
          0.93808,
          0.93862,
          0.93985,
          0.9395,
          0.94038
         ],
         "high": [
          0.94353,
          0.94415,
          0.9446,
          0.94433,
          0.9391,
          0.93936,
          0.93892,
          0.9391,
          0.94007,
          0.94158,
          0.94193,
          0.94104,
          0.94096,
          0.94198,
          0.94171,
          0.94074,
          0.94002,
          0.93896,
          0.93782,
          0.93756,
          0.93536,
          0.93616,
          0.9387,
          0.9394,
          0.93879,
          0.93835,
          0.93782,
          0.93896,
          0.94029,
          0.93958,
          0.93906,
          0.93826,
          0.93906,
          0.93958,
          0.93976,
          0.94056,
          0.93968,
          0.94304,
          0.94295,
          0.94126,
          0.94304,
          0.94206,
          0.941,
          0.94278,
          0.94348,
          0.94331,
          0.94268,
          0.94242,
          0.94278,
          0.9425,
          0.94215,
          0.9425,
          0.94074,
          0.93958,
          0.94012,
          0.94002,
          0.9394,
          0.93862,
          0.93932,
          0.94002,
          0.93906,
          0.93924,
          0.93924,
          0.93924,
          0.9387,
          0.93958,
          0.93985,
          0.94002,
          0.94064
         ],
         "low": [
          0.93884,
          0.94291,
          0.94317,
          0.93813,
          0.93813,
          0.93822,
          0.93822,
          0.93813,
          0.9391,
          0.9398,
          0.94025,
          0.93936,
          0.93919,
          0.94002,
          0.94047,
          0.93976,
          0.93862,
          0.93624,
          0.93274,
          0.93396,
          0.9337,
          0.93466,
          0.9359,
          0.93808,
          0.93694,
          0.93528,
          0.93554,
          0.9373,
          0.93738,
          0.9373,
          0.93624,
          0.93704,
          0.93712,
          0.93844,
          0.93774,
          0.9373,
          0.93628,
          0.93804,
          0.93968,
          0.93818,
          0.94056,
          0.93826,
          0.93808,
          0.94029,
          0.94091,
          0.94118,
          0.94144,
          0.94171,
          0.94118,
          0.94118,
          0.9402,
          0.94047,
          0.93852,
          0.938,
          0.93924,
          0.93852,
          0.93774,
          0.93747,
          0.93808,
          0.9387,
          0.93791,
          0.938,
          0.93844,
          0.93774,
          0.9372,
          0.93808,
          0.93852,
          0.93914,
          0.9394
         ],
         "open": [
          0.93884,
          0.94317,
          0.94353,
          0.94406,
          0.9383,
          0.93936,
          0.9384,
          0.93874,
          0.93936,
          0.94016,
          0.94175,
          0.94069,
          0.94042,
          0.9402,
          0.941,
          0.94056,
          0.93994,
          0.9387,
          0.93704,
          0.93536,
          0.9345,
          0.93502,
          0.93632,
          0.9387,
          0.93844,
          0.93747,
          0.93572,
          0.93747,
          0.93862,
          0.93782,
          0.93896,
          0.93738,
          0.93818,
          0.93888,
          0.93896,
          0.93774,
          0.9394,
          0.93848,
          0.94171,
          0.94029,
          0.94118,
          0.94118,
          0.93835,
          0.94091,
          0.94162,
          0.94304,
          0.94188,
          0.94233,
          0.9418,
          0.94144,
          0.94171,
          0.94171,
          0.94064,
          0.93879,
          0.9394,
          0.94002,
          0.93906,
          0.93782,
          0.93835,
          0.9387,
          0.93906,
          0.93818,
          0.93888,
          0.93852,
          0.93818,
          0.93808,
          0.93862,
          0.93976,
          0.93968
         ],
         "type": "candlestick",
         "x": [
          0,
          1,
          2,
          3,
          4,
          5,
          6,
          7,
          8,
          9,
          10,
          11,
          12,
          13,
          14,
          15,
          16,
          17,
          18,
          19,
          20,
          21,
          22,
          23,
          24,
          25,
          26,
          27,
          28,
          29,
          30,
          31,
          32,
          33,
          34,
          35,
          36,
          37,
          38,
          39,
          40,
          41,
          42,
          43,
          44,
          45,
          46,
          47,
          48,
          49,
          50,
          51,
          52,
          53,
          54,
          55,
          56,
          57,
          58,
          59,
          60,
          61,
          62,
          63,
          64,
          65,
          66,
          67,
          68
         ]
        },
        {
         "marker": {
          "color": "blue",
          "size": 6
         },
         "mode": "markers",
         "type": "scatter",
         "x": [
          28,
          37
         ],
         "y": [
          0.94029,
          0.94304
         ]
        },
        {
         "marker": {
          "color": "yellow",
          "size": 6
         },
         "mode": "markers",
         "name": "trough",
         "type": "scatter",
         "x": [
          18,
          36,
          44
         ],
         "y": [
          0.93274,
          0.93628,
          0.94091
         ]
        },
        {
         "mode": "lines",
         "name": "max slope",
         "type": "scatter",
         "x": [
          28,
          37
         ],
         "y": [
          0.94304,
          0.94304
         ]
        },
        {
         "mode": "lines",
         "name": "min slope",
         "type": "scatter",
         "x": [
          18,
          36,
          44
         ],
         "y": [
          0.93628,
          0.93628,
          0.93628
         ]
        }
       ],
       "layout": {
        "template": {
         "data": {
          "bar": [
           {
            "error_x": {
             "color": "#2a3f5f"
            },
            "error_y": {
             "color": "#2a3f5f"
            },
            "marker": {
             "line": {
              "color": "#E5ECF6",
              "width": 0.5
             },
             "pattern": {
              "fillmode": "overlay",
              "size": 10,
              "solidity": 0.2
             }
            },
            "type": "bar"
           }
          ],
          "barpolar": [
           {
            "marker": {
             "line": {
              "color": "#E5ECF6",
              "width": 0.5
             },
             "pattern": {
              "fillmode": "overlay",
              "size": 10,
              "solidity": 0.2
             }
            },
            "type": "barpolar"
           }
          ],
          "carpet": [
           {
            "aaxis": {
             "endlinecolor": "#2a3f5f",
             "gridcolor": "white",
             "linecolor": "white",
             "minorgridcolor": "white",
             "startlinecolor": "#2a3f5f"
            },
            "baxis": {
             "endlinecolor": "#2a3f5f",
             "gridcolor": "white",
             "linecolor": "white",
             "minorgridcolor": "white",
             "startlinecolor": "#2a3f5f"
            },
            "type": "carpet"
           }
          ],
          "choropleth": [
           {
            "colorbar": {
             "outlinewidth": 0,
             "ticks": ""
            },
            "type": "choropleth"
           }
          ],
          "contour": [
           {
            "colorbar": {
             "outlinewidth": 0,
             "ticks": ""
            },
            "colorscale": [
             [
              0,
              "#0d0887"
             ],
             [
              0.1111111111111111,
              "#46039f"
             ],
             [
              0.2222222222222222,
              "#7201a8"
             ],
             [
              0.3333333333333333,
              "#9c179e"
             ],
             [
              0.4444444444444444,
              "#bd3786"
             ],
             [
              0.5555555555555556,
              "#d8576b"
             ],
             [
              0.6666666666666666,
              "#ed7953"
             ],
             [
              0.7777777777777778,
              "#fb9f3a"
             ],
             [
              0.8888888888888888,
              "#fdca26"
             ],
             [
              1,
              "#f0f921"
             ]
            ],
            "type": "contour"
           }
          ],
          "contourcarpet": [
           {
            "colorbar": {
             "outlinewidth": 0,
             "ticks": ""
            },
            "type": "contourcarpet"
           }
          ],
          "heatmap": [
           {
            "colorbar": {
             "outlinewidth": 0,
             "ticks": ""
            },
            "colorscale": [
             [
              0,
              "#0d0887"
             ],
             [
              0.1111111111111111,
              "#46039f"
             ],
             [
              0.2222222222222222,
              "#7201a8"
             ],
             [
              0.3333333333333333,
              "#9c179e"
             ],
             [
              0.4444444444444444,
              "#bd3786"
             ],
             [
              0.5555555555555556,
              "#d8576b"
             ],
             [
              0.6666666666666666,
              "#ed7953"
             ],
             [
              0.7777777777777778,
              "#fb9f3a"
             ],
             [
              0.8888888888888888,
              "#fdca26"
             ],
             [
              1,
              "#f0f921"
             ]
            ],
            "type": "heatmap"
           }
          ],
          "heatmapgl": [
           {
            "colorbar": {
             "outlinewidth": 0,
             "ticks": ""
            },
            "colorscale": [
             [
              0,
              "#0d0887"
             ],
             [
              0.1111111111111111,
              "#46039f"
             ],
             [
              0.2222222222222222,
              "#7201a8"
             ],
             [
              0.3333333333333333,
              "#9c179e"
             ],
             [
              0.4444444444444444,
              "#bd3786"
             ],
             [
              0.5555555555555556,
              "#d8576b"
             ],
             [
              0.6666666666666666,
              "#ed7953"
             ],
             [
              0.7777777777777778,
              "#fb9f3a"
             ],
             [
              0.8888888888888888,
              "#fdca26"
             ],
             [
              1,
              "#f0f921"
             ]
            ],
            "type": "heatmapgl"
           }
          ],
          "histogram": [
           {
            "marker": {
             "pattern": {
              "fillmode": "overlay",
              "size": 10,
              "solidity": 0.2
             }
            },
            "type": "histogram"
           }
          ],
          "histogram2d": [
           {
            "colorbar": {
             "outlinewidth": 0,
             "ticks": ""
            },
            "colorscale": [
             [
              0,
              "#0d0887"
             ],
             [
              0.1111111111111111,
              "#46039f"
             ],
             [
              0.2222222222222222,
              "#7201a8"
             ],
             [
              0.3333333333333333,
              "#9c179e"
             ],
             [
              0.4444444444444444,
              "#bd3786"
             ],
             [
              0.5555555555555556,
              "#d8576b"
             ],
             [
              0.6666666666666666,
              "#ed7953"
             ],
             [
              0.7777777777777778,
              "#fb9f3a"
             ],
             [
              0.8888888888888888,
              "#fdca26"
             ],
             [
              1,
              "#f0f921"
             ]
            ],
            "type": "histogram2d"
           }
          ],
          "histogram2dcontour": [
           {
            "colorbar": {
             "outlinewidth": 0,
             "ticks": ""
            },
            "colorscale": [
             [
              0,
              "#0d0887"
             ],
             [
              0.1111111111111111,
              "#46039f"
             ],
             [
              0.2222222222222222,
              "#7201a8"
             ],
             [
              0.3333333333333333,
              "#9c179e"
             ],
             [
              0.4444444444444444,
              "#bd3786"
             ],
             [
              0.5555555555555556,
              "#d8576b"
             ],
             [
              0.6666666666666666,
              "#ed7953"
             ],
             [
              0.7777777777777778,
              "#fb9f3a"
             ],
             [
              0.8888888888888888,
              "#fdca26"
             ],
             [
              1,
              "#f0f921"
             ]
            ],
            "type": "histogram2dcontour"
           }
          ],
          "mesh3d": [
           {
            "colorbar": {
             "outlinewidth": 0,
             "ticks": ""
            },
            "type": "mesh3d"
           }
          ],
          "parcoords": [
           {
            "line": {
             "colorbar": {
              "outlinewidth": 0,
              "ticks": ""
             }
            },
            "type": "parcoords"
           }
          ],
          "pie": [
           {
            "automargin": true,
            "type": "pie"
           }
          ],
          "scatter": [
           {
            "fillpattern": {
             "fillmode": "overlay",
             "size": 10,
             "solidity": 0.2
            },
            "type": "scatter"
           }
          ],
          "scatter3d": [
           {
            "line": {
             "colorbar": {
              "outlinewidth": 0,
              "ticks": ""
             }
            },
            "marker": {
             "colorbar": {
              "outlinewidth": 0,
              "ticks": ""
             }
            },
            "type": "scatter3d"
           }
          ],
          "scattercarpet": [
           {
            "marker": {
             "colorbar": {
              "outlinewidth": 0,
              "ticks": ""
             }
            },
            "type": "scattercarpet"
           }
          ],
          "scattergeo": [
           {
            "marker": {
             "colorbar": {
              "outlinewidth": 0,
              "ticks": ""
             }
            },
            "type": "scattergeo"
           }
          ],
          "scattergl": [
           {
            "marker": {
             "colorbar": {
              "outlinewidth": 0,
              "ticks": ""
             }
            },
            "type": "scattergl"
           }
          ],
          "scattermapbox": [
           {
            "marker": {
             "colorbar": {
              "outlinewidth": 0,
              "ticks": ""
             }
            },
            "type": "scattermapbox"
           }
          ],
          "scatterpolar": [
           {
            "marker": {
             "colorbar": {
              "outlinewidth": 0,
              "ticks": ""
             }
            },
            "type": "scatterpolar"
           }
          ],
          "scatterpolargl": [
           {
            "marker": {
             "colorbar": {
              "outlinewidth": 0,
              "ticks": ""
             }
            },
            "type": "scatterpolargl"
           }
          ],
          "scatterternary": [
           {
            "marker": {
             "colorbar": {
              "outlinewidth": 0,
              "ticks": ""
             }
            },
            "type": "scatterternary"
           }
          ],
          "surface": [
           {
            "colorbar": {
             "outlinewidth": 0,
             "ticks": ""
            },
            "colorscale": [
             [
              0,
              "#0d0887"
             ],
             [
              0.1111111111111111,
              "#46039f"
             ],
             [
              0.2222222222222222,
              "#7201a8"
             ],
             [
              0.3333333333333333,
              "#9c179e"
             ],
             [
              0.4444444444444444,
              "#bd3786"
             ],
             [
              0.5555555555555556,
              "#d8576b"
             ],
             [
              0.6666666666666666,
              "#ed7953"
             ],
             [
              0.7777777777777778,
              "#fb9f3a"
             ],
             [
              0.8888888888888888,
              "#fdca26"
             ],
             [
              1,
              "#f0f921"
             ]
            ],
            "type": "surface"
           }
          ],
          "table": [
           {
            "cells": {
             "fill": {
              "color": "#EBF0F8"
             },
             "line": {
              "color": "white"
             }
            },
            "header": {
             "fill": {
              "color": "#C8D4E3"
             },
             "line": {
              "color": "white"
             }
            },
            "type": "table"
           }
          ]
         },
         "layout": {
          "annotationdefaults": {
           "arrowcolor": "#2a3f5f",
           "arrowhead": 0,
           "arrowwidth": 1
          },
          "autotypenumbers": "strict",
          "coloraxis": {
           "colorbar": {
            "outlinewidth": 0,
            "ticks": ""
           }
          },
          "colorscale": {
           "diverging": [
            [
             0,
             "#8e0152"
            ],
            [
             0.1,
             "#c51b7d"
            ],
            [
             0.2,
             "#de77ae"
            ],
            [
             0.3,
             "#f1b6da"
            ],
            [
             0.4,
             "#fde0ef"
            ],
            [
             0.5,
             "#f7f7f7"
            ],
            [
             0.6,
             "#e6f5d0"
            ],
            [
             0.7,
             "#b8e186"
            ],
            [
             0.8,
             "#7fbc41"
            ],
            [
             0.9,
             "#4d9221"
            ],
            [
             1,
             "#276419"
            ]
           ],
           "sequential": [
            [
             0,
             "#0d0887"
            ],
            [
             0.1111111111111111,
             "#46039f"
            ],
            [
             0.2222222222222222,
             "#7201a8"
            ],
            [
             0.3333333333333333,
             "#9c179e"
            ],
            [
             0.4444444444444444,
             "#bd3786"
            ],
            [
             0.5555555555555556,
             "#d8576b"
            ],
            [
             0.6666666666666666,
             "#ed7953"
            ],
            [
             0.7777777777777778,
             "#fb9f3a"
            ],
            [
             0.8888888888888888,
             "#fdca26"
            ],
            [
             1,
             "#f0f921"
            ]
           ],
           "sequentialminus": [
            [
             0,
             "#0d0887"
            ],
            [
             0.1111111111111111,
             "#46039f"
            ],
            [
             0.2222222222222222,
             "#7201a8"
            ],
            [
             0.3333333333333333,
             "#9c179e"
            ],
            [
             0.4444444444444444,
             "#bd3786"
            ],
            [
             0.5555555555555556,
             "#d8576b"
            ],
            [
             0.6666666666666666,
             "#ed7953"
            ],
            [
             0.7777777777777778,
             "#fb9f3a"
            ],
            [
             0.8888888888888888,
             "#fdca26"
            ],
            [
             1,
             "#f0f921"
            ]
           ]
          },
          "colorway": [
           "#636efa",
           "#EF553B",
           "#00cc96",
           "#ab63fa",
           "#FFA15A",
           "#19d3f3",
           "#FF6692",
           "#B6E880",
           "#FF97FF",
           "#FECB52"
          ],
          "font": {
           "color": "#2a3f5f"
          },
          "geo": {
           "bgcolor": "white",
           "lakecolor": "white",
           "landcolor": "#E5ECF6",
           "showlakes": true,
           "showland": true,
           "subunitcolor": "white"
          },
          "hoverlabel": {
           "align": "left"
          },
          "hovermode": "closest",
          "mapbox": {
           "style": "light"
          },
          "paper_bgcolor": "white",
          "plot_bgcolor": "#E5ECF6",
          "polar": {
           "angularaxis": {
            "gridcolor": "white",
            "linecolor": "white",
            "ticks": ""
           },
           "bgcolor": "#E5ECF6",
           "radialaxis": {
            "gridcolor": "white",
            "linecolor": "white",
            "ticks": ""
           }
          },
          "scene": {
           "xaxis": {
            "backgroundcolor": "#E5ECF6",
            "gridcolor": "white",
            "gridwidth": 2,
            "linecolor": "white",
            "showbackground": true,
            "ticks": "",
            "zerolinecolor": "white"
           },
           "yaxis": {
            "backgroundcolor": "#E5ECF6",
            "gridcolor": "white",
            "gridwidth": 2,
            "linecolor": "white",
            "showbackground": true,
            "ticks": "",
            "zerolinecolor": "white"
           },
           "zaxis": {
            "backgroundcolor": "#E5ECF6",
            "gridcolor": "white",
            "gridwidth": 2,
            "linecolor": "white",
            "showbackground": true,
            "ticks": "",
            "zerolinecolor": "white"
           }
          },
          "shapedefaults": {
           "line": {
            "color": "#2a3f5f"
           }
          },
          "ternary": {
           "aaxis": {
            "gridcolor": "white",
            "linecolor": "white",
            "ticks": ""
           },
           "baxis": {
            "gridcolor": "white",
            "linecolor": "white",
            "ticks": ""
           },
           "bgcolor": "#E5ECF6",
           "caxis": {
            "gridcolor": "white",
            "linecolor": "white",
            "ticks": ""
           }
          },
          "title": {
           "x": 0.05
          },
          "xaxis": {
           "automargin": true,
           "gridcolor": "white",
           "linecolor": "white",
           "ticks": "",
           "title": {
            "standoff": 15
           },
           "zerolinecolor": "white",
           "zerolinewidth": 2
          },
          "yaxis": {
           "automargin": true,
           "gridcolor": "white",
           "linecolor": "white",
           "ticks": "",
           "title": {
            "standoff": 15
           },
           "zerolinecolor": "white",
           "zerolinewidth": 2
          }
         }
        }
       }
      }
     },
     "metadata": {},
     "output_type": "display_data"
    },
    {
     "name": "stdout",
     "output_type": "stream",
     "text": [
      "peak is[44, 64],trough is [36, 57, 69]\n",
      "peak_pos is [0.94348, 0.9387],trough_pos is [0.93628, 0.93747, 0.94038]\n"
     ]
    },
    {
     "data": {
      "application/vnd.plotly.v1+json": {
       "config": {
        "plotlyServerURL": "https://plot.ly"
       },
       "data": [
        {
         "close": [
          0.94078,
          0.94016,
          0.941,
          0.94074,
          0.93994,
          0.93862,
          0.93686,
          0.9352,
          0.9345,
          0.93502,
          0.93606,
          0.9387,
          0.93852,
          0.93747,
          0.93572,
          0.93738,
          0.93844,
          0.93774,
          0.9387,
          0.93756,
          0.93826,
          0.93852,
          0.93888,
          0.93782,
          0.93924,
          0.9384,
          0.94171,
          0.94064,
          0.94109,
          0.94136,
          0.93844,
          0.941,
          0.94162,
          0.94295,
          0.94188,
          0.94224,
          0.9418,
          0.94144,
          0.94171,
          0.94162,
          0.94064,
          0.9387,
          0.9394,
          0.94002,
          0.93914,
          0.93782,
          0.93826,
          0.9387,
          0.93906,
          0.93818,
          0.93888,
          0.93852,
          0.93782,
          0.93808,
          0.93862,
          0.93985,
          0.9395,
          0.94038,
          0.94109,
          0.94144,
          0.94029,
          0.93976,
          0.93884,
          0.94114,
          0.94122,
          0.94069,
          0.9398,
          0.93892,
          0.9391,
          0.93857,
          0.93919,
          0.94052,
          0.9376,
          0.93866,
          0.93892,
          0.93874,
          0.93866,
          0.93958,
          0.93901,
          0.94052,
          0.93637,
          0.93928,
          0.94122
         ],
         "high": [
          0.94104,
          0.94096,
          0.94198,
          0.94171,
          0.94074,
          0.94002,
          0.93896,
          0.93782,
          0.93756,
          0.93536,
          0.93616,
          0.9387,
          0.9394,
          0.93879,
          0.93835,
          0.93782,
          0.93896,
          0.94029,
          0.93958,
          0.93906,
          0.93826,
          0.93906,
          0.93958,
          0.93976,
          0.94056,
          0.93968,
          0.94304,
          0.94295,
          0.94126,
          0.94304,
          0.94206,
          0.941,
          0.94278,
          0.94348,
          0.94331,
          0.94268,
          0.94242,
          0.94278,
          0.9425,
          0.94215,
          0.9425,
          0.94074,
          0.93958,
          0.94012,
          0.94002,
          0.9394,
          0.93862,
          0.93932,
          0.94002,
          0.93906,
          0.93924,
          0.93924,
          0.93924,
          0.9387,
          0.93958,
          0.93985,
          0.94002,
          0.94064,
          0.94162,
          0.94162,
          0.94162,
          0.941,
          0.94091,
          0.94131,
          0.94273,
          0.94202,
          0.94184,
          0.94052,
          0.94034,
          0.94096,
          0.9399,
          0.94096,
          0.94096,
          0.9391,
          0.94024,
          0.93998,
          0.9391,
          0.94114,
          0.941,
          0.94228,
          0.94122,
          0.93972,
          0.9422
         ],
         "low": [
          0.93936,
          0.93919,
          0.94002,
          0.94047,
          0.93976,
          0.93862,
          0.93624,
          0.93274,
          0.93396,
          0.9337,
          0.93466,
          0.9359,
          0.93808,
          0.93694,
          0.93528,
          0.93554,
          0.9373,
          0.93738,
          0.9373,
          0.93624,
          0.93704,
          0.93712,
          0.93844,
          0.93774,
          0.9373,
          0.93628,
          0.93804,
          0.93968,
          0.93818,
          0.94056,
          0.93826,
          0.93808,
          0.94029,
          0.94091,
          0.94118,
          0.94144,
          0.94171,
          0.94118,
          0.94118,
          0.9402,
          0.94047,
          0.93852,
          0.938,
          0.93924,
          0.93852,
          0.93774,
          0.93747,
          0.93808,
          0.9387,
          0.93791,
          0.938,
          0.93844,
          0.93774,
          0.9372,
          0.93808,
          0.93852,
          0.93914,
          0.9394,
          0.94038,
          0.94091,
          0.93994,
          0.93924,
          0.93857,
          0.93857,
          0.94078,
          0.94016,
          0.93963,
          0.93874,
          0.93734,
          0.93857,
          0.93752,
          0.93892,
          0.93699,
          0.93646,
          0.93786,
          0.93752,
          0.93734,
          0.93866,
          0.93778,
          0.93857,
          0.93576,
          0.93585,
          0.93901
         ],
         "open": [
          0.94069,
          0.94042,
          0.9402,
          0.941,
          0.94056,
          0.93994,
          0.9387,
          0.93704,
          0.93536,
          0.9345,
          0.93502,
          0.93632,
          0.9387,
          0.93844,
          0.93747,
          0.93572,
          0.93747,
          0.93862,
          0.93782,
          0.93896,
          0.93738,
          0.93818,
          0.93888,
          0.93896,
          0.93774,
          0.9394,
          0.93848,
          0.94171,
          0.94029,
          0.94118,
          0.94118,
          0.93835,
          0.94091,
          0.94162,
          0.94304,
          0.94188,
          0.94233,
          0.9418,
          0.94144,
          0.94171,
          0.94171,
          0.94064,
          0.93879,
          0.9394,
          0.94002,
          0.93906,
          0.93782,
          0.93835,
          0.9387,
          0.93906,
          0.93818,
          0.93888,
          0.93852,
          0.93818,
          0.93808,
          0.93862,
          0.93976,
          0.93968,
          0.94038,
          0.94109,
          0.94144,
          0.94038,
          0.93976,
          0.93884,
          0.94114,
          0.94122,
          0.94069,
          0.9398,
          0.93892,
          0.93884,
          0.93857,
          0.93919,
          0.94052,
          0.93742,
          0.93874,
          0.93901,
          0.93874,
          0.93866,
          0.93968,
          0.93892,
          0.9406,
          0.9362,
          0.93928
         ],
         "type": "candlestick",
         "x": [
          11,
          12,
          13,
          14,
          15,
          16,
          17,
          18,
          19,
          20,
          21,
          22,
          23,
          24,
          25,
          26,
          27,
          28,
          29,
          30,
          31,
          32,
          33,
          34,
          35,
          36,
          37,
          38,
          39,
          40,
          41,
          42,
          43,
          44,
          45,
          46,
          47,
          48,
          49,
          50,
          51,
          52,
          53,
          54,
          55,
          56,
          57,
          58,
          59,
          60,
          61,
          62,
          63,
          64,
          65,
          66,
          67,
          68,
          69,
          70,
          71,
          72,
          73,
          74,
          75,
          76,
          77,
          78,
          79,
          80,
          81,
          82,
          83,
          84,
          85,
          86,
          87,
          88,
          89,
          90,
          91,
          92,
          93
         ]
        },
        {
         "marker": {
          "color": "blue",
          "size": 6
         },
         "mode": "markers",
         "type": "scatter",
         "x": [
          44,
          64
         ],
         "y": [
          0.94348,
          0.9387
         ]
        },
        {
         "marker": {
          "color": "yellow",
          "size": 6
         },
         "mode": "markers",
         "name": "trough",
         "type": "scatter",
         "x": [
          36,
          57,
          69
         ],
         "y": [
          0.93628,
          0.93747,
          0.94038
         ]
        },
        {
         "mode": "lines",
         "name": "max slope",
         "type": "scatter",
         "x": [
          44,
          64
         ],
         "y": [
          0.94348,
          0.94348
         ]
        },
        {
         "mode": "lines",
         "name": "min slope",
         "type": "scatter",
         "x": [
          36,
          57,
          69
         ],
         "y": [
          0.93747,
          0.93747,
          0.93747
         ]
        }
       ],
       "layout": {
        "template": {
         "data": {
          "bar": [
           {
            "error_x": {
             "color": "#2a3f5f"
            },
            "error_y": {
             "color": "#2a3f5f"
            },
            "marker": {
             "line": {
              "color": "#E5ECF6",
              "width": 0.5
             },
             "pattern": {
              "fillmode": "overlay",
              "size": 10,
              "solidity": 0.2
             }
            },
            "type": "bar"
           }
          ],
          "barpolar": [
           {
            "marker": {
             "line": {
              "color": "#E5ECF6",
              "width": 0.5
             },
             "pattern": {
              "fillmode": "overlay",
              "size": 10,
              "solidity": 0.2
             }
            },
            "type": "barpolar"
           }
          ],
          "carpet": [
           {
            "aaxis": {
             "endlinecolor": "#2a3f5f",
             "gridcolor": "white",
             "linecolor": "white",
             "minorgridcolor": "white",
             "startlinecolor": "#2a3f5f"
            },
            "baxis": {
             "endlinecolor": "#2a3f5f",
             "gridcolor": "white",
             "linecolor": "white",
             "minorgridcolor": "white",
             "startlinecolor": "#2a3f5f"
            },
            "type": "carpet"
           }
          ],
          "choropleth": [
           {
            "colorbar": {
             "outlinewidth": 0,
             "ticks": ""
            },
            "type": "choropleth"
           }
          ],
          "contour": [
           {
            "colorbar": {
             "outlinewidth": 0,
             "ticks": ""
            },
            "colorscale": [
             [
              0,
              "#0d0887"
             ],
             [
              0.1111111111111111,
              "#46039f"
             ],
             [
              0.2222222222222222,
              "#7201a8"
             ],
             [
              0.3333333333333333,
              "#9c179e"
             ],
             [
              0.4444444444444444,
              "#bd3786"
             ],
             [
              0.5555555555555556,
              "#d8576b"
             ],
             [
              0.6666666666666666,
              "#ed7953"
             ],
             [
              0.7777777777777778,
              "#fb9f3a"
             ],
             [
              0.8888888888888888,
              "#fdca26"
             ],
             [
              1,
              "#f0f921"
             ]
            ],
            "type": "contour"
           }
          ],
          "contourcarpet": [
           {
            "colorbar": {
             "outlinewidth": 0,
             "ticks": ""
            },
            "type": "contourcarpet"
           }
          ],
          "heatmap": [
           {
            "colorbar": {
             "outlinewidth": 0,
             "ticks": ""
            },
            "colorscale": [
             [
              0,
              "#0d0887"
             ],
             [
              0.1111111111111111,
              "#46039f"
             ],
             [
              0.2222222222222222,
              "#7201a8"
             ],
             [
              0.3333333333333333,
              "#9c179e"
             ],
             [
              0.4444444444444444,
              "#bd3786"
             ],
             [
              0.5555555555555556,
              "#d8576b"
             ],
             [
              0.6666666666666666,
              "#ed7953"
             ],
             [
              0.7777777777777778,
              "#fb9f3a"
             ],
             [
              0.8888888888888888,
              "#fdca26"
             ],
             [
              1,
              "#f0f921"
             ]
            ],
            "type": "heatmap"
           }
          ],
          "heatmapgl": [
           {
            "colorbar": {
             "outlinewidth": 0,
             "ticks": ""
            },
            "colorscale": [
             [
              0,
              "#0d0887"
             ],
             [
              0.1111111111111111,
              "#46039f"
             ],
             [
              0.2222222222222222,
              "#7201a8"
             ],
             [
              0.3333333333333333,
              "#9c179e"
             ],
             [
              0.4444444444444444,
              "#bd3786"
             ],
             [
              0.5555555555555556,
              "#d8576b"
             ],
             [
              0.6666666666666666,
              "#ed7953"
             ],
             [
              0.7777777777777778,
              "#fb9f3a"
             ],
             [
              0.8888888888888888,
              "#fdca26"
             ],
             [
              1,
              "#f0f921"
             ]
            ],
            "type": "heatmapgl"
           }
          ],
          "histogram": [
           {
            "marker": {
             "pattern": {
              "fillmode": "overlay",
              "size": 10,
              "solidity": 0.2
             }
            },
            "type": "histogram"
           }
          ],
          "histogram2d": [
           {
            "colorbar": {
             "outlinewidth": 0,
             "ticks": ""
            },
            "colorscale": [
             [
              0,
              "#0d0887"
             ],
             [
              0.1111111111111111,
              "#46039f"
             ],
             [
              0.2222222222222222,
              "#7201a8"
             ],
             [
              0.3333333333333333,
              "#9c179e"
             ],
             [
              0.4444444444444444,
              "#bd3786"
             ],
             [
              0.5555555555555556,
              "#d8576b"
             ],
             [
              0.6666666666666666,
              "#ed7953"
             ],
             [
              0.7777777777777778,
              "#fb9f3a"
             ],
             [
              0.8888888888888888,
              "#fdca26"
             ],
             [
              1,
              "#f0f921"
             ]
            ],
            "type": "histogram2d"
           }
          ],
          "histogram2dcontour": [
           {
            "colorbar": {
             "outlinewidth": 0,
             "ticks": ""
            },
            "colorscale": [
             [
              0,
              "#0d0887"
             ],
             [
              0.1111111111111111,
              "#46039f"
             ],
             [
              0.2222222222222222,
              "#7201a8"
             ],
             [
              0.3333333333333333,
              "#9c179e"
             ],
             [
              0.4444444444444444,
              "#bd3786"
             ],
             [
              0.5555555555555556,
              "#d8576b"
             ],
             [
              0.6666666666666666,
              "#ed7953"
             ],
             [
              0.7777777777777778,
              "#fb9f3a"
             ],
             [
              0.8888888888888888,
              "#fdca26"
             ],
             [
              1,
              "#f0f921"
             ]
            ],
            "type": "histogram2dcontour"
           }
          ],
          "mesh3d": [
           {
            "colorbar": {
             "outlinewidth": 0,
             "ticks": ""
            },
            "type": "mesh3d"
           }
          ],
          "parcoords": [
           {
            "line": {
             "colorbar": {
              "outlinewidth": 0,
              "ticks": ""
             }
            },
            "type": "parcoords"
           }
          ],
          "pie": [
           {
            "automargin": true,
            "type": "pie"
           }
          ],
          "scatter": [
           {
            "fillpattern": {
             "fillmode": "overlay",
             "size": 10,
             "solidity": 0.2
            },
            "type": "scatter"
           }
          ],
          "scatter3d": [
           {
            "line": {
             "colorbar": {
              "outlinewidth": 0,
              "ticks": ""
             }
            },
            "marker": {
             "colorbar": {
              "outlinewidth": 0,
              "ticks": ""
             }
            },
            "type": "scatter3d"
           }
          ],
          "scattercarpet": [
           {
            "marker": {
             "colorbar": {
              "outlinewidth": 0,
              "ticks": ""
             }
            },
            "type": "scattercarpet"
           }
          ],
          "scattergeo": [
           {
            "marker": {
             "colorbar": {
              "outlinewidth": 0,
              "ticks": ""
             }
            },
            "type": "scattergeo"
           }
          ],
          "scattergl": [
           {
            "marker": {
             "colorbar": {
              "outlinewidth": 0,
              "ticks": ""
             }
            },
            "type": "scattergl"
           }
          ],
          "scattermapbox": [
           {
            "marker": {
             "colorbar": {
              "outlinewidth": 0,
              "ticks": ""
             }
            },
            "type": "scattermapbox"
           }
          ],
          "scatterpolar": [
           {
            "marker": {
             "colorbar": {
              "outlinewidth": 0,
              "ticks": ""
             }
            },
            "type": "scatterpolar"
           }
          ],
          "scatterpolargl": [
           {
            "marker": {
             "colorbar": {
              "outlinewidth": 0,
              "ticks": ""
             }
            },
            "type": "scatterpolargl"
           }
          ],
          "scatterternary": [
           {
            "marker": {
             "colorbar": {
              "outlinewidth": 0,
              "ticks": ""
             }
            },
            "type": "scatterternary"
           }
          ],
          "surface": [
           {
            "colorbar": {
             "outlinewidth": 0,
             "ticks": ""
            },
            "colorscale": [
             [
              0,
              "#0d0887"
             ],
             [
              0.1111111111111111,
              "#46039f"
             ],
             [
              0.2222222222222222,
              "#7201a8"
             ],
             [
              0.3333333333333333,
              "#9c179e"
             ],
             [
              0.4444444444444444,
              "#bd3786"
             ],
             [
              0.5555555555555556,
              "#d8576b"
             ],
             [
              0.6666666666666666,
              "#ed7953"
             ],
             [
              0.7777777777777778,
              "#fb9f3a"
             ],
             [
              0.8888888888888888,
              "#fdca26"
             ],
             [
              1,
              "#f0f921"
             ]
            ],
            "type": "surface"
           }
          ],
          "table": [
           {
            "cells": {
             "fill": {
              "color": "#EBF0F8"
             },
             "line": {
              "color": "white"
             }
            },
            "header": {
             "fill": {
              "color": "#C8D4E3"
             },
             "line": {
              "color": "white"
             }
            },
            "type": "table"
           }
          ]
         },
         "layout": {
          "annotationdefaults": {
           "arrowcolor": "#2a3f5f",
           "arrowhead": 0,
           "arrowwidth": 1
          },
          "autotypenumbers": "strict",
          "coloraxis": {
           "colorbar": {
            "outlinewidth": 0,
            "ticks": ""
           }
          },
          "colorscale": {
           "diverging": [
            [
             0,
             "#8e0152"
            ],
            [
             0.1,
             "#c51b7d"
            ],
            [
             0.2,
             "#de77ae"
            ],
            [
             0.3,
             "#f1b6da"
            ],
            [
             0.4,
             "#fde0ef"
            ],
            [
             0.5,
             "#f7f7f7"
            ],
            [
             0.6,
             "#e6f5d0"
            ],
            [
             0.7,
             "#b8e186"
            ],
            [
             0.8,
             "#7fbc41"
            ],
            [
             0.9,
             "#4d9221"
            ],
            [
             1,
             "#276419"
            ]
           ],
           "sequential": [
            [
             0,
             "#0d0887"
            ],
            [
             0.1111111111111111,
             "#46039f"
            ],
            [
             0.2222222222222222,
             "#7201a8"
            ],
            [
             0.3333333333333333,
             "#9c179e"
            ],
            [
             0.4444444444444444,
             "#bd3786"
            ],
            [
             0.5555555555555556,
             "#d8576b"
            ],
            [
             0.6666666666666666,
             "#ed7953"
            ],
            [
             0.7777777777777778,
             "#fb9f3a"
            ],
            [
             0.8888888888888888,
             "#fdca26"
            ],
            [
             1,
             "#f0f921"
            ]
           ],
           "sequentialminus": [
            [
             0,
             "#0d0887"
            ],
            [
             0.1111111111111111,
             "#46039f"
            ],
            [
             0.2222222222222222,
             "#7201a8"
            ],
            [
             0.3333333333333333,
             "#9c179e"
            ],
            [
             0.4444444444444444,
             "#bd3786"
            ],
            [
             0.5555555555555556,
             "#d8576b"
            ],
            [
             0.6666666666666666,
             "#ed7953"
            ],
            [
             0.7777777777777778,
             "#fb9f3a"
            ],
            [
             0.8888888888888888,
             "#fdca26"
            ],
            [
             1,
             "#f0f921"
            ]
           ]
          },
          "colorway": [
           "#636efa",
           "#EF553B",
           "#00cc96",
           "#ab63fa",
           "#FFA15A",
           "#19d3f3",
           "#FF6692",
           "#B6E880",
           "#FF97FF",
           "#FECB52"
          ],
          "font": {
           "color": "#2a3f5f"
          },
          "geo": {
           "bgcolor": "white",
           "lakecolor": "white",
           "landcolor": "#E5ECF6",
           "showlakes": true,
           "showland": true,
           "subunitcolor": "white"
          },
          "hoverlabel": {
           "align": "left"
          },
          "hovermode": "closest",
          "mapbox": {
           "style": "light"
          },
          "paper_bgcolor": "white",
          "plot_bgcolor": "#E5ECF6",
          "polar": {
           "angularaxis": {
            "gridcolor": "white",
            "linecolor": "white",
            "ticks": ""
           },
           "bgcolor": "#E5ECF6",
           "radialaxis": {
            "gridcolor": "white",
            "linecolor": "white",
            "ticks": ""
           }
          },
          "scene": {
           "xaxis": {
            "backgroundcolor": "#E5ECF6",
            "gridcolor": "white",
            "gridwidth": 2,
            "linecolor": "white",
            "showbackground": true,
            "ticks": "",
            "zerolinecolor": "white"
           },
           "yaxis": {
            "backgroundcolor": "#E5ECF6",
            "gridcolor": "white",
            "gridwidth": 2,
            "linecolor": "white",
            "showbackground": true,
            "ticks": "",
            "zerolinecolor": "white"
           },
           "zaxis": {
            "backgroundcolor": "#E5ECF6",
            "gridcolor": "white",
            "gridwidth": 2,
            "linecolor": "white",
            "showbackground": true,
            "ticks": "",
            "zerolinecolor": "white"
           }
          },
          "shapedefaults": {
           "line": {
            "color": "#2a3f5f"
           }
          },
          "ternary": {
           "aaxis": {
            "gridcolor": "white",
            "linecolor": "white",
            "ticks": ""
           },
           "baxis": {
            "gridcolor": "white",
            "linecolor": "white",
            "ticks": ""
           },
           "bgcolor": "#E5ECF6",
           "caxis": {
            "gridcolor": "white",
            "linecolor": "white",
            "ticks": ""
           }
          },
          "title": {
           "x": 0.05
          },
          "xaxis": {
           "automargin": true,
           "gridcolor": "white",
           "linecolor": "white",
           "ticks": "",
           "title": {
            "standoff": 15
           },
           "zerolinecolor": "white",
           "zerolinewidth": 2
          },
          "yaxis": {
           "automargin": true,
           "gridcolor": "white",
           "linecolor": "white",
           "ticks": "",
           "title": {
            "standoff": 15
           },
           "zerolinecolor": "white",
           "zerolinewidth": 2
          }
         }
        }
       }
      }
     },
     "metadata": {},
     "output_type": "display_data"
    },
    {
     "name": "stdout",
     "output_type": "stream",
     "text": [
      "peak is[69, 75],trough is [57, 73, 84]\n",
      "peak_pos is [0.94162, 0.94273],trough_pos is [0.93747, 0.93857, 0.93646]\n"
     ]
    },
    {
     "data": {
      "application/vnd.plotly.v1+json": {
       "config": {
        "plotlyServerURL": "https://plot.ly"
       },
       "data": [
        {
         "close": [
          0.93852,
          0.93888,
          0.93782,
          0.93924,
          0.9384,
          0.94171,
          0.94064,
          0.94109,
          0.94136,
          0.93844,
          0.941,
          0.94162,
          0.94295,
          0.94188,
          0.94224,
          0.9418,
          0.94144,
          0.94171,
          0.94162,
          0.94064,
          0.9387,
          0.9394,
          0.94002,
          0.93914,
          0.93782,
          0.93826,
          0.9387,
          0.93906,
          0.93818,
          0.93888,
          0.93852,
          0.93782,
          0.93808,
          0.93862,
          0.93985,
          0.9395,
          0.94038,
          0.94109,
          0.94144,
          0.94029,
          0.93976,
          0.93884,
          0.94114,
          0.94122,
          0.94069,
          0.9398,
          0.93892,
          0.9391,
          0.93857,
          0.93919,
          0.94052,
          0.9376,
          0.93866,
          0.93892,
          0.93874,
          0.93866,
          0.93958,
          0.93901,
          0.94052,
          0.93637,
          0.93928,
          0.94122,
          0.93892,
          0.93919,
          0.9383,
          0.93786,
          0.93532,
          0.93558,
          0.93541,
          0.9362,
          0.93646,
          0.93567,
          0.93488,
          0.93471,
          0.93506,
          0.93558,
          0.93541
         ],
         "high": [
          0.93906,
          0.93958,
          0.93976,
          0.94056,
          0.93968,
          0.94304,
          0.94295,
          0.94126,
          0.94304,
          0.94206,
          0.941,
          0.94278,
          0.94348,
          0.94331,
          0.94268,
          0.94242,
          0.94278,
          0.9425,
          0.94215,
          0.9425,
          0.94074,
          0.93958,
          0.94012,
          0.94002,
          0.9394,
          0.93862,
          0.93932,
          0.94002,
          0.93906,
          0.93924,
          0.93924,
          0.93924,
          0.9387,
          0.93958,
          0.93985,
          0.94002,
          0.94064,
          0.94162,
          0.94162,
          0.94162,
          0.941,
          0.94091,
          0.94131,
          0.94273,
          0.94202,
          0.94184,
          0.94052,
          0.94034,
          0.94096,
          0.9399,
          0.94096,
          0.94096,
          0.9391,
          0.94024,
          0.93998,
          0.9391,
          0.94114,
          0.941,
          0.94228,
          0.94122,
          0.93972,
          0.9422,
          0.94158,
          0.93972,
          0.9398,
          0.9384,
          0.9391,
          0.93585,
          0.93585,
          0.93742,
          0.93708,
          0.93725,
          0.93594,
          0.9355,
          0.93515,
          0.93594,
          0.93594
         ],
         "low": [
          0.93712,
          0.93844,
          0.93774,
          0.9373,
          0.93628,
          0.93804,
          0.93968,
          0.93818,
          0.94056,
          0.93826,
          0.93808,
          0.94029,
          0.94091,
          0.94118,
          0.94144,
          0.94171,
          0.94118,
          0.94118,
          0.9402,
          0.94047,
          0.93852,
          0.938,
          0.93924,
          0.93852,
          0.93774,
          0.93747,
          0.93808,
          0.9387,
          0.93791,
          0.938,
          0.93844,
          0.93774,
          0.9372,
          0.93808,
          0.93852,
          0.93914,
          0.9394,
          0.94038,
          0.94091,
          0.93994,
          0.93924,
          0.93857,
          0.93857,
          0.94078,
          0.94016,
          0.93963,
          0.93874,
          0.93734,
          0.93857,
          0.93752,
          0.93892,
          0.93699,
          0.93646,
          0.93786,
          0.93752,
          0.93734,
          0.93866,
          0.93778,
          0.93857,
          0.93576,
          0.93585,
          0.93901,
          0.93637,
          0.93778,
          0.9383,
          0.93646,
          0.93532,
          0.93436,
          0.93454,
          0.93532,
          0.93558,
          0.9355,
          0.9341,
          0.93366,
          0.93392,
          0.93454,
          0.93488
         ],
         "open": [
          0.93818,
          0.93888,
          0.93896,
          0.93774,
          0.9394,
          0.93848,
          0.94171,
          0.94029,
          0.94118,
          0.94118,
          0.93835,
          0.94091,
          0.94162,
          0.94304,
          0.94188,
          0.94233,
          0.9418,
          0.94144,
          0.94171,
          0.94171,
          0.94064,
          0.93879,
          0.9394,
          0.94002,
          0.93906,
          0.93782,
          0.93835,
          0.9387,
          0.93906,
          0.93818,
          0.93888,
          0.93852,
          0.93818,
          0.93808,
          0.93862,
          0.93976,
          0.93968,
          0.94038,
          0.94109,
          0.94144,
          0.94038,
          0.93976,
          0.93884,
          0.94114,
          0.94122,
          0.94069,
          0.9398,
          0.93892,
          0.93884,
          0.93857,
          0.93919,
          0.94052,
          0.93742,
          0.93874,
          0.93901,
          0.93874,
          0.93866,
          0.93968,
          0.93892,
          0.9406,
          0.9362,
          0.93928,
          0.94122,
          0.93892,
          0.93919,
          0.9383,
          0.93786,
          0.93532,
          0.93558,
          0.93541,
          0.9362,
          0.93655,
          0.93567,
          0.93488,
          0.93445,
          0.93497,
          0.93541
         ],
         "type": "candlestick",
         "x": [
          32,
          33,
          34,
          35,
          36,
          37,
          38,
          39,
          40,
          41,
          42,
          43,
          44,
          45,
          46,
          47,
          48,
          49,
          50,
          51,
          52,
          53,
          54,
          55,
          56,
          57,
          58,
          59,
          60,
          61,
          62,
          63,
          64,
          65,
          66,
          67,
          68,
          69,
          70,
          71,
          72,
          73,
          74,
          75,
          76,
          77,
          78,
          79,
          80,
          81,
          82,
          83,
          84,
          85,
          86,
          87,
          88,
          89,
          90,
          91,
          92,
          93,
          94,
          95,
          96,
          97,
          98,
          99,
          100,
          101,
          102,
          103,
          104,
          105,
          106,
          107,
          108
         ]
        },
        {
         "marker": {
          "color": "blue",
          "size": 6
         },
         "mode": "markers",
         "type": "scatter",
         "x": [
          69,
          75
         ],
         "y": [
          0.94162,
          0.94273
         ]
        },
        {
         "marker": {
          "color": "yellow",
          "size": 6
         },
         "mode": "markers",
         "name": "trough",
         "type": "scatter",
         "x": [
          57,
          73,
          84
         ],
         "y": [
          0.93747,
          0.93857,
          0.93646
         ]
        },
        {
         "mode": "lines",
         "name": "max slope",
         "type": "scatter",
         "x": [
          69,
          75
         ],
         "y": [
          0.94273,
          0.94273
         ]
        },
        {
         "mode": "lines",
         "name": "min slope",
         "type": "scatter",
         "x": [
          57,
          73,
          84
         ],
         "y": [
          0.93857,
          0.93857,
          0.93857
         ]
        }
       ],
       "layout": {
        "template": {
         "data": {
          "bar": [
           {
            "error_x": {
             "color": "#2a3f5f"
            },
            "error_y": {
             "color": "#2a3f5f"
            },
            "marker": {
             "line": {
              "color": "#E5ECF6",
              "width": 0.5
             },
             "pattern": {
              "fillmode": "overlay",
              "size": 10,
              "solidity": 0.2
             }
            },
            "type": "bar"
           }
          ],
          "barpolar": [
           {
            "marker": {
             "line": {
              "color": "#E5ECF6",
              "width": 0.5
             },
             "pattern": {
              "fillmode": "overlay",
              "size": 10,
              "solidity": 0.2
             }
            },
            "type": "barpolar"
           }
          ],
          "carpet": [
           {
            "aaxis": {
             "endlinecolor": "#2a3f5f",
             "gridcolor": "white",
             "linecolor": "white",
             "minorgridcolor": "white",
             "startlinecolor": "#2a3f5f"
            },
            "baxis": {
             "endlinecolor": "#2a3f5f",
             "gridcolor": "white",
             "linecolor": "white",
             "minorgridcolor": "white",
             "startlinecolor": "#2a3f5f"
            },
            "type": "carpet"
           }
          ],
          "choropleth": [
           {
            "colorbar": {
             "outlinewidth": 0,
             "ticks": ""
            },
            "type": "choropleth"
           }
          ],
          "contour": [
           {
            "colorbar": {
             "outlinewidth": 0,
             "ticks": ""
            },
            "colorscale": [
             [
              0,
              "#0d0887"
             ],
             [
              0.1111111111111111,
              "#46039f"
             ],
             [
              0.2222222222222222,
              "#7201a8"
             ],
             [
              0.3333333333333333,
              "#9c179e"
             ],
             [
              0.4444444444444444,
              "#bd3786"
             ],
             [
              0.5555555555555556,
              "#d8576b"
             ],
             [
              0.6666666666666666,
              "#ed7953"
             ],
             [
              0.7777777777777778,
              "#fb9f3a"
             ],
             [
              0.8888888888888888,
              "#fdca26"
             ],
             [
              1,
              "#f0f921"
             ]
            ],
            "type": "contour"
           }
          ],
          "contourcarpet": [
           {
            "colorbar": {
             "outlinewidth": 0,
             "ticks": ""
            },
            "type": "contourcarpet"
           }
          ],
          "heatmap": [
           {
            "colorbar": {
             "outlinewidth": 0,
             "ticks": ""
            },
            "colorscale": [
             [
              0,
              "#0d0887"
             ],
             [
              0.1111111111111111,
              "#46039f"
             ],
             [
              0.2222222222222222,
              "#7201a8"
             ],
             [
              0.3333333333333333,
              "#9c179e"
             ],
             [
              0.4444444444444444,
              "#bd3786"
             ],
             [
              0.5555555555555556,
              "#d8576b"
             ],
             [
              0.6666666666666666,
              "#ed7953"
             ],
             [
              0.7777777777777778,
              "#fb9f3a"
             ],
             [
              0.8888888888888888,
              "#fdca26"
             ],
             [
              1,
              "#f0f921"
             ]
            ],
            "type": "heatmap"
           }
          ],
          "heatmapgl": [
           {
            "colorbar": {
             "outlinewidth": 0,
             "ticks": ""
            },
            "colorscale": [
             [
              0,
              "#0d0887"
             ],
             [
              0.1111111111111111,
              "#46039f"
             ],
             [
              0.2222222222222222,
              "#7201a8"
             ],
             [
              0.3333333333333333,
              "#9c179e"
             ],
             [
              0.4444444444444444,
              "#bd3786"
             ],
             [
              0.5555555555555556,
              "#d8576b"
             ],
             [
              0.6666666666666666,
              "#ed7953"
             ],
             [
              0.7777777777777778,
              "#fb9f3a"
             ],
             [
              0.8888888888888888,
              "#fdca26"
             ],
             [
              1,
              "#f0f921"
             ]
            ],
            "type": "heatmapgl"
           }
          ],
          "histogram": [
           {
            "marker": {
             "pattern": {
              "fillmode": "overlay",
              "size": 10,
              "solidity": 0.2
             }
            },
            "type": "histogram"
           }
          ],
          "histogram2d": [
           {
            "colorbar": {
             "outlinewidth": 0,
             "ticks": ""
            },
            "colorscale": [
             [
              0,
              "#0d0887"
             ],
             [
              0.1111111111111111,
              "#46039f"
             ],
             [
              0.2222222222222222,
              "#7201a8"
             ],
             [
              0.3333333333333333,
              "#9c179e"
             ],
             [
              0.4444444444444444,
              "#bd3786"
             ],
             [
              0.5555555555555556,
              "#d8576b"
             ],
             [
              0.6666666666666666,
              "#ed7953"
             ],
             [
              0.7777777777777778,
              "#fb9f3a"
             ],
             [
              0.8888888888888888,
              "#fdca26"
             ],
             [
              1,
              "#f0f921"
             ]
            ],
            "type": "histogram2d"
           }
          ],
          "histogram2dcontour": [
           {
            "colorbar": {
             "outlinewidth": 0,
             "ticks": ""
            },
            "colorscale": [
             [
              0,
              "#0d0887"
             ],
             [
              0.1111111111111111,
              "#46039f"
             ],
             [
              0.2222222222222222,
              "#7201a8"
             ],
             [
              0.3333333333333333,
              "#9c179e"
             ],
             [
              0.4444444444444444,
              "#bd3786"
             ],
             [
              0.5555555555555556,
              "#d8576b"
             ],
             [
              0.6666666666666666,
              "#ed7953"
             ],
             [
              0.7777777777777778,
              "#fb9f3a"
             ],
             [
              0.8888888888888888,
              "#fdca26"
             ],
             [
              1,
              "#f0f921"
             ]
            ],
            "type": "histogram2dcontour"
           }
          ],
          "mesh3d": [
           {
            "colorbar": {
             "outlinewidth": 0,
             "ticks": ""
            },
            "type": "mesh3d"
           }
          ],
          "parcoords": [
           {
            "line": {
             "colorbar": {
              "outlinewidth": 0,
              "ticks": ""
             }
            },
            "type": "parcoords"
           }
          ],
          "pie": [
           {
            "automargin": true,
            "type": "pie"
           }
          ],
          "scatter": [
           {
            "fillpattern": {
             "fillmode": "overlay",
             "size": 10,
             "solidity": 0.2
            },
            "type": "scatter"
           }
          ],
          "scatter3d": [
           {
            "line": {
             "colorbar": {
              "outlinewidth": 0,
              "ticks": ""
             }
            },
            "marker": {
             "colorbar": {
              "outlinewidth": 0,
              "ticks": ""
             }
            },
            "type": "scatter3d"
           }
          ],
          "scattercarpet": [
           {
            "marker": {
             "colorbar": {
              "outlinewidth": 0,
              "ticks": ""
             }
            },
            "type": "scattercarpet"
           }
          ],
          "scattergeo": [
           {
            "marker": {
             "colorbar": {
              "outlinewidth": 0,
              "ticks": ""
             }
            },
            "type": "scattergeo"
           }
          ],
          "scattergl": [
           {
            "marker": {
             "colorbar": {
              "outlinewidth": 0,
              "ticks": ""
             }
            },
            "type": "scattergl"
           }
          ],
          "scattermapbox": [
           {
            "marker": {
             "colorbar": {
              "outlinewidth": 0,
              "ticks": ""
             }
            },
            "type": "scattermapbox"
           }
          ],
          "scatterpolar": [
           {
            "marker": {
             "colorbar": {
              "outlinewidth": 0,
              "ticks": ""
             }
            },
            "type": "scatterpolar"
           }
          ],
          "scatterpolargl": [
           {
            "marker": {
             "colorbar": {
              "outlinewidth": 0,
              "ticks": ""
             }
            },
            "type": "scatterpolargl"
           }
          ],
          "scatterternary": [
           {
            "marker": {
             "colorbar": {
              "outlinewidth": 0,
              "ticks": ""
             }
            },
            "type": "scatterternary"
           }
          ],
          "surface": [
           {
            "colorbar": {
             "outlinewidth": 0,
             "ticks": ""
            },
            "colorscale": [
             [
              0,
              "#0d0887"
             ],
             [
              0.1111111111111111,
              "#46039f"
             ],
             [
              0.2222222222222222,
              "#7201a8"
             ],
             [
              0.3333333333333333,
              "#9c179e"
             ],
             [
              0.4444444444444444,
              "#bd3786"
             ],
             [
              0.5555555555555556,
              "#d8576b"
             ],
             [
              0.6666666666666666,
              "#ed7953"
             ],
             [
              0.7777777777777778,
              "#fb9f3a"
             ],
             [
              0.8888888888888888,
              "#fdca26"
             ],
             [
              1,
              "#f0f921"
             ]
            ],
            "type": "surface"
           }
          ],
          "table": [
           {
            "cells": {
             "fill": {
              "color": "#EBF0F8"
             },
             "line": {
              "color": "white"
             }
            },
            "header": {
             "fill": {
              "color": "#C8D4E3"
             },
             "line": {
              "color": "white"
             }
            },
            "type": "table"
           }
          ]
         },
         "layout": {
          "annotationdefaults": {
           "arrowcolor": "#2a3f5f",
           "arrowhead": 0,
           "arrowwidth": 1
          },
          "autotypenumbers": "strict",
          "coloraxis": {
           "colorbar": {
            "outlinewidth": 0,
            "ticks": ""
           }
          },
          "colorscale": {
           "diverging": [
            [
             0,
             "#8e0152"
            ],
            [
             0.1,
             "#c51b7d"
            ],
            [
             0.2,
             "#de77ae"
            ],
            [
             0.3,
             "#f1b6da"
            ],
            [
             0.4,
             "#fde0ef"
            ],
            [
             0.5,
             "#f7f7f7"
            ],
            [
             0.6,
             "#e6f5d0"
            ],
            [
             0.7,
             "#b8e186"
            ],
            [
             0.8,
             "#7fbc41"
            ],
            [
             0.9,
             "#4d9221"
            ],
            [
             1,
             "#276419"
            ]
           ],
           "sequential": [
            [
             0,
             "#0d0887"
            ],
            [
             0.1111111111111111,
             "#46039f"
            ],
            [
             0.2222222222222222,
             "#7201a8"
            ],
            [
             0.3333333333333333,
             "#9c179e"
            ],
            [
             0.4444444444444444,
             "#bd3786"
            ],
            [
             0.5555555555555556,
             "#d8576b"
            ],
            [
             0.6666666666666666,
             "#ed7953"
            ],
            [
             0.7777777777777778,
             "#fb9f3a"
            ],
            [
             0.8888888888888888,
             "#fdca26"
            ],
            [
             1,
             "#f0f921"
            ]
           ],
           "sequentialminus": [
            [
             0,
             "#0d0887"
            ],
            [
             0.1111111111111111,
             "#46039f"
            ],
            [
             0.2222222222222222,
             "#7201a8"
            ],
            [
             0.3333333333333333,
             "#9c179e"
            ],
            [
             0.4444444444444444,
             "#bd3786"
            ],
            [
             0.5555555555555556,
             "#d8576b"
            ],
            [
             0.6666666666666666,
             "#ed7953"
            ],
            [
             0.7777777777777778,
             "#fb9f3a"
            ],
            [
             0.8888888888888888,
             "#fdca26"
            ],
            [
             1,
             "#f0f921"
            ]
           ]
          },
          "colorway": [
           "#636efa",
           "#EF553B",
           "#00cc96",
           "#ab63fa",
           "#FFA15A",
           "#19d3f3",
           "#FF6692",
           "#B6E880",
           "#FF97FF",
           "#FECB52"
          ],
          "font": {
           "color": "#2a3f5f"
          },
          "geo": {
           "bgcolor": "white",
           "lakecolor": "white",
           "landcolor": "#E5ECF6",
           "showlakes": true,
           "showland": true,
           "subunitcolor": "white"
          },
          "hoverlabel": {
           "align": "left"
          },
          "hovermode": "closest",
          "mapbox": {
           "style": "light"
          },
          "paper_bgcolor": "white",
          "plot_bgcolor": "#E5ECF6",
          "polar": {
           "angularaxis": {
            "gridcolor": "white",
            "linecolor": "white",
            "ticks": ""
           },
           "bgcolor": "#E5ECF6",
           "radialaxis": {
            "gridcolor": "white",
            "linecolor": "white",
            "ticks": ""
           }
          },
          "scene": {
           "xaxis": {
            "backgroundcolor": "#E5ECF6",
            "gridcolor": "white",
            "gridwidth": 2,
            "linecolor": "white",
            "showbackground": true,
            "ticks": "",
            "zerolinecolor": "white"
           },
           "yaxis": {
            "backgroundcolor": "#E5ECF6",
            "gridcolor": "white",
            "gridwidth": 2,
            "linecolor": "white",
            "showbackground": true,
            "ticks": "",
            "zerolinecolor": "white"
           },
           "zaxis": {
            "backgroundcolor": "#E5ECF6",
            "gridcolor": "white",
            "gridwidth": 2,
            "linecolor": "white",
            "showbackground": true,
            "ticks": "",
            "zerolinecolor": "white"
           }
          },
          "shapedefaults": {
           "line": {
            "color": "#2a3f5f"
           }
          },
          "ternary": {
           "aaxis": {
            "gridcolor": "white",
            "linecolor": "white",
            "ticks": ""
           },
           "baxis": {
            "gridcolor": "white",
            "linecolor": "white",
            "ticks": ""
           },
           "bgcolor": "#E5ECF6",
           "caxis": {
            "gridcolor": "white",
            "linecolor": "white",
            "ticks": ""
           }
          },
          "title": {
           "x": 0.05
          },
          "xaxis": {
           "automargin": true,
           "gridcolor": "white",
           "linecolor": "white",
           "ticks": "",
           "title": {
            "standoff": 15
           },
           "zerolinecolor": "white",
           "zerolinewidth": 2
          },
          "yaxis": {
           "automargin": true,
           "gridcolor": "white",
           "linecolor": "white",
           "ticks": "",
           "title": {
            "standoff": 15
           },
           "zerolinecolor": "white",
           "zerolinewidth": 2
          }
         }
        }
       }
      }
     },
     "metadata": {},
     "output_type": "display_data"
    }
   ],
   "source": [
    "for i in range(0,2000):  \n",
    "    peak,trough =[],[]\n",
    "    peak_pos,trough_pos =[],[]\n",
    "    if data.iloc[i].pivot == 1:\n",
    "        trough.append(data.iloc[i].id)\n",
    "        trough_pos.append(data.iloc[i].low)\n",
    "\n",
    "        n = 1\n",
    "        while data.iloc[i+n+1].high>data.iloc[i+n].high:\n",
    "            n+=1\n",
    "        peak.append(data.iloc[i+n].id)\n",
    "        peak_pos.append(data.iloc[i+n].high)\n",
    "\n",
    "        m=1\n",
    "        while data.iloc[i+m+n+1].high<data.iloc[i+n+m].high and abs(data.iloc[i+m+n].low- data.iloc[i].low)<0.0001:\n",
    "            m+=1\n",
    "        trough.append(data.iloc[i+m+n].id)\n",
    "        trough_pos.append(data.iloc[i+m+n].low)\n",
    "        \n",
    "        k=1\n",
    "        while data.iloc[i+m+k+n+1].high>data.iloc[i+n+m].high and abs(data.iloc[i+m+n+k].high- data.iloc[i+n].high)<0.0001:\n",
    "            k += 1\n",
    "        peak.append(data.iloc[i+n+m+k].id)\n",
    "        peak_pos.append(data.iloc[i+n+m+k].high)\n",
    "     \n",
    "        j=1\n",
    "        while data.iloc[i+n+m+k+j+1].high<data.iloc[i+m+k+n+1].high and abs(data.iloc[i+n+m+k+j].low-data.iloc[i].low)<0.0001:\n",
    "            j += 1\n",
    "    \n",
    "        trough.append(data.iloc[i+n+m+k+j].id)\n",
    "        trough_pos.append(data.iloc[i+n+m+k+j].low)\n",
    "      \n",
    "        print(f'peak is{peak},trough is {trough}')\n",
    "        print(f'peak_pos is {peak_pos},trough_pos is {trough_pos}')\n",
    "        dfpl = df[max(0,data.iloc[i].id-25):min(data.iloc[i+n+m+k+j].id+25,len(df))]\n",
    "        fig = go.Figure(data=[go.Candlestick(x=dfpl.index,\n",
    "                        open=dfpl['open'],\n",
    "                        high=dfpl['high'],\n",
    "                        low=dfpl['low'],\n",
    "                        close=dfpl['close'])])\n",
    "\n",
    "\n",
    "        fig.add_scatter(x=peak,y=peak_pos,\n",
    "                                    mode = \"markers\",\n",
    "                                    marker = dict(size=6,color = \"blue\")\n",
    "                                   )\n",
    "                    \n",
    "        fig.add_scatter(x=trough,y=trough_pos,\n",
    "                                    mode = \"markers\",\n",
    "                                    marker = dict(size=6,color = \"yellow\"),\n",
    "                                   name=\"trough\")\n",
    "\n",
    "        fig.add_trace(go.Scatter(x=peak, y=[max(peak_pos),max(peak_pos)], mode='lines', name='max slope'))\n",
    "        fig.add_trace(go.Scatter(x=trough, y=[trough_pos[1],trough_pos[1],trough_pos[1]], mode='lines', name='min slope'))\n",
    "        fig.show()\n",
    "                    \n",
    "\n",
    "            \n",
    "\n",
    "\n",
    "\n",
    "\n",
    "\n",
    "        \n",
    "        \n",
    "        \n",
    "        "
   ]
  }
 ],
 "metadata": {
  "kernelspec": {
   "display_name": "Python 3.9.7 ('base')",
   "language": "python",
   "name": "python3"
  },
  "language_info": {
   "codemirror_mode": {
    "name": "ipython",
    "version": 3
   },
   "file_extension": ".py",
   "mimetype": "text/x-python",
   "name": "python",
   "nbconvert_exporter": "python",
   "pygments_lexer": "ipython3",
   "version": "3.9.7"
  },
  "orig_nbformat": 4,
  "vscode": {
   "interpreter": {
    "hash": "071ef11f4113c0ed898f9043e861d1d8de6d41c4f8b185b2037310e28547bc80"
   }
  }
 },
 "nbformat": 4,
 "nbformat_minor": 2
}
