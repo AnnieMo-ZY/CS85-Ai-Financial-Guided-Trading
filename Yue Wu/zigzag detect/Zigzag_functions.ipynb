{
 "cells": [
  {
   "cell_type": "markdown",
   "metadata": {
    "colab_type": "text",
    "id": "GnruKp8rHNrd"
   },
   "source": [
    "### Zigzag functions "
   ]
  },
  {
   "cell_type": "code",
   "execution_count": 1,
   "metadata": {
    "colab": {},
    "colab_type": "code",
    "id": "rPuptEzWHNr5"
   },
   "outputs": [],
   "source": [
    "#import talib\n",
    "\n",
    "import matplotlib.pyplot as plt\n",
    "import numpy as np\n",
    "import pandas as pd\n",
    "from datetime import datetime\n",
    "import time\n",
    "\n",
    "import matplotlib.dates as mdates\n",
    "from matplotlib.dates import MONDAY, DateFormatter, DayLocator, WeekdayLocator\n",
    "from datetime import timedelta\n",
    "#from mpl_finance import candlestick2_ohlc, candlestick_ohlc\n",
    "import matplotlib.ticker as ticker\n",
    "\n",
    "from scipy.spatial import distance \n",
    "from sklearn.utils import validation\n",
    "from sklearn.metrics import pairwise\n",
    "from scipy.sparse import issparse"
   ]
  },
  {
   "cell_type": "code",
   "execution_count": 2,
   "metadata": {
    "colab": {},
    "colab_type": "code",
    "id": "LIGMGI_jHNre"
   },
   "outputs": [],
   "source": [
    "def get_zigzag(df, InpDepth, InpDeviation, InpBackstep, pip): \n",
    "  \n",
    "    bars=len(df)  \n",
    "    high=list(df.high)\n",
    "    low=list(df.low)\n",
    "    #high=[0 if x==10 else x for x in high]\n",
    "\n",
    "    prev_calculated=0  \n",
    "    ExtLevel=3\n",
    "\n",
    "    i=0\n",
    "    limit=0\n",
    "    counterZ=0\n",
    "    whatlookfor=0\n",
    "\n",
    "    back=0\n",
    "    pos=0\n",
    "    lasthighpos=0\n",
    "    lastlowpos=0\n",
    "\n",
    "    curlow=0\n",
    "    curhigh=0\n",
    "    lasthigh=0\n",
    "    lastlow=0\n",
    "\n",
    "    point = pip # 0.0001 # pips\n",
    "\n",
    "    if(InpBackstep>=InpDepth):\n",
    "        print(\"Backstep cannot be greater or equal to Depth\")\n",
    "        pass\n",
    "\n",
    "    #check for history and inputs\n",
    "    if(bars<InpDepth or InpBackstep>=InpDepth):\n",
    "        return 0\n",
    "        pass\n",
    "\n",
    "    # first calculations\n",
    "    if prev_calculated==0:\n",
    "        ExtZigzagBuffer=[0]*bars\n",
    "        ExtHighBuffer=[0]*bars\n",
    "        ExtLowBuffer=[0]*bars\n",
    "        limit=bars-InpDepth\n",
    "    else: \n",
    "        # find first extremum in the depth ExtLevel or 100 last bars\n",
    "        for i in range(100): \n",
    "            for counterZ in range(ExtLevel): \n",
    "                if ExtZigzagBuffer[i]!=0: \n",
    "                    counterZ+=1\n",
    "                i+=1\n",
    "\n",
    "        # no extremum found - recounting all from begin\n",
    "        if counterZ==0:\n",
    "            ExtZigzagBuffer=[0]*bars\n",
    "            ExtHighBuffer=[0]*bars\n",
    "            ExtLowBuffer=[0]*bars\n",
    "            limit=bars-InpDepth\n",
    "        else:\n",
    "            # set start position to found extremum position\n",
    "            limit=i-1;\n",
    "\n",
    "            # what kind of extremum?\n",
    "            if ExtLowBuffer[i]!=0: \n",
    "                # low extremum\n",
    "                curlow=ExtLowBuffer[i]\n",
    "                # will look for the next high extremum\n",
    "                whatlookfor=1\n",
    "            else:\n",
    "                # high extremum\n",
    "                curhigh=ExtHighBuffer[i]\n",
    "                # will look for the next low extremum\n",
    "                whatlookfor=-1\n",
    "\n",
    "            # clear the rest data\n",
    "            for i in range(limit-1, -1, -1):\n",
    "                ExtZigzagBuffer[i]=0 \n",
    "                ExtLowBuffer[i]=0\n",
    "                ExtHighBuffer[i]=0\n",
    "\n",
    "    # main loop \n",
    "    for i in range(limit, -1, -1): \n",
    "        # find lowest low in depth of bars\n",
    "        extremum=min(low[i:i+InpDepth])\n",
    "        # this lowest has been found previously\n",
    "        if extremum==lastlow: \n",
    "            extremum=0\n",
    "        else: \n",
    "            # new last low\n",
    "            lastlow=extremum\n",
    "            # discard extremum if current low is too high\n",
    "            if low[i]-extremum>InpDeviation*point: \n",
    "                extremum=0\n",
    "            else: \n",
    "                # clear previous extremums in backstep bars\n",
    "                for back in range(1, InpBackstep+1): \n",
    "                    pos=i+back\n",
    "                    if ExtLowBuffer[pos]!=0 and ExtLowBuffer[pos]>extremum:\n",
    "                        ExtLowBuffer[pos]=0\n",
    "\n",
    "        # found extremum is current low\n",
    "        if low[i]==extremum: \n",
    "            ExtLowBuffer[i]=extremum\n",
    "        else: \n",
    "            ExtLowBuffer[i]=0\n",
    "\n",
    "        # find highest high in depth of bars\n",
    "        extremum=max(high[i:i+InpDepth])\n",
    "        # this highest has been found previously\n",
    "        if extremum==lasthigh:\n",
    "            extremum=0\n",
    "        else: \n",
    "            # new last high\n",
    "            lasthigh=extremum\n",
    "            # discard extremum if current high is too low\n",
    "            if extremum-high[i]>InpDeviation*point: \n",
    "                extremum=0\n",
    "            else: \n",
    "                # clear previous extremums in backstep bars\n",
    "                for back in range(1,InpBackstep+1): \n",
    "                    pos=i+back\n",
    "                    if ExtHighBuffer[pos]!=0 and ExtHighBuffer[pos]<extremum:\n",
    "                        ExtHighBuffer[pos]=0\n",
    "\n",
    "        # found extremum is current high\n",
    "        if high[i]==extremum: \n",
    "            ExtHighBuffer[i]=extremum\n",
    "        else: \n",
    "            ExtHighBuffer[i]=0\n",
    "\n",
    "    # final cutting \n",
    "    if whatlookfor==0: \n",
    "        lastlow=0\n",
    "        lasthigh=0\n",
    "    else: \n",
    "        lastlow=curlow\n",
    "        lasthigh=curhigh\n",
    "    for i in range(limit, -1, -1): \n",
    "        if whatlookfor==0: # look for peak or lawn\n",
    "            if lastlow==0 and lasthigh==0 and ExtHighBuffer[i]!=0:\n",
    "                lasthigh=high[i]\n",
    "                lasthighpos=i\n",
    "                whatlookfor=-1\n",
    "                ExtZigzagBuffer[i]=lasthigh\n",
    "            if lastlow==0 and lasthigh==0 and ExtLowBuffer[i]!=0: \n",
    "                lastlow=low[i]\n",
    "                lastlowpos=i\n",
    "                whatlookfor=1\n",
    "                ExtZigzagBuffer[i]=lastlow\n",
    "            pass\n",
    "\n",
    "        if whatlookfor==1: # look for peak\n",
    "            if ExtLowBuffer[i]!=0 and ExtLowBuffer[i]<lastlow and ExtHighBuffer[i]==0:\n",
    "                ExtZigzagBuffer[lastlowpos]=0\n",
    "                lastlowpos=i\n",
    "                lastlow=ExtLowBuffer[i]\n",
    "                ExtZigzagBuffer[i]=lastlow\n",
    "            if ExtHighBuffer[i]!=0 and ExtLowBuffer[i]==0:\n",
    "                lasthigh=ExtHighBuffer[i]\n",
    "                lasthighpos=i\n",
    "                ExtZigzagBuffer[i]=lasthigh\n",
    "                whatlookfor=-1\n",
    "            pass\n",
    "\n",
    "        if whatlookfor==-1: # look for lawn \n",
    "            if ExtHighBuffer[i]!=0 and ExtHighBuffer[i]>lasthigh and ExtLowBuffer[i]==0: \n",
    "                ExtZigzagBuffer[lasthighpos]=0\n",
    "                lasthighpos=i\n",
    "                lasthigh=ExtHighBuffer[i]\n",
    "                ExtZigzagBuffer[i]=lasthigh\n",
    "            if ExtLowBuffer[i]!=0 and ExtHighBuffer[i]==0:\n",
    "                lastlow=ExtLowBuffer[i]\n",
    "                lastlowpos=i\n",
    "                ExtZigzagBuffer[i]=lastlow\n",
    "                whatlookfor=1\n",
    "            pass\n",
    "\n",
    "    #ExtZigzagBuffer = [np.nan if x == 0 else x for x in ExtZigzagBuffer]\n",
    "\n",
    "    return ExtHighBuffer, ExtLowBuffer      \n",
    "  "
   ]
  },
  {
   "cell_type": "code",
   "execution_count": 3,
   "metadata": {
    "colab": {},
    "colab_type": "code",
    "id": "WQs-zP_SHNrg"
   },
   "outputs": [],
   "source": [
    "def get_zzDone(df, InpDepth, InpDeviation, InpBackstep, pip ): \n",
    "    \n",
    "    zzDir = 'zzDir' + str(InpDepth)\n",
    "    zzValue = 'zzValue' + str(InpDepth)\n",
    "    zz = 'zz' + str(InpDepth)\n",
    "    \n",
    "    df['zzHigh'], df['zzLow'] = get_zigzag(df, InpDepth, InpDeviation, InpBackstep, pip)\n",
    "    \n",
    "    def zz_dir (row):\n",
    "        if row['zzLow'] != 0:\n",
    "            return 'low'\n",
    "        if row['zzHigh'] != 0: \n",
    "            return 'high' \n",
    "    \n",
    "    def zz_value (row):\n",
    "        if row['zzLow'] != 0:\n",
    "            return row['zzLow']\n",
    "        if row['zzHigh'] != 0: \n",
    "            return row['zzHigh']  \n",
    "        \n",
    "    df[zzDir] = df.apply (lambda r : zz_dir(r), axis=1)\n",
    "    df[zzValue] = df.apply (lambda r : zz_value(r), axis=1)\n",
    "    \n",
    "    \n",
    "    #remove not necessary peak/low and calculate percentage\n",
    "    for i in range(len(df)): \n",
    "        if df[zzDir].iloc[i] != None:\n",
    "            tempDir = df[zzDir].iloc[i]\n",
    "            pos = i \n",
    "            for k in range(i+1, len(df)):\n",
    "                if df[zzDir].iloc[k] == tempDir: \n",
    "                    df[zzDir].iloc[k] = None\n",
    "                    df[zzValue].iloc[k] = np.nan\n",
    "                    continue\n",
    "                elif df[zzDir].iloc[k] != None: \n",
    "                    tempDir = df[zzDir].iloc[k]\n",
    "                    pos = k\n",
    "                    break\n",
    "                i=k+1\n",
    "        else: \n",
    "            pass\n",
    "\n",
    "    df[zz] = df[zzValue].interpolate(method='linear')\n",
    "    #df['zz'] = df.zz.replace(0, np.nan)\n",
    "    \n",
    "    df = df.drop(['zzHigh', 'zzLow'], axis=1)\n",
    "    \n",
    "    return df"
   ]
  },
  {
   "cell_type": "markdown",
   "metadata": {
    "colab_type": "text",
    "id": "1qqVAGyWHNr7"
   },
   "source": [
    "### Plot zigzag points and moving average "
   ]
  },
  {
   "cell_type": "code",
   "execution_count": 152,
   "metadata": {
    "colab": {},
    "colab_type": "code",
    "id": "vjIVd-VyHNr7"
   },
   "outputs": [],
   "source": [
    "import matplotlib.pyplot as plt\n",
    "import numpy as np\n",
    "import pandas as pd\n",
    "from datetime import datetime\n",
    "\n",
    "import matplotlib.dates as mdates\n",
    "from matplotlib.dates import MONDAY, DateFormatter, DayLocator, WeekdayLocator\n",
    "from datetime import timedelta\n",
    "from mplfinance.original_flavor import candlestick2_ohlc, candlestick_ohlc\n",
    "import matplotlib.ticker as ticker\n",
    "\n",
    "import chart_studio\n",
    "import chart_studio.plotly as py\n",
    "import plotly.graph_objs as go\n",
    "\n",
    "def plot_zz_cp(df_price,title,frequency,line1,line2,line3,line4):\n",
    "\n",
    "    # tick for daily data\n",
    "    mondays = WeekdayLocator(MONDAY)        \n",
    "    alldays = DayLocator()              \n",
    "    weekFormatter = DateFormatter('%b %d')  \n",
    "\n",
    "    # tick for hourly data\n",
    "    date_fmt = mdates.DateFormatter('%d/%b')\n",
    "    hour_fmt = mdates.DateFormatter('%H:%M')\n",
    "\n",
    "    fig, ax = plt.subplots()\n",
    "    fig.subplots_adjust(bottom=0.5)\n",
    "\n",
    "    if 'd' in frequency or 'D' in frequency: \n",
    "        ax.xaxis.set_major_locator(mondays)\n",
    "        ax.xaxis.set_minor_locator(alldays)\n",
    "        ax.xaxis.set_major_formatter(weekFormatter)    \n",
    "        w=0.6\n",
    "    else: \n",
    "        ax.xaxis.set_major_locator(mdates.DayLocator(interval=1))\n",
    "        ax.xaxis.set_major_formatter(date_fmt)\n",
    "        ax.xaxis.set_minor_locator(mdates.HourLocator(interval=4))\n",
    "        ax.xaxis.set_minor_formatter(hour_fmt)\n",
    "        ax.xaxis.set_tick_params(which='major', pad=15) \n",
    "        w=0.006 \n",
    "\n",
    "    candlestick_ohlc(ax, zip(mdates.date2num(df_price.index.to_pydatetime()),\n",
    "                       df_price['open'], df_price['high'],\n",
    "                       df_price['low'], df_price['close']),\n",
    "               width=w,colordown='pink',colorup='lightgreen')\n",
    "\n",
    "\n",
    "    ax.xaxis_date()\n",
    "    ax.autoscale_view()\n",
    "    fig.set_size_inches(25,20)\n",
    "    plt.setp(plt.gca().get_xticklabels(), rotation=45, horizontalalignment='right')\n",
    "    plt.xticks(rotation=45)\n",
    "    ax.set_title(title)\n",
    "    ymin, ymax = ax.get_ylim()\n",
    "    #ax.set_ylim([0.5,1.2])\n",
    "\n",
    "    plt.plot(df_price['zzValue84'], color='olive', linestyle='None', marker='o', markersize=12)\n",
    "\n",
    "    if line1 == '': \n",
    "        plt.plot(df_price['zz84'], color='olive', label='zz', linestyle='dotted', linewidth=2) #, marker='o', markersize=12)\n",
    "    if line1 != '':\n",
    "        plt.plot(df_price[line1], color='black', label=line1, linewidth=2.5)\n",
    "    if line2 != '':\n",
    "        plt.plot(df_price[line2], color='cyan', label=line2, linestyle='dashed', linewidth=2)\n",
    "    if line3 != '':\n",
    "        plt.plot(df_price[line3], color='purple', label=line3, linestyle='dashed', linewidth=2)\n",
    "    if line4 != '':\n",
    "        plt.plot(df_price[line4], color='red', label=line4, linestyle='dashed', linewidth=2)\n",
    "\n",
    "        plt.legend(loc='best')\n",
    "\n",
    "    plt.show()"
   ]
  },
  {
   "cell_type": "code",
   "execution_count": 153,
   "metadata": {},
   "outputs": [
    {
     "data": {
      "text/html": [
       "<div>\n",
       "<style scoped>\n",
       "    .dataframe tbody tr th:only-of-type {\n",
       "        vertical-align: middle;\n",
       "    }\n",
       "\n",
       "    .dataframe tbody tr th {\n",
       "        vertical-align: top;\n",
       "    }\n",
       "\n",
       "    .dataframe thead th {\n",
       "        text-align: right;\n",
       "    }\n",
       "</style>\n",
       "<table border=\"1\" class=\"dataframe\">\n",
       "  <thead>\n",
       "    <tr style=\"text-align: right;\">\n",
       "      <th></th>\n",
       "      <th>data</th>\n",
       "      <th>time</th>\n",
       "      <th>open</th>\n",
       "      <th>high</th>\n",
       "      <th>low</th>\n",
       "      <th>close</th>\n",
       "    </tr>\n",
       "  </thead>\n",
       "  <tbody>\n",
       "    <tr>\n",
       "      <th>0</th>\n",
       "      <td>2022.09.23</td>\n",
       "      <td>0:00:00</td>\n",
       "      <td>0.98283</td>\n",
       "      <td>0.98400</td>\n",
       "      <td>0.98244</td>\n",
       "      <td>0.98362</td>\n",
       "    </tr>\n",
       "    <tr>\n",
       "      <th>1</th>\n",
       "      <td>2022.09.23</td>\n",
       "      <td>1:00:00</td>\n",
       "      <td>0.98362</td>\n",
       "      <td>0.98386</td>\n",
       "      <td>0.98315</td>\n",
       "      <td>0.98319</td>\n",
       "    </tr>\n",
       "    <tr>\n",
       "      <th>2</th>\n",
       "      <td>2022.09.23</td>\n",
       "      <td>2:00:00</td>\n",
       "      <td>0.98319</td>\n",
       "      <td>0.98398</td>\n",
       "      <td>0.98317</td>\n",
       "      <td>0.98383</td>\n",
       "    </tr>\n",
       "    <tr>\n",
       "      <th>3</th>\n",
       "      <td>2022.09.23</td>\n",
       "      <td>3:00:00</td>\n",
       "      <td>0.98383</td>\n",
       "      <td>0.98485</td>\n",
       "      <td>0.98324</td>\n",
       "      <td>0.98432</td>\n",
       "    </tr>\n",
       "    <tr>\n",
       "      <th>4</th>\n",
       "      <td>2022.09.23</td>\n",
       "      <td>4:00:00</td>\n",
       "      <td>0.98434</td>\n",
       "      <td>0.98520</td>\n",
       "      <td>0.98320</td>\n",
       "      <td>0.98373</td>\n",
       "    </tr>\n",
       "  </tbody>\n",
       "</table>\n",
       "</div>"
      ],
      "text/plain": [
       "         data     time     open     high      low    close\n",
       "0  2022.09.23  0:00:00  0.98283  0.98400  0.98244  0.98362\n",
       "1  2022.09.23  1:00:00  0.98362  0.98386  0.98315  0.98319\n",
       "2  2022.09.23  2:00:00  0.98319  0.98398  0.98317  0.98383\n",
       "3  2022.09.23  3:00:00  0.98383  0.98485  0.98324  0.98432\n",
       "4  2022.09.23  4:00:00  0.98434  0.98520  0.98320  0.98373"
      ]
     },
     "execution_count": 153,
     "metadata": {},
     "output_type": "execute_result"
    }
   ],
   "source": [
    "df = pd.read_csv(\"EURUSD_H1_202209230000_202210050700.csv\")\n",
    "df.columns=['data','time', 'open', 'high', 'low', 'close']\n",
    "df.reset_index(drop=True, inplace=True)\n",
    "df.isna().sum()\n",
    "df.head()"
   ]
  },
  {
   "cell_type": "code",
   "execution_count": 154,
   "metadata": {},
   "outputs": [],
   "source": [
    "a = get_zigzag(df, 7,5,3, 0.0001)\n",
    "para_a = '7,5,3'"
   ]
  },
  {
   "cell_type": "code",
   "execution_count": 155,
   "metadata": {},
   "outputs": [],
   "source": [
    "b = get_zigzag(df, 114,10,3, 0.0001)"
   ]
  },
  {
   "cell_type": "code",
   "execution_count": 156,
   "metadata": {},
   "outputs": [],
   "source": [
    "def pivot_points(df,zigzag, parameter):\n",
    "    df['value'+(parameter)] = np.zeros(len(df))\n",
    "    df[parameter] = np.zeros(len(df))\n",
    "    high = zigzag[0]\n",
    "    low = zigzag[1]\n",
    "    for i in df.high[np.array(high)!=0].index:\n",
    "        df.loc[i,[parameter]]= 1\n",
    "        df.loc[i,['value'+(parameter)]]=df.high[i]\n",
    "    for i in df.low[np.array(low)!=0].index:\n",
    "        df.loc[i,[parameter]]=-1\n",
    "        df.loc[i,['value'+(parameter)]]=df.low[i]"
   ]
  },
  {
   "cell_type": "code",
   "execution_count": 157,
   "metadata": {},
   "outputs": [],
   "source": [
    "pivot_points(df,a,para_a)"
   ]
  },
  {
   "cell_type": "code",
   "execution_count": 166,
   "metadata": {},
   "outputs": [
    {
     "data": {
      "text/plain": [
       "0      0.0000\n",
       "1      0.0000\n",
       "2      0.0000\n",
       "3      0.0000\n",
       "4      0.9852\n",
       "        ...  \n",
       "195    0.0000\n",
       "196    0.0000\n",
       "197    0.0000\n",
       "198    0.0000\n",
       "199    0.0000\n",
       "Name: value7,5,3, Length: 200, dtype: float64"
      ]
     },
     "execution_count": 166,
     "metadata": {},
     "output_type": "execute_result"
    }
   ],
   "source": [
    "df['value'+para_a]"
   ]
  },
  {
   "cell_type": "code",
   "execution_count": 168,
   "metadata": {},
   "outputs": [],
   "source": [
    "dfpl = df[:]\n",
    "ts_pivots = pd.Series(dfpl['value'+para_a], index=dfpl['value'+para_a].index)\n",
    "ts_pivots = ts_pivots[df[para_a]!=0]"
   ]
  },
  {
   "cell_type": "code",
   "execution_count": 169,
   "metadata": {},
   "outputs": [
    {
     "data": {
      "application/vnd.plotly.v1+json": {
       "config": {
        "plotlyServerURL": "https://plot.ly"
       },
       "data": [
        {
         "close": [
          0.98362,
          0.98319,
          0.98383,
          0.98432,
          0.98373,
          0.98276,
          0.98235,
          0.9823,
          0.98296,
          0.98125,
          0.97753,
          0.97528,
          0.97622,
          0.975,
          0.97514,
          0.97558,
          0.97342,
          0.97046,
          0.97176,
          0.97074,
          0.96909,
          0.96724,
          0.96909,
          0.9688,
          0.96734,
          0.96987,
          0.96853,
          0.95689,
          0.96528,
          0.96588,
          0.96337,
          0.9628,
          0.96292,
          0.9641,
          0.96782,
          0.9685,
          0.96465,
          0.96406,
          0.9638,
          0.96693,
          0.96742,
          0.96476,
          0.962,
          0.96215,
          0.96012,
          0.96109,
          0.96088,
          0.96087,
          0.96073,
          0.96069,
          0.96197,
          0.96339,
          0.96287,
          0.96327,
          0.9641,
          0.96363,
          0.96516,
          0.96446,
          0.96471,
          0.96242,
          0.96081,
          0.96271,
          0.96386,
          0.96226,
          0.96225,
          0.96228,
          0.96147,
          0.95813,
          0.95849,
          0.95997,
          0.95944,
          0.95924,
          0.95949,
          0.95869,
          0.95953,
          0.95723,
          0.95593,
          0.95485,
          0.95578,
          0.95506,
          0.95557,
          0.95391,
          0.95777,
          0.95562,
          0.95439,
          0.95742,
          0.9566,
          0.9585,
          0.96049,
          0.96312,
          0.96791,
          0.97022,
          0.97307,
          0.97447,
          0.97323,
          0.97347,
          0.97317,
          0.97183,
          0.97052,
          0.96892,
          0.96852,
          0.96809,
          0.96861,
          0.96854,
          0.96646,
          0.96651,
          0.96553,
          0.96655,
          0.96931,
          0.97155,
          0.97225,
          0.96879,
          0.97415,
          0.97655,
          0.97734,
          0.97761,
          0.97807,
          0.97913,
          0.98009,
          0.98147,
          0.98163,
          0.98176,
          0.98289,
          0.98251,
          0.98098,
          0.98089,
          0.97992,
          0.97994,
          0.98244,
          0.97996,
          0.9833,
          0.98328,
          0.97971,
          0.97618,
          0.97464,
          0.97548,
          0.97745,
          0.97944,
          0.97826,
          0.97901,
          0.9795,
          0.98069,
          0.9801,
          0.9799,
          0.97948,
          0.98006,
          0.97932,
          0.98012,
          0.98256,
          0.98122,
          0.98055,
          0.97854,
          0.98256,
          0.97976,
          0.98123,
          0.98109,
          0.9763,
          0.97788,
          0.97683,
          0.97656,
          0.97672,
          0.98137,
          0.98081,
          0.9808,
          0.97944,
          0.98168,
          0.98288,
          0.98246,
          0.98205,
          0.98287,
          0.98334,
          0.98267,
          0.98116,
          0.98283,
          0.98422,
          0.98334,
          0.98438,
          0.98704,
          0.98755,
          0.9875,
          0.98792,
          0.98915,
          0.98906,
          0.99242,
          0.9929,
          0.99567,
          0.99763,
          0.99701,
          0.99744,
          0.99979,
          0.99904,
          0.99842,
          0.99826,
          0.99828,
          0.99835,
          0.99755,
          0.99651,
          0.99672,
          0.99692,
          0.99654
         ],
         "high": [
          0.984,
          0.98386,
          0.98398,
          0.98485,
          0.9852,
          0.98373,
          0.98326,
          0.98287,
          0.9833,
          0.98383,
          0.98138,
          0.97804,
          0.97692,
          0.97716,
          0.97659,
          0.97687,
          0.9775,
          0.97452,
          0.97333,
          0.9724,
          0.97186,
          0.96942,
          0.96947,
          0.96961,
          0.96904,
          0.9709,
          0.97011,
          0.96918,
          0.96592,
          0.96633,
          0.96603,
          0.96448,
          0.96416,
          0.96558,
          0.97012,
          0.96891,
          0.96977,
          0.96542,
          0.96534,
          0.96896,
          0.96818,
          0.96765,
          0.96567,
          0.96294,
          0.96226,
          0.96187,
          0.96276,
          0.96199,
          0.96105,
          0.9615,
          0.9624,
          0.96386,
          0.96409,
          0.96344,
          0.96448,
          0.96457,
          0.96557,
          0.96711,
          0.96674,
          0.96472,
          0.96281,
          0.96472,
          0.96527,
          0.96486,
          0.96438,
          0.96332,
          0.96284,
          0.96159,
          0.95867,
          0.9601,
          0.95997,
          0.95973,
          0.95959,
          0.9599,
          0.9597,
          0.96006,
          0.95766,
          0.95642,
          0.95643,
          0.95625,
          0.95592,
          0.95702,
          0.95873,
          0.95887,
          0.95626,
          0.96024,
          0.95752,
          0.95967,
          0.96375,
          0.96382,
          0.96883,
          0.97081,
          0.97466,
          0.97509,
          0.97447,
          0.97382,
          0.97365,
          0.97349,
          0.97239,
          0.97134,
          0.96994,
          0.96869,
          0.96884,
          0.96898,
          0.96875,
          0.96731,
          0.96765,
          0.96667,
          0.97068,
          0.97192,
          0.97465,
          0.97277,
          0.97491,
          0.97704,
          0.97897,
          0.97978,
          0.97898,
          0.9797,
          0.98092,
          0.98151,
          0.98221,
          0.98436,
          0.98384,
          0.98329,
          0.9829,
          0.98167,
          0.98123,
          0.98077,
          0.98281,
          0.98336,
          0.98385,
          0.98539,
          0.98379,
          0.98041,
          0.97686,
          0.97843,
          0.97767,
          0.98095,
          0.98185,
          0.97901,
          0.98006,
          0.98158,
          0.98127,
          0.981,
          0.98072,
          0.98085,
          0.98027,
          0.98037,
          0.98284,
          0.98252,
          0.98152,
          0.98057,
          0.98344,
          0.98289,
          0.98191,
          0.98273,
          0.98128,
          0.9786,
          0.97832,
          0.9781,
          0.97835,
          0.98277,
          0.98447,
          0.98183,
          0.98103,
          0.98211,
          0.98288,
          0.9829,
          0.98246,
          0.98312,
          0.98371,
          0.98378,
          0.98294,
          0.98302,
          0.98453,
          0.98434,
          0.9849,
          0.9872,
          0.98959,
          0.98804,
          0.98843,
          0.99039,
          0.98982,
          0.99346,
          0.99308,
          0.9958,
          0.998,
          0.99937,
          0.99744,
          0.99988,
          0.99996,
          0.99936,
          0.99859,
          0.99853,
          0.99851,
          0.99896,
          0.99904,
          0.99745,
          0.99711,
          0.99715
         ],
         "low": [
          0.98244,
          0.98315,
          0.98317,
          0.98324,
          0.9832,
          0.98249,
          0.98205,
          0.98184,
          0.98223,
          0.98082,
          0.9767,
          0.97509,
          0.97364,
          0.975,
          0.9739,
          0.97472,
          0.97313,
          0.97029,
          0.97021,
          0.97051,
          0.96808,
          0.96678,
          0.96723,
          0.96873,
          0.96672,
          0.96678,
          0.96813,
          0.95524,
          0.95577,
          0.96453,
          0.96292,
          0.96239,
          0.96202,
          0.96266,
          0.96409,
          0.96611,
          0.96414,
          0.96334,
          0.9619,
          0.96292,
          0.96514,
          0.96355,
          0.96096,
          0.96079,
          0.95997,
          0.95994,
          0.96067,
          0.96056,
          0.96059,
          0.95834,
          0.96068,
          0.96181,
          0.96238,
          0.96231,
          0.96304,
          0.96354,
          0.96351,
          0.96437,
          0.96392,
          0.9621,
          0.96081,
          0.96064,
          0.96202,
          0.96201,
          0.96168,
          0.95993,
          0.95933,
          0.95691,
          0.9571,
          0.95807,
          0.95856,
          0.95896,
          0.9582,
          0.95846,
          0.95842,
          0.95677,
          0.95548,
          0.95426,
          0.95487,
          0.9543,
          0.95481,
          0.95357,
          0.95392,
          0.95455,
          0.95379,
          0.95379,
          0.95506,
          0.956,
          0.95758,
          0.95936,
          0.9624,
          0.96787,
          0.97008,
          0.97235,
          0.97215,
          0.97288,
          0.97293,
          0.97181,
          0.97043,
          0.96892,
          0.96835,
          0.96741,
          0.96793,
          0.96834,
          0.96541,
          0.96567,
          0.96355,
          0.96418,
          0.96638,
          0.96829,
          0.97113,
          0.96832,
          0.96847,
          0.9718,
          0.97588,
          0.97705,
          0.97695,
          0.97763,
          0.97867,
          0.97968,
          0.98114,
          0.98158,
          0.98141,
          0.98159,
          0.98091,
          0.97943,
          0.9798,
          0.97977,
          0.97991,
          0.979,
          0.97971,
          0.98299,
          0.97967,
          0.97547,
          0.97411,
          0.97356,
          0.97348,
          0.97536,
          0.97825,
          0.97703,
          0.97827,
          0.97922,
          0.97923,
          0.97981,
          0.97746,
          0.97915,
          0.97894,
          0.97851,
          0.98012,
          0.98122,
          0.98039,
          0.97851,
          0.97843,
          0.97916,
          0.9787,
          0.9805,
          0.97526,
          0.97571,
          0.97543,
          0.97562,
          0.9758,
          0.97677,
          0.98056,
          0.97957,
          0.97881,
          0.97892,
          0.98051,
          0.98211,
          0.98101,
          0.98127,
          0.98285,
          0.98198,
          0.98115,
          0.9806,
          0.98212,
          0.98261,
          0.98259,
          0.98377,
          0.98635,
          0.98654,
          0.98527,
          0.98779,
          0.98772,
          0.9886,
          0.99099,
          0.99289,
          0.99539,
          0.99652,
          0.99604,
          0.99673,
          0.99774,
          0.99835,
          0.99822,
          0.99757,
          0.99789,
          0.997,
          0.99648,
          0.996,
          0.99592,
          0.99601
         ],
         "open": [
          0.98283,
          0.98362,
          0.98319,
          0.98383,
          0.98434,
          0.98373,
          0.9828,
          0.98235,
          0.9823,
          0.98295,
          0.98125,
          0.97751,
          0.97528,
          0.9762,
          0.97498,
          0.97514,
          0.97558,
          0.97341,
          0.97046,
          0.97175,
          0.97074,
          0.96911,
          0.96723,
          0.96908,
          0.96714,
          0.96732,
          0.96987,
          0.96854,
          0.95689,
          0.9654,
          0.96588,
          0.96336,
          0.96277,
          0.96292,
          0.9641,
          0.9678,
          0.9685,
          0.96464,
          0.96405,
          0.9638,
          0.96693,
          0.96744,
          0.96477,
          0.962,
          0.9621,
          0.96012,
          0.96109,
          0.9609,
          0.96084,
          0.96073,
          0.96069,
          0.96197,
          0.96338,
          0.96287,
          0.96329,
          0.9641,
          0.96363,
          0.96516,
          0.96447,
          0.96469,
          0.96241,
          0.9608,
          0.96273,
          0.96383,
          0.96228,
          0.96225,
          0.9623,
          0.96149,
          0.95808,
          0.95849,
          0.95996,
          0.95943,
          0.95923,
          0.95952,
          0.9587,
          0.95954,
          0.95722,
          0.95592,
          0.95487,
          0.95579,
          0.95505,
          0.95557,
          0.95392,
          0.95778,
          0.95567,
          0.95437,
          0.95742,
          0.9566,
          0.9585,
          0.96048,
          0.96312,
          0.96796,
          0.97022,
          0.97307,
          0.97447,
          0.97323,
          0.97315,
          0.97325,
          0.97181,
          0.97053,
          0.96892,
          0.9685,
          0.96809,
          0.96861,
          0.96856,
          0.96643,
          0.96646,
          0.96553,
          0.96646,
          0.96931,
          0.97153,
          0.97225,
          0.96879,
          0.97417,
          0.97658,
          0.97735,
          0.97761,
          0.97807,
          0.97915,
          0.98008,
          0.98144,
          0.98162,
          0.98177,
          0.9829,
          0.9825,
          0.98098,
          0.98089,
          0.97993,
          0.97992,
          0.98243,
          0.97995,
          0.98329,
          0.98335,
          0.97974,
          0.97619,
          0.97464,
          0.97549,
          0.97746,
          0.97945,
          0.97826,
          0.97901,
          0.9795,
          0.9807,
          0.98008,
          0.97747,
          0.97944,
          0.98006,
          0.97932,
          0.98012,
          0.9825,
          0.98122,
          0.98057,
          0.97856,
          0.98256,
          0.97979,
          0.98123,
          0.98108,
          0.97631,
          0.97789,
          0.97682,
          0.97656,
          0.97677,
          0.98137,
          0.98082,
          0.98079,
          0.97944,
          0.98168,
          0.98289,
          0.98239,
          0.98203,
          0.98287,
          0.98334,
          0.98267,
          0.98116,
          0.98284,
          0.98422,
          0.98334,
          0.9844,
          0.98706,
          0.98751,
          0.98747,
          0.98791,
          0.98916,
          0.98902,
          0.99247,
          0.9929,
          0.99567,
          0.99763,
          0.99702,
          0.99744,
          0.9998,
          0.99902,
          0.99835,
          0.99825,
          0.99829,
          0.99835,
          0.99755,
          0.99651,
          0.99672,
          0.99691
         ],
         "type": "candlestick",
         "x": [
          0,
          1,
          2,
          3,
          4,
          5,
          6,
          7,
          8,
          9,
          10,
          11,
          12,
          13,
          14,
          15,
          16,
          17,
          18,
          19,
          20,
          21,
          22,
          23,
          24,
          25,
          26,
          27,
          28,
          29,
          30,
          31,
          32,
          33,
          34,
          35,
          36,
          37,
          38,
          39,
          40,
          41,
          42,
          43,
          44,
          45,
          46,
          47,
          48,
          49,
          50,
          51,
          52,
          53,
          54,
          55,
          56,
          57,
          58,
          59,
          60,
          61,
          62,
          63,
          64,
          65,
          66,
          67,
          68,
          69,
          70,
          71,
          72,
          73,
          74,
          75,
          76,
          77,
          78,
          79,
          80,
          81,
          82,
          83,
          84,
          85,
          86,
          87,
          88,
          89,
          90,
          91,
          92,
          93,
          94,
          95,
          96,
          97,
          98,
          99,
          100,
          101,
          102,
          103,
          104,
          105,
          106,
          107,
          108,
          109,
          110,
          111,
          112,
          113,
          114,
          115,
          116,
          117,
          118,
          119,
          120,
          121,
          122,
          123,
          124,
          125,
          126,
          127,
          128,
          129,
          130,
          131,
          132,
          133,
          134,
          135,
          136,
          137,
          138,
          139,
          140,
          141,
          142,
          143,
          144,
          145,
          146,
          147,
          148,
          149,
          150,
          151,
          152,
          153,
          154,
          155,
          156,
          157,
          158,
          159,
          160,
          161,
          162,
          163,
          164,
          165,
          166,
          167,
          168,
          169,
          170,
          171,
          172,
          173,
          174,
          175,
          176,
          177,
          178,
          179,
          180,
          181,
          182,
          183,
          184,
          185,
          186,
          187,
          188,
          189,
          190,
          191,
          192,
          193,
          194,
          195,
          196,
          197,
          198,
          199
         ]
        },
        {
         "line": {
          "color": "blue"
         },
         "type": "scatter",
         "x": [
          4,
          9,
          16,
          25,
          27,
          34,
          49,
          57,
          62,
          67,
          75,
          81,
          85,
          93,
          106,
          121,
          131,
          136,
          138,
          144,
          152,
          156,
          162,
          173,
          190
         ],
         "y": [
          0.9852,
          0.98383,
          0.9775,
          0.9709,
          0.95524,
          0.97012,
          0.95834,
          0.96711,
          0.96527,
          0.95691,
          0.96006,
          0.95357,
          0.95379,
          0.97509,
          0.96355,
          0.98436,
          0.98539,
          0.97348,
          0.98185,
          0.97746,
          0.98344,
          0.97526,
          0.98447,
          0.9806,
          0.99996
         ]
        }
       ],
       "layout": {
        "template": {
         "data": {
          "bar": [
           {
            "error_x": {
             "color": "#2a3f5f"
            },
            "error_y": {
             "color": "#2a3f5f"
            },
            "marker": {
             "line": {
              "color": "#E5ECF6",
              "width": 0.5
             },
             "pattern": {
              "fillmode": "overlay",
              "size": 10,
              "solidity": 0.2
             }
            },
            "type": "bar"
           }
          ],
          "barpolar": [
           {
            "marker": {
             "line": {
              "color": "#E5ECF6",
              "width": 0.5
             },
             "pattern": {
              "fillmode": "overlay",
              "size": 10,
              "solidity": 0.2
             }
            },
            "type": "barpolar"
           }
          ],
          "carpet": [
           {
            "aaxis": {
             "endlinecolor": "#2a3f5f",
             "gridcolor": "white",
             "linecolor": "white",
             "minorgridcolor": "white",
             "startlinecolor": "#2a3f5f"
            },
            "baxis": {
             "endlinecolor": "#2a3f5f",
             "gridcolor": "white",
             "linecolor": "white",
             "minorgridcolor": "white",
             "startlinecolor": "#2a3f5f"
            },
            "type": "carpet"
           }
          ],
          "choropleth": [
           {
            "colorbar": {
             "outlinewidth": 0,
             "ticks": ""
            },
            "type": "choropleth"
           }
          ],
          "contour": [
           {
            "colorbar": {
             "outlinewidth": 0,
             "ticks": ""
            },
            "colorscale": [
             [
              0,
              "#0d0887"
             ],
             [
              0.1111111111111111,
              "#46039f"
             ],
             [
              0.2222222222222222,
              "#7201a8"
             ],
             [
              0.3333333333333333,
              "#9c179e"
             ],
             [
              0.4444444444444444,
              "#bd3786"
             ],
             [
              0.5555555555555556,
              "#d8576b"
             ],
             [
              0.6666666666666666,
              "#ed7953"
             ],
             [
              0.7777777777777778,
              "#fb9f3a"
             ],
             [
              0.8888888888888888,
              "#fdca26"
             ],
             [
              1,
              "#f0f921"
             ]
            ],
            "type": "contour"
           }
          ],
          "contourcarpet": [
           {
            "colorbar": {
             "outlinewidth": 0,
             "ticks": ""
            },
            "type": "contourcarpet"
           }
          ],
          "heatmap": [
           {
            "colorbar": {
             "outlinewidth": 0,
             "ticks": ""
            },
            "colorscale": [
             [
              0,
              "#0d0887"
             ],
             [
              0.1111111111111111,
              "#46039f"
             ],
             [
              0.2222222222222222,
              "#7201a8"
             ],
             [
              0.3333333333333333,
              "#9c179e"
             ],
             [
              0.4444444444444444,
              "#bd3786"
             ],
             [
              0.5555555555555556,
              "#d8576b"
             ],
             [
              0.6666666666666666,
              "#ed7953"
             ],
             [
              0.7777777777777778,
              "#fb9f3a"
             ],
             [
              0.8888888888888888,
              "#fdca26"
             ],
             [
              1,
              "#f0f921"
             ]
            ],
            "type": "heatmap"
           }
          ],
          "heatmapgl": [
           {
            "colorbar": {
             "outlinewidth": 0,
             "ticks": ""
            },
            "colorscale": [
             [
              0,
              "#0d0887"
             ],
             [
              0.1111111111111111,
              "#46039f"
             ],
             [
              0.2222222222222222,
              "#7201a8"
             ],
             [
              0.3333333333333333,
              "#9c179e"
             ],
             [
              0.4444444444444444,
              "#bd3786"
             ],
             [
              0.5555555555555556,
              "#d8576b"
             ],
             [
              0.6666666666666666,
              "#ed7953"
             ],
             [
              0.7777777777777778,
              "#fb9f3a"
             ],
             [
              0.8888888888888888,
              "#fdca26"
             ],
             [
              1,
              "#f0f921"
             ]
            ],
            "type": "heatmapgl"
           }
          ],
          "histogram": [
           {
            "marker": {
             "pattern": {
              "fillmode": "overlay",
              "size": 10,
              "solidity": 0.2
             }
            },
            "type": "histogram"
           }
          ],
          "histogram2d": [
           {
            "colorbar": {
             "outlinewidth": 0,
             "ticks": ""
            },
            "colorscale": [
             [
              0,
              "#0d0887"
             ],
             [
              0.1111111111111111,
              "#46039f"
             ],
             [
              0.2222222222222222,
              "#7201a8"
             ],
             [
              0.3333333333333333,
              "#9c179e"
             ],
             [
              0.4444444444444444,
              "#bd3786"
             ],
             [
              0.5555555555555556,
              "#d8576b"
             ],
             [
              0.6666666666666666,
              "#ed7953"
             ],
             [
              0.7777777777777778,
              "#fb9f3a"
             ],
             [
              0.8888888888888888,
              "#fdca26"
             ],
             [
              1,
              "#f0f921"
             ]
            ],
            "type": "histogram2d"
           }
          ],
          "histogram2dcontour": [
           {
            "colorbar": {
             "outlinewidth": 0,
             "ticks": ""
            },
            "colorscale": [
             [
              0,
              "#0d0887"
             ],
             [
              0.1111111111111111,
              "#46039f"
             ],
             [
              0.2222222222222222,
              "#7201a8"
             ],
             [
              0.3333333333333333,
              "#9c179e"
             ],
             [
              0.4444444444444444,
              "#bd3786"
             ],
             [
              0.5555555555555556,
              "#d8576b"
             ],
             [
              0.6666666666666666,
              "#ed7953"
             ],
             [
              0.7777777777777778,
              "#fb9f3a"
             ],
             [
              0.8888888888888888,
              "#fdca26"
             ],
             [
              1,
              "#f0f921"
             ]
            ],
            "type": "histogram2dcontour"
           }
          ],
          "mesh3d": [
           {
            "colorbar": {
             "outlinewidth": 0,
             "ticks": ""
            },
            "type": "mesh3d"
           }
          ],
          "parcoords": [
           {
            "line": {
             "colorbar": {
              "outlinewidth": 0,
              "ticks": ""
             }
            },
            "type": "parcoords"
           }
          ],
          "pie": [
           {
            "automargin": true,
            "type": "pie"
           }
          ],
          "scatter": [
           {
            "marker": {
             "colorbar": {
              "outlinewidth": 0,
              "ticks": ""
             }
            },
            "type": "scatter"
           }
          ],
          "scatter3d": [
           {
            "line": {
             "colorbar": {
              "outlinewidth": 0,
              "ticks": ""
             }
            },
            "marker": {
             "colorbar": {
              "outlinewidth": 0,
              "ticks": ""
             }
            },
            "type": "scatter3d"
           }
          ],
          "scattercarpet": [
           {
            "marker": {
             "colorbar": {
              "outlinewidth": 0,
              "ticks": ""
             }
            },
            "type": "scattercarpet"
           }
          ],
          "scattergeo": [
           {
            "marker": {
             "colorbar": {
              "outlinewidth": 0,
              "ticks": ""
             }
            },
            "type": "scattergeo"
           }
          ],
          "scattergl": [
           {
            "marker": {
             "colorbar": {
              "outlinewidth": 0,
              "ticks": ""
             }
            },
            "type": "scattergl"
           }
          ],
          "scattermapbox": [
           {
            "marker": {
             "colorbar": {
              "outlinewidth": 0,
              "ticks": ""
             }
            },
            "type": "scattermapbox"
           }
          ],
          "scatterpolar": [
           {
            "marker": {
             "colorbar": {
              "outlinewidth": 0,
              "ticks": ""
             }
            },
            "type": "scatterpolar"
           }
          ],
          "scatterpolargl": [
           {
            "marker": {
             "colorbar": {
              "outlinewidth": 0,
              "ticks": ""
             }
            },
            "type": "scatterpolargl"
           }
          ],
          "scatterternary": [
           {
            "marker": {
             "colorbar": {
              "outlinewidth": 0,
              "ticks": ""
             }
            },
            "type": "scatterternary"
           }
          ],
          "surface": [
           {
            "colorbar": {
             "outlinewidth": 0,
             "ticks": ""
            },
            "colorscale": [
             [
              0,
              "#0d0887"
             ],
             [
              0.1111111111111111,
              "#46039f"
             ],
             [
              0.2222222222222222,
              "#7201a8"
             ],
             [
              0.3333333333333333,
              "#9c179e"
             ],
             [
              0.4444444444444444,
              "#bd3786"
             ],
             [
              0.5555555555555556,
              "#d8576b"
             ],
             [
              0.6666666666666666,
              "#ed7953"
             ],
             [
              0.7777777777777778,
              "#fb9f3a"
             ],
             [
              0.8888888888888888,
              "#fdca26"
             ],
             [
              1,
              "#f0f921"
             ]
            ],
            "type": "surface"
           }
          ],
          "table": [
           {
            "cells": {
             "fill": {
              "color": "#EBF0F8"
             },
             "line": {
              "color": "white"
             }
            },
            "header": {
             "fill": {
              "color": "#C8D4E3"
             },
             "line": {
              "color": "white"
             }
            },
            "type": "table"
           }
          ]
         },
         "layout": {
          "annotationdefaults": {
           "arrowcolor": "#2a3f5f",
           "arrowhead": 0,
           "arrowwidth": 1
          },
          "autotypenumbers": "strict",
          "coloraxis": {
           "colorbar": {
            "outlinewidth": 0,
            "ticks": ""
           }
          },
          "colorscale": {
           "diverging": [
            [
             0,
             "#8e0152"
            ],
            [
             0.1,
             "#c51b7d"
            ],
            [
             0.2,
             "#de77ae"
            ],
            [
             0.3,
             "#f1b6da"
            ],
            [
             0.4,
             "#fde0ef"
            ],
            [
             0.5,
             "#f7f7f7"
            ],
            [
             0.6,
             "#e6f5d0"
            ],
            [
             0.7,
             "#b8e186"
            ],
            [
             0.8,
             "#7fbc41"
            ],
            [
             0.9,
             "#4d9221"
            ],
            [
             1,
             "#276419"
            ]
           ],
           "sequential": [
            [
             0,
             "#0d0887"
            ],
            [
             0.1111111111111111,
             "#46039f"
            ],
            [
             0.2222222222222222,
             "#7201a8"
            ],
            [
             0.3333333333333333,
             "#9c179e"
            ],
            [
             0.4444444444444444,
             "#bd3786"
            ],
            [
             0.5555555555555556,
             "#d8576b"
            ],
            [
             0.6666666666666666,
             "#ed7953"
            ],
            [
             0.7777777777777778,
             "#fb9f3a"
            ],
            [
             0.8888888888888888,
             "#fdca26"
            ],
            [
             1,
             "#f0f921"
            ]
           ],
           "sequentialminus": [
            [
             0,
             "#0d0887"
            ],
            [
             0.1111111111111111,
             "#46039f"
            ],
            [
             0.2222222222222222,
             "#7201a8"
            ],
            [
             0.3333333333333333,
             "#9c179e"
            ],
            [
             0.4444444444444444,
             "#bd3786"
            ],
            [
             0.5555555555555556,
             "#d8576b"
            ],
            [
             0.6666666666666666,
             "#ed7953"
            ],
            [
             0.7777777777777778,
             "#fb9f3a"
            ],
            [
             0.8888888888888888,
             "#fdca26"
            ],
            [
             1,
             "#f0f921"
            ]
           ]
          },
          "colorway": [
           "#636efa",
           "#EF553B",
           "#00cc96",
           "#ab63fa",
           "#FFA15A",
           "#19d3f3",
           "#FF6692",
           "#B6E880",
           "#FF97FF",
           "#FECB52"
          ],
          "font": {
           "color": "#2a3f5f"
          },
          "geo": {
           "bgcolor": "white",
           "lakecolor": "white",
           "landcolor": "#E5ECF6",
           "showlakes": true,
           "showland": true,
           "subunitcolor": "white"
          },
          "hoverlabel": {
           "align": "left"
          },
          "hovermode": "closest",
          "mapbox": {
           "style": "light"
          },
          "paper_bgcolor": "white",
          "plot_bgcolor": "#E5ECF6",
          "polar": {
           "angularaxis": {
            "gridcolor": "white",
            "linecolor": "white",
            "ticks": ""
           },
           "bgcolor": "#E5ECF6",
           "radialaxis": {
            "gridcolor": "white",
            "linecolor": "white",
            "ticks": ""
           }
          },
          "scene": {
           "xaxis": {
            "backgroundcolor": "#E5ECF6",
            "gridcolor": "white",
            "gridwidth": 2,
            "linecolor": "white",
            "showbackground": true,
            "ticks": "",
            "zerolinecolor": "white"
           },
           "yaxis": {
            "backgroundcolor": "#E5ECF6",
            "gridcolor": "white",
            "gridwidth": 2,
            "linecolor": "white",
            "showbackground": true,
            "ticks": "",
            "zerolinecolor": "white"
           },
           "zaxis": {
            "backgroundcolor": "#E5ECF6",
            "gridcolor": "white",
            "gridwidth": 2,
            "linecolor": "white",
            "showbackground": true,
            "ticks": "",
            "zerolinecolor": "white"
           }
          },
          "shapedefaults": {
           "line": {
            "color": "#2a3f5f"
           }
          },
          "ternary": {
           "aaxis": {
            "gridcolor": "white",
            "linecolor": "white",
            "ticks": ""
           },
           "baxis": {
            "gridcolor": "white",
            "linecolor": "white",
            "ticks": ""
           },
           "bgcolor": "#E5ECF6",
           "caxis": {
            "gridcolor": "white",
            "linecolor": "white",
            "ticks": ""
           }
          },
          "title": {
           "x": 0.05
          },
          "xaxis": {
           "automargin": true,
           "gridcolor": "white",
           "linecolor": "white",
           "ticks": "",
           "title": {
            "standoff": 15
           },
           "zerolinecolor": "white",
           "zerolinewidth": 2
          },
          "yaxis": {
           "automargin": true,
           "gridcolor": "white",
           "linecolor": "white",
           "ticks": "",
           "title": {
            "standoff": 15
           },
           "zerolinecolor": "white",
           "zerolinewidth": 2
          }
         }
        }
       }
      },
      "text/html": [
       "<div>                            <div id=\"10546874-cd8e-45e4-9778-fad8a3b773a6\" class=\"plotly-graph-div\" style=\"height:525px; width:100%;\"></div>            <script type=\"text/javascript\">                require([\"plotly\"], function(Plotly) {                    window.PLOTLYENV=window.PLOTLYENV || {};                                    if (document.getElementById(\"10546874-cd8e-45e4-9778-fad8a3b773a6\")) {                    Plotly.newPlot(                        \"10546874-cd8e-45e4-9778-fad8a3b773a6\",                        [{\"close\":[0.98362,0.98319,0.98383,0.98432,0.98373,0.98276,0.98235,0.9823,0.98296,0.98125,0.97753,0.97528,0.97622,0.975,0.97514,0.97558,0.97342,0.97046,0.97176,0.97074,0.96909,0.96724,0.96909,0.9688,0.96734,0.96987,0.96853,0.95689,0.96528,0.96588,0.96337,0.9628,0.96292,0.9641,0.96782,0.9685,0.96465,0.96406,0.9638,0.96693,0.96742,0.96476,0.962,0.96215,0.96012,0.96109,0.96088,0.96087,0.96073,0.96069,0.96197,0.96339,0.96287,0.96327,0.9641,0.96363,0.96516,0.96446,0.96471,0.96242,0.96081,0.96271,0.96386,0.96226,0.96225,0.96228,0.96147,0.95813,0.95849,0.95997,0.95944,0.95924,0.95949,0.95869,0.95953,0.95723,0.95593,0.95485,0.95578,0.95506,0.95557,0.95391,0.95777,0.95562,0.95439,0.95742,0.9566,0.9585,0.96049,0.96312,0.96791,0.97022,0.97307,0.97447,0.97323,0.97347,0.97317,0.97183,0.97052,0.96892,0.96852,0.96809,0.96861,0.96854,0.96646,0.96651,0.96553,0.96655,0.96931,0.97155,0.97225,0.96879,0.97415,0.97655,0.97734,0.97761,0.97807,0.97913,0.98009,0.98147,0.98163,0.98176,0.98289,0.98251,0.98098,0.98089,0.97992,0.97994,0.98244,0.97996,0.9833,0.98328,0.97971,0.97618,0.97464,0.97548,0.97745,0.97944,0.97826,0.97901,0.9795,0.98069,0.9801,0.9799,0.97948,0.98006,0.97932,0.98012,0.98256,0.98122,0.98055,0.97854,0.98256,0.97976,0.98123,0.98109,0.9763,0.97788,0.97683,0.97656,0.97672,0.98137,0.98081,0.9808,0.97944,0.98168,0.98288,0.98246,0.98205,0.98287,0.98334,0.98267,0.98116,0.98283,0.98422,0.98334,0.98438,0.98704,0.98755,0.9875,0.98792,0.98915,0.98906,0.99242,0.9929,0.99567,0.99763,0.99701,0.99744,0.99979,0.99904,0.99842,0.99826,0.99828,0.99835,0.99755,0.99651,0.99672,0.99692,0.99654],\"high\":[0.984,0.98386,0.98398,0.98485,0.9852,0.98373,0.98326,0.98287,0.9833,0.98383,0.98138,0.97804,0.97692,0.97716,0.97659,0.97687,0.9775,0.97452,0.97333,0.9724,0.97186,0.96942,0.96947,0.96961,0.96904,0.9709,0.97011,0.96918,0.96592,0.96633,0.96603,0.96448,0.96416,0.96558,0.97012,0.96891,0.96977,0.96542,0.96534,0.96896,0.96818,0.96765,0.96567,0.96294,0.96226,0.96187,0.96276,0.96199,0.96105,0.9615,0.9624,0.96386,0.96409,0.96344,0.96448,0.96457,0.96557,0.96711,0.96674,0.96472,0.96281,0.96472,0.96527,0.96486,0.96438,0.96332,0.96284,0.96159,0.95867,0.9601,0.95997,0.95973,0.95959,0.9599,0.9597,0.96006,0.95766,0.95642,0.95643,0.95625,0.95592,0.95702,0.95873,0.95887,0.95626,0.96024,0.95752,0.95967,0.96375,0.96382,0.96883,0.97081,0.97466,0.97509,0.97447,0.97382,0.97365,0.97349,0.97239,0.97134,0.96994,0.96869,0.96884,0.96898,0.96875,0.96731,0.96765,0.96667,0.97068,0.97192,0.97465,0.97277,0.97491,0.97704,0.97897,0.97978,0.97898,0.9797,0.98092,0.98151,0.98221,0.98436,0.98384,0.98329,0.9829,0.98167,0.98123,0.98077,0.98281,0.98336,0.98385,0.98539,0.98379,0.98041,0.97686,0.97843,0.97767,0.98095,0.98185,0.97901,0.98006,0.98158,0.98127,0.981,0.98072,0.98085,0.98027,0.98037,0.98284,0.98252,0.98152,0.98057,0.98344,0.98289,0.98191,0.98273,0.98128,0.9786,0.97832,0.9781,0.97835,0.98277,0.98447,0.98183,0.98103,0.98211,0.98288,0.9829,0.98246,0.98312,0.98371,0.98378,0.98294,0.98302,0.98453,0.98434,0.9849,0.9872,0.98959,0.98804,0.98843,0.99039,0.98982,0.99346,0.99308,0.9958,0.998,0.99937,0.99744,0.99988,0.99996,0.99936,0.99859,0.99853,0.99851,0.99896,0.99904,0.99745,0.99711,0.99715],\"low\":[0.98244,0.98315,0.98317,0.98324,0.9832,0.98249,0.98205,0.98184,0.98223,0.98082,0.9767,0.97509,0.97364,0.975,0.9739,0.97472,0.97313,0.97029,0.97021,0.97051,0.96808,0.96678,0.96723,0.96873,0.96672,0.96678,0.96813,0.95524,0.95577,0.96453,0.96292,0.96239,0.96202,0.96266,0.96409,0.96611,0.96414,0.96334,0.9619,0.96292,0.96514,0.96355,0.96096,0.96079,0.95997,0.95994,0.96067,0.96056,0.96059,0.95834,0.96068,0.96181,0.96238,0.96231,0.96304,0.96354,0.96351,0.96437,0.96392,0.9621,0.96081,0.96064,0.96202,0.96201,0.96168,0.95993,0.95933,0.95691,0.9571,0.95807,0.95856,0.95896,0.9582,0.95846,0.95842,0.95677,0.95548,0.95426,0.95487,0.9543,0.95481,0.95357,0.95392,0.95455,0.95379,0.95379,0.95506,0.956,0.95758,0.95936,0.9624,0.96787,0.97008,0.97235,0.97215,0.97288,0.97293,0.97181,0.97043,0.96892,0.96835,0.96741,0.96793,0.96834,0.96541,0.96567,0.96355,0.96418,0.96638,0.96829,0.97113,0.96832,0.96847,0.9718,0.97588,0.97705,0.97695,0.97763,0.97867,0.97968,0.98114,0.98158,0.98141,0.98159,0.98091,0.97943,0.9798,0.97977,0.97991,0.979,0.97971,0.98299,0.97967,0.97547,0.97411,0.97356,0.97348,0.97536,0.97825,0.97703,0.97827,0.97922,0.97923,0.97981,0.97746,0.97915,0.97894,0.97851,0.98012,0.98122,0.98039,0.97851,0.97843,0.97916,0.9787,0.9805,0.97526,0.97571,0.97543,0.97562,0.9758,0.97677,0.98056,0.97957,0.97881,0.97892,0.98051,0.98211,0.98101,0.98127,0.98285,0.98198,0.98115,0.9806,0.98212,0.98261,0.98259,0.98377,0.98635,0.98654,0.98527,0.98779,0.98772,0.9886,0.99099,0.99289,0.99539,0.99652,0.99604,0.99673,0.99774,0.99835,0.99822,0.99757,0.99789,0.997,0.99648,0.996,0.99592,0.99601],\"open\":[0.98283,0.98362,0.98319,0.98383,0.98434,0.98373,0.9828,0.98235,0.9823,0.98295,0.98125,0.97751,0.97528,0.9762,0.97498,0.97514,0.97558,0.97341,0.97046,0.97175,0.97074,0.96911,0.96723,0.96908,0.96714,0.96732,0.96987,0.96854,0.95689,0.9654,0.96588,0.96336,0.96277,0.96292,0.9641,0.9678,0.9685,0.96464,0.96405,0.9638,0.96693,0.96744,0.96477,0.962,0.9621,0.96012,0.96109,0.9609,0.96084,0.96073,0.96069,0.96197,0.96338,0.96287,0.96329,0.9641,0.96363,0.96516,0.96447,0.96469,0.96241,0.9608,0.96273,0.96383,0.96228,0.96225,0.9623,0.96149,0.95808,0.95849,0.95996,0.95943,0.95923,0.95952,0.9587,0.95954,0.95722,0.95592,0.95487,0.95579,0.95505,0.95557,0.95392,0.95778,0.95567,0.95437,0.95742,0.9566,0.9585,0.96048,0.96312,0.96796,0.97022,0.97307,0.97447,0.97323,0.97315,0.97325,0.97181,0.97053,0.96892,0.9685,0.96809,0.96861,0.96856,0.96643,0.96646,0.96553,0.96646,0.96931,0.97153,0.97225,0.96879,0.97417,0.97658,0.97735,0.97761,0.97807,0.97915,0.98008,0.98144,0.98162,0.98177,0.9829,0.9825,0.98098,0.98089,0.97993,0.97992,0.98243,0.97995,0.98329,0.98335,0.97974,0.97619,0.97464,0.97549,0.97746,0.97945,0.97826,0.97901,0.9795,0.9807,0.98008,0.97747,0.97944,0.98006,0.97932,0.98012,0.9825,0.98122,0.98057,0.97856,0.98256,0.97979,0.98123,0.98108,0.97631,0.97789,0.97682,0.97656,0.97677,0.98137,0.98082,0.98079,0.97944,0.98168,0.98289,0.98239,0.98203,0.98287,0.98334,0.98267,0.98116,0.98284,0.98422,0.98334,0.9844,0.98706,0.98751,0.98747,0.98791,0.98916,0.98902,0.99247,0.9929,0.99567,0.99763,0.99702,0.99744,0.9998,0.99902,0.99835,0.99825,0.99829,0.99835,0.99755,0.99651,0.99672,0.99691],\"x\":[0,1,2,3,4,5,6,7,8,9,10,11,12,13,14,15,16,17,18,19,20,21,22,23,24,25,26,27,28,29,30,31,32,33,34,35,36,37,38,39,40,41,42,43,44,45,46,47,48,49,50,51,52,53,54,55,56,57,58,59,60,61,62,63,64,65,66,67,68,69,70,71,72,73,74,75,76,77,78,79,80,81,82,83,84,85,86,87,88,89,90,91,92,93,94,95,96,97,98,99,100,101,102,103,104,105,106,107,108,109,110,111,112,113,114,115,116,117,118,119,120,121,122,123,124,125,126,127,128,129,130,131,132,133,134,135,136,137,138,139,140,141,142,143,144,145,146,147,148,149,150,151,152,153,154,155,156,157,158,159,160,161,162,163,164,165,166,167,168,169,170,171,172,173,174,175,176,177,178,179,180,181,182,183,184,185,186,187,188,189,190,191,192,193,194,195,196,197,198,199],\"type\":\"candlestick\"},{\"line\":{\"color\":\"blue\"},\"x\":[4,9,16,25,27,34,49,57,62,67,75,81,85,93,106,121,131,136,138,144,152,156,162,173,190],\"y\":[0.9852,0.98383,0.9775,0.9709,0.95524,0.97012,0.95834,0.96711,0.96527,0.95691,0.96006,0.95357,0.95379,0.97509,0.96355,0.98436,0.98539,0.97348,0.98185,0.97746,0.98344,0.97526,0.98447,0.9806,0.99996],\"type\":\"scatter\"}],                        {\"template\":{\"data\":{\"bar\":[{\"error_x\":{\"color\":\"#2a3f5f\"},\"error_y\":{\"color\":\"#2a3f5f\"},\"marker\":{\"line\":{\"color\":\"#E5ECF6\",\"width\":0.5},\"pattern\":{\"fillmode\":\"overlay\",\"size\":10,\"solidity\":0.2}},\"type\":\"bar\"}],\"barpolar\":[{\"marker\":{\"line\":{\"color\":\"#E5ECF6\",\"width\":0.5},\"pattern\":{\"fillmode\":\"overlay\",\"size\":10,\"solidity\":0.2}},\"type\":\"barpolar\"}],\"carpet\":[{\"aaxis\":{\"endlinecolor\":\"#2a3f5f\",\"gridcolor\":\"white\",\"linecolor\":\"white\",\"minorgridcolor\":\"white\",\"startlinecolor\":\"#2a3f5f\"},\"baxis\":{\"endlinecolor\":\"#2a3f5f\",\"gridcolor\":\"white\",\"linecolor\":\"white\",\"minorgridcolor\":\"white\",\"startlinecolor\":\"#2a3f5f\"},\"type\":\"carpet\"}],\"choropleth\":[{\"colorbar\":{\"outlinewidth\":0,\"ticks\":\"\"},\"type\":\"choropleth\"}],\"contour\":[{\"colorbar\":{\"outlinewidth\":0,\"ticks\":\"\"},\"colorscale\":[[0.0,\"#0d0887\"],[0.1111111111111111,\"#46039f\"],[0.2222222222222222,\"#7201a8\"],[0.3333333333333333,\"#9c179e\"],[0.4444444444444444,\"#bd3786\"],[0.5555555555555556,\"#d8576b\"],[0.6666666666666666,\"#ed7953\"],[0.7777777777777778,\"#fb9f3a\"],[0.8888888888888888,\"#fdca26\"],[1.0,\"#f0f921\"]],\"type\":\"contour\"}],\"contourcarpet\":[{\"colorbar\":{\"outlinewidth\":0,\"ticks\":\"\"},\"type\":\"contourcarpet\"}],\"heatmap\":[{\"colorbar\":{\"outlinewidth\":0,\"ticks\":\"\"},\"colorscale\":[[0.0,\"#0d0887\"],[0.1111111111111111,\"#46039f\"],[0.2222222222222222,\"#7201a8\"],[0.3333333333333333,\"#9c179e\"],[0.4444444444444444,\"#bd3786\"],[0.5555555555555556,\"#d8576b\"],[0.6666666666666666,\"#ed7953\"],[0.7777777777777778,\"#fb9f3a\"],[0.8888888888888888,\"#fdca26\"],[1.0,\"#f0f921\"]],\"type\":\"heatmap\"}],\"heatmapgl\":[{\"colorbar\":{\"outlinewidth\":0,\"ticks\":\"\"},\"colorscale\":[[0.0,\"#0d0887\"],[0.1111111111111111,\"#46039f\"],[0.2222222222222222,\"#7201a8\"],[0.3333333333333333,\"#9c179e\"],[0.4444444444444444,\"#bd3786\"],[0.5555555555555556,\"#d8576b\"],[0.6666666666666666,\"#ed7953\"],[0.7777777777777778,\"#fb9f3a\"],[0.8888888888888888,\"#fdca26\"],[1.0,\"#f0f921\"]],\"type\":\"heatmapgl\"}],\"histogram\":[{\"marker\":{\"pattern\":{\"fillmode\":\"overlay\",\"size\":10,\"solidity\":0.2}},\"type\":\"histogram\"}],\"histogram2d\":[{\"colorbar\":{\"outlinewidth\":0,\"ticks\":\"\"},\"colorscale\":[[0.0,\"#0d0887\"],[0.1111111111111111,\"#46039f\"],[0.2222222222222222,\"#7201a8\"],[0.3333333333333333,\"#9c179e\"],[0.4444444444444444,\"#bd3786\"],[0.5555555555555556,\"#d8576b\"],[0.6666666666666666,\"#ed7953\"],[0.7777777777777778,\"#fb9f3a\"],[0.8888888888888888,\"#fdca26\"],[1.0,\"#f0f921\"]],\"type\":\"histogram2d\"}],\"histogram2dcontour\":[{\"colorbar\":{\"outlinewidth\":0,\"ticks\":\"\"},\"colorscale\":[[0.0,\"#0d0887\"],[0.1111111111111111,\"#46039f\"],[0.2222222222222222,\"#7201a8\"],[0.3333333333333333,\"#9c179e\"],[0.4444444444444444,\"#bd3786\"],[0.5555555555555556,\"#d8576b\"],[0.6666666666666666,\"#ed7953\"],[0.7777777777777778,\"#fb9f3a\"],[0.8888888888888888,\"#fdca26\"],[1.0,\"#f0f921\"]],\"type\":\"histogram2dcontour\"}],\"mesh3d\":[{\"colorbar\":{\"outlinewidth\":0,\"ticks\":\"\"},\"type\":\"mesh3d\"}],\"parcoords\":[{\"line\":{\"colorbar\":{\"outlinewidth\":0,\"ticks\":\"\"}},\"type\":\"parcoords\"}],\"pie\":[{\"automargin\":true,\"type\":\"pie\"}],\"scatter\":[{\"marker\":{\"colorbar\":{\"outlinewidth\":0,\"ticks\":\"\"}},\"type\":\"scatter\"}],\"scatter3d\":[{\"line\":{\"colorbar\":{\"outlinewidth\":0,\"ticks\":\"\"}},\"marker\":{\"colorbar\":{\"outlinewidth\":0,\"ticks\":\"\"}},\"type\":\"scatter3d\"}],\"scattercarpet\":[{\"marker\":{\"colorbar\":{\"outlinewidth\":0,\"ticks\":\"\"}},\"type\":\"scattercarpet\"}],\"scattergeo\":[{\"marker\":{\"colorbar\":{\"outlinewidth\":0,\"ticks\":\"\"}},\"type\":\"scattergeo\"}],\"scattergl\":[{\"marker\":{\"colorbar\":{\"outlinewidth\":0,\"ticks\":\"\"}},\"type\":\"scattergl\"}],\"scattermapbox\":[{\"marker\":{\"colorbar\":{\"outlinewidth\":0,\"ticks\":\"\"}},\"type\":\"scattermapbox\"}],\"scatterpolar\":[{\"marker\":{\"colorbar\":{\"outlinewidth\":0,\"ticks\":\"\"}},\"type\":\"scatterpolar\"}],\"scatterpolargl\":[{\"marker\":{\"colorbar\":{\"outlinewidth\":0,\"ticks\":\"\"}},\"type\":\"scatterpolargl\"}],\"scatterternary\":[{\"marker\":{\"colorbar\":{\"outlinewidth\":0,\"ticks\":\"\"}},\"type\":\"scatterternary\"}],\"surface\":[{\"colorbar\":{\"outlinewidth\":0,\"ticks\":\"\"},\"colorscale\":[[0.0,\"#0d0887\"],[0.1111111111111111,\"#46039f\"],[0.2222222222222222,\"#7201a8\"],[0.3333333333333333,\"#9c179e\"],[0.4444444444444444,\"#bd3786\"],[0.5555555555555556,\"#d8576b\"],[0.6666666666666666,\"#ed7953\"],[0.7777777777777778,\"#fb9f3a\"],[0.8888888888888888,\"#fdca26\"],[1.0,\"#f0f921\"]],\"type\":\"surface\"}],\"table\":[{\"cells\":{\"fill\":{\"color\":\"#EBF0F8\"},\"line\":{\"color\":\"white\"}},\"header\":{\"fill\":{\"color\":\"#C8D4E3\"},\"line\":{\"color\":\"white\"}},\"type\":\"table\"}]},\"layout\":{\"annotationdefaults\":{\"arrowcolor\":\"#2a3f5f\",\"arrowhead\":0,\"arrowwidth\":1},\"autotypenumbers\":\"strict\",\"coloraxis\":{\"colorbar\":{\"outlinewidth\":0,\"ticks\":\"\"}},\"colorscale\":{\"diverging\":[[0,\"#8e0152\"],[0.1,\"#c51b7d\"],[0.2,\"#de77ae\"],[0.3,\"#f1b6da\"],[0.4,\"#fde0ef\"],[0.5,\"#f7f7f7\"],[0.6,\"#e6f5d0\"],[0.7,\"#b8e186\"],[0.8,\"#7fbc41\"],[0.9,\"#4d9221\"],[1,\"#276419\"]],\"sequential\":[[0.0,\"#0d0887\"],[0.1111111111111111,\"#46039f\"],[0.2222222222222222,\"#7201a8\"],[0.3333333333333333,\"#9c179e\"],[0.4444444444444444,\"#bd3786\"],[0.5555555555555556,\"#d8576b\"],[0.6666666666666666,\"#ed7953\"],[0.7777777777777778,\"#fb9f3a\"],[0.8888888888888888,\"#fdca26\"],[1.0,\"#f0f921\"]],\"sequentialminus\":[[0.0,\"#0d0887\"],[0.1111111111111111,\"#46039f\"],[0.2222222222222222,\"#7201a8\"],[0.3333333333333333,\"#9c179e\"],[0.4444444444444444,\"#bd3786\"],[0.5555555555555556,\"#d8576b\"],[0.6666666666666666,\"#ed7953\"],[0.7777777777777778,\"#fb9f3a\"],[0.8888888888888888,\"#fdca26\"],[1.0,\"#f0f921\"]]},\"colorway\":[\"#636efa\",\"#EF553B\",\"#00cc96\",\"#ab63fa\",\"#FFA15A\",\"#19d3f3\",\"#FF6692\",\"#B6E880\",\"#FF97FF\",\"#FECB52\"],\"font\":{\"color\":\"#2a3f5f\"},\"geo\":{\"bgcolor\":\"white\",\"lakecolor\":\"white\",\"landcolor\":\"#E5ECF6\",\"showlakes\":true,\"showland\":true,\"subunitcolor\":\"white\"},\"hoverlabel\":{\"align\":\"left\"},\"hovermode\":\"closest\",\"mapbox\":{\"style\":\"light\"},\"paper_bgcolor\":\"white\",\"plot_bgcolor\":\"#E5ECF6\",\"polar\":{\"angularaxis\":{\"gridcolor\":\"white\",\"linecolor\":\"white\",\"ticks\":\"\"},\"bgcolor\":\"#E5ECF6\",\"radialaxis\":{\"gridcolor\":\"white\",\"linecolor\":\"white\",\"ticks\":\"\"}},\"scene\":{\"xaxis\":{\"backgroundcolor\":\"#E5ECF6\",\"gridcolor\":\"white\",\"gridwidth\":2,\"linecolor\":\"white\",\"showbackground\":true,\"ticks\":\"\",\"zerolinecolor\":\"white\"},\"yaxis\":{\"backgroundcolor\":\"#E5ECF6\",\"gridcolor\":\"white\",\"gridwidth\":2,\"linecolor\":\"white\",\"showbackground\":true,\"ticks\":\"\",\"zerolinecolor\":\"white\"},\"zaxis\":{\"backgroundcolor\":\"#E5ECF6\",\"gridcolor\":\"white\",\"gridwidth\":2,\"linecolor\":\"white\",\"showbackground\":true,\"ticks\":\"\",\"zerolinecolor\":\"white\"}},\"shapedefaults\":{\"line\":{\"color\":\"#2a3f5f\"}},\"ternary\":{\"aaxis\":{\"gridcolor\":\"white\",\"linecolor\":\"white\",\"ticks\":\"\"},\"baxis\":{\"gridcolor\":\"white\",\"linecolor\":\"white\",\"ticks\":\"\"},\"bgcolor\":\"#E5ECF6\",\"caxis\":{\"gridcolor\":\"white\",\"linecolor\":\"white\",\"ticks\":\"\"}},\"title\":{\"x\":0.05},\"xaxis\":{\"automargin\":true,\"gridcolor\":\"white\",\"linecolor\":\"white\",\"ticks\":\"\",\"title\":{\"standoff\":15},\"zerolinecolor\":\"white\",\"zerolinewidth\":2},\"yaxis\":{\"automargin\":true,\"gridcolor\":\"white\",\"linecolor\":\"white\",\"ticks\":\"\",\"title\":{\"standoff\":15},\"zerolinecolor\":\"white\",\"zerolinewidth\":2}}}},                        {\"responsive\": true}                    ).then(function(){\n",
       "                            \n",
       "var gd = document.getElementById('10546874-cd8e-45e4-9778-fad8a3b773a6');\n",
       "var x = new MutationObserver(function (mutations, observer) {{\n",
       "        var display = window.getComputedStyle(gd).display;\n",
       "        if (!display || display === 'none') {{\n",
       "            console.log([gd, 'removed!']);\n",
       "            Plotly.purge(gd);\n",
       "            observer.disconnect();\n",
       "        }}\n",
       "}});\n",
       "\n",
       "// Listen for the removal of the full notebook cells\n",
       "var notebookContainer = gd.closest('#notebook-container');\n",
       "if (notebookContainer) {{\n",
       "    x.observe(notebookContainer, {childList: true});\n",
       "}}\n",
       "\n",
       "// Listen for the clearing of the current output cell\n",
       "var outputEl = gd.closest('.output');\n",
       "if (outputEl) {{\n",
       "    x.observe(outputEl, {childList: true});\n",
       "}}\n",
       "\n",
       "                        })                };                });            </script>        </div>"
      ]
     },
     "metadata": {},
     "output_type": "display_data"
    }
   ],
   "source": [
    "import plotly.graph_objects as go\n",
    "from datetime import datetime\n",
    "\n",
    "fig = go.Figure(data=[go.Candlestick(x=dfpl.index,\n",
    "                open=dfpl['open'],\n",
    "                high=dfpl['high'],\n",
    "                low=dfpl['low'],\n",
    "                close=dfpl['close'])])\n",
    "fig.add_trace(go.Scatter(x=ts_pivots.index, y=ts_pivots.values,line_color='blue'))\n",
    "fig.show()"
   ]
  },
  {
   "cell_type": "code",
   "execution_count": null,
   "metadata": {},
   "outputs": [],
   "source": []
  }
 ],
 "metadata": {
  "accelerator": "GPU",
  "colab": {
   "collapsed_sections": [],
   "name": "CP21_8_functions.ipynb",
   "provenance": [],
   "toc_visible": true
  },
  "kernelspec": {
   "display_name": "Python 3 (ipykernel)",
   "language": "python",
   "name": "python3"
  },
  "language_info": {
   "codemirror_mode": {
    "name": "ipython",
    "version": 3
   },
   "file_extension": ".py",
   "mimetype": "text/x-python",
   "name": "python",
   "nbconvert_exporter": "python",
   "pygments_lexer": "ipython3",
   "version": "3.9.10"
  }
 },
 "nbformat": 4,
 "nbformat_minor": 1
}
