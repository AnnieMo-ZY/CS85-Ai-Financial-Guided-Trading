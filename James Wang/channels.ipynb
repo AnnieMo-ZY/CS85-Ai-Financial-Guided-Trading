{
 "cells": [
  {
   "cell_type": "markdown",
   "id": "2a0bd4cc",
   "metadata": {},
   "source": [
    "# 1. Import Library"
   ]
  },
  {
   "cell_type": "code",
   "execution_count": 7,
   "id": "2a1b719c",
   "metadata": {},
   "outputs": [],
   "source": [
    "import pandas as pd\n",
    "import numpy as np\n",
    "from matplotlib import pyplot\n",
    "import os\n",
    "import plotly.graph_objects as go\n",
    "from datetime import datetime"
   ]
  },
  {
   "cell_type": "code",
   "execution_count": 8,
   "id": "3d6aae2f",
   "metadata": {},
   "outputs": [],
   "source": [
    "path=\"/Users/jameswang/Desktop/22S2/data5703/Data_OANDA/\""
   ]
  },
  {
   "cell_type": "markdown",
   "id": "832c7903",
   "metadata": {},
   "source": [
    "# 2. Detect Pattern"
   ]
  },
  {
   "cell_type": "code",
   "execution_count": 9,
   "id": "5432b330",
   "metadata": {},
   "outputs": [],
   "source": [
    "#load file\n",
    "def load_file(file):\n",
    "    df = pd.read_csv(path+file)\n",
    "    df.columns=['datetime', 'open', 'high', 'low', 'close']\n",
    "    df['datetime'] = pd.to_datetime(df['datetime'], format='%Y-%m-%dT%H:%M:%S.000000000Z')\n",
    "    \n",
    "    return df\n"
   ]
  },
  {
   "attachments": {
    "dotdash_INV_final_Ascending_Channel_Jan_2021-01-e24ac9e9f9d143b4845a9e7c827e555a.webp": {
     "image/webp": "[encoded data removed]"
    }
   },
   "cell_type": "markdown",
   "id": "9bd40422",
   "metadata": {},
   "source": [
    "## 2.1 Channel_up\n",
    "reference:\n",
    "<br>\n",
    "https://www.investopedia.com/terms/a/ascendingchannel.asp\n",
    "<br>\n",
    "https://tlc.thinkorswim.com/center/reference/Patterns/Classic-Patterns/Channel-Up\n",
    "<br>\n",
    "![dotdash_INV_final_Ascending_Channel_Jan_2021-01-e24ac9e9f9d143b4845a9e7c827e555a.webp](attachment:dotdash_INV_final_Ascending_Channel_Jan_2021-01-e24ac9e9f9d143b4845a9e7c827e555a.webp)\n"
   ]
  },
  {
   "cell_type": "markdown",
   "id": "5fed1f5a",
   "metadata": {},
   "source": [
    "<br>\n",
    "The Channel Up pattern is identified when there are two parallel lines, both moving up to the right across respective peaks (upper line) and bottoms (lower line). "
   ]
  },
  {
   "cell_type": "code",
   "execution_count": 30,
   "id": "abfd3c29",
   "metadata": {},
   "outputs": [],
   "source": [
    "def detect_channel_up(df,w,s):\n",
    "    \n",
    "    \n",
    "    local_min = np.array([])\n",
    "    local_max = np.array([])\n",
    "    max_idx = np.array([])\n",
    "    min_idx = np.array([])\n",
    "    \n",
    "    #determine and store local min, local max and their index\n",
    "    for i in range(0,len(df),w):\n",
    "        local_max = np.append(local_max, df.low.iloc[i:i+w].max()) \n",
    "        max_idx = np.append(max_idx, df.low.iloc[i:i+w].idxmax())\n",
    "        \n",
    "        local_min = np.append(local_min, df.low.iloc[i:i+w].min()) \n",
    "        min_idx = np.append(min_idx, df.low.iloc[i:i+w].idxmin())\n",
    "\n",
    "        \n",
    "    channel_up = np.array([0]*len(df))\n",
    "    \n",
    "    count = 0\n",
    "    n=0\n",
    "    total_patterns=0\n",
    "    index_list=[]\n",
    "    \n",
    "    \n",
    "    for i in range(0,len(local_min),s):\n",
    "\n",
    "        k_min, b_min = np.polyfit(min_idx[i:i+s], local_min[i:i+s],1)\n",
    "        k_max, b_max = np.polyfit(max_idx[i:i+s], local_max[i:i+s],1)\n",
    "    \n",
    "        m = int(min_idx[count])\n",
    "        \n",
    "        #both lines need to be positive\n",
    "        if k_min>0 and k_max>0:\n",
    "            \n",
    "            #check ratios of the slope \n",
    "            if k_min/k_max <1.1 and k_min/k_max>0.9:\n",
    "                channel_up[n:m] = 1\n",
    "                total_patterns+=1\n",
    "                for j in range (n,m):\n",
    "                    index_list.append(j)\n",
    "        n=m\n",
    "        count +=s\n",
    "    \n",
    "    df[\"channel_up\"] = channel_up\n",
    "    \n",
    "    return df,total_patterns,index_list"
   ]
  },
  {
   "cell_type": "code",
   "execution_count": 42,
   "id": "7e07cbfc",
   "metadata": {},
   "outputs": [],
   "source": [
    "df = load_file(\"GBP_JPY_M30_2005_202206.csv\")\n",
    "df,n,index_list = detect_channel_up(df,5,20)"
   ]
  },
  {
   "cell_type": "code",
   "execution_count": 35,
   "id": "22385e5f",
   "metadata": {},
   "outputs": [
    {
     "data": {
      "text/plain": [
       "0         1\n",
       "1         1\n",
       "2         1\n",
       "3         1\n",
       "4         1\n",
       "         ..\n",
       "221401    0\n",
       "221402    0\n",
       "221403    0\n",
       "221404    0\n",
       "221405    0\n",
       "Name: channel_up, Length: 221406, dtype: int64"
      ]
     },
     "execution_count": 35,
     "metadata": {},
     "output_type": "execute_result"
    }
   ],
   "source": [
    "df[\"channel_up\"]"
   ]
  },
  {
   "cell_type": "markdown",
   "id": "c1cc8125",
   "metadata": {},
   "source": [
    "## 2.2 Channel_down\n",
    "reference:\n",
    "<br>\n",
    "https://www.investopedia.com/terms/a/ascendingchannel.asp\n",
    "<br>\n",
    "https://tlc.thinkorswim.com/center/reference/Patterns/Classic-Patterns/Channel-Down\n",
    "<br>\n",
    "The Channel Down pattern is identified when there are two parallel lines, both moving down to the right across respective peaks (upper line) and bottoms (lower line). "
   ]
  },
  {
   "cell_type": "code",
   "execution_count": 64,
   "id": "05164565",
   "metadata": {},
   "outputs": [],
   "source": [
    "def detect_channel_down(df,w,s):\n",
    "    \n",
    "    \n",
    "    local_min = np.array([])\n",
    "    local_max = np.array([])\n",
    "    max_idx = np.array([])\n",
    "    min_idx = np.array([])\n",
    "    \n",
    "    #determine and store local min, local max and their index\n",
    "    for i in range(0,len(df),w):\n",
    "        local_min = np.append(local_min, df.low.iloc[i:i+w].min()) \n",
    "        min_idx = np.append(min_idx, df.low.iloc[i:i+w].idxmin())\n",
    "\n",
    "\n",
    "        local_max = np.append(local_max, df.low.iloc[i:i+w].max()) \n",
    "        max_idx = np.append(max_idx, df.low.iloc[i:i+w].idxmax())\n",
    "        \n",
    "    channel_down = np.array([0]*len(df))\n",
    "    \n",
    "    count = 0\n",
    "    n=0\n",
    "    total_patterns=0\n",
    "    index_list=[]\n",
    "    \n",
    "    for i in range(0,len(local_max),s):\n",
    "        \n",
    "        k_max, b_max = np.polyfit(max_idx[i:i+s], local_max[i:i+s],1)\n",
    "        k_min, b_min = np.polyfit(min_idx[i:i+s], local_min[i:i+s],1)\n",
    "    \n",
    "        m = int(max_idx[count])\n",
    "        if k_min<0 and k_max<0:\n",
    "        #both slopes have to be negative\n",
    "            \n",
    "            #check ratios of the slope \n",
    "            if k_min/k_max <1.1 and k_min/k_max>0.9:\n",
    "                channel_down[n:m] = 1\n",
    "                total_patterns+=1\n",
    "                for j in range (n,m+1):\n",
    "                    index_list.append(j)\n",
    "        n=m\n",
    "        count +=s\n",
    "    \n",
    "    df[\"channel_down\"] = channel_down\n",
    "    \n",
    "    return df,total_patterns,index_list"
   ]
  },
  {
   "cell_type": "code",
   "execution_count": 43,
   "id": "04ee084a",
   "metadata": {},
   "outputs": [
    {
     "name": "stdout",
     "output_type": "stream",
     "text": [
      "total number of channel_up_detected in AUD_CAD_M5_2005_202206.csv: 3465\n",
      "total number of channel_up_detected in AUD_JPY_M5_2005_202206.csv: 3606\n",
      "total number of channel_up_detected in AUD_NZD_M5_2005_202206.csv: 3335\n",
      "total number of channel_up_detected in AUD_USD_M5_2005_202206.csv: 3492\n",
      "total number of channel_up_detected in CHF_JPY_M5_2005_202206.csv: 3352\n",
      "total number of channel_up_detected in EUR_AUD_M5_2005_202206.csv: 3401\n",
      "total number of channel_up_detected in EUR_CAD_M5_2005_202206.csv: 3177\n",
      "total number of channel_up_detected in EUR_CHF_M5_2005_202206.csv: 2827\n"
     ]
    }
   ],
   "source": [
    "import warnings\n",
    "warnings.filterwarnings('ignore')\n",
    "w = 5\n",
    "s = 10\n",
    "files = [\"AUD_CAD_M5_2005_202206.csv\",\n",
    "        \"AUD_JPY_M5_2005_202206.csv\",\n",
    "        \"AUD_NZD_M5_2005_202206.csv\",\n",
    "        \"AUD_USD_M5_2005_202206.csv\",\n",
    "        \"CHF_JPY_M5_2005_202206.csv\",\n",
    "        \"EUR_AUD_M5_2005_202206.csv\",\n",
    "        \"EUR_CAD_M5_2005_202206.csv\",\n",
    "        \"EUR_CHF_M5_2005_202206.csv\"]\n",
    "numer_of_patterns = []\n",
    "for file in files:\n",
    "    df = load_file(file)\n",
    "    df,n,l = detect_channel_up(df,w,s)\n",
    "    numer_of_patterns.append(n)\n",
    "    print(\"total number of channel_up detected in \" + file + \": \" + str(n))"
   ]
  },
  {
   "cell_type": "code",
   "execution_count": 44,
   "id": "3e15d052",
   "metadata": {},
   "outputs": [
    {
     "name": "stdout",
     "output_type": "stream",
     "text": [
      "total number of channel_up detected in AUD_CAD_M5_2005_202206.csv: 3465\n",
      "total number of channel_up detected in AUD_CAD_M15_2005_202206.csv: 1193\n",
      "total number of channel_up detected in AUD_CAD_M30_2005_202206.csv: 602\n",
      "total number of channel_down detected in AUD_CAD_M5_2005_202206.csv: 5810\n",
      "total number of channel_down detected in AUD_CAD_M15_2005_202206.csv: 1989\n",
      "total number of channel_down detected in AUD_CAD_M30_2005_202206.csv: 1055\n"
     ]
    }
   ],
   "source": [
    "import warnings\n",
    "warnings.filterwarnings('ignore')\n",
    "files = [\"AUD_CAD_M5_2005_202206.csv\",\n",
    "         \"AUD_CAD_M15_2005_202206.csv\",\n",
    "         \"AUD_CAD_M30_2005_202206.csv\"]\n",
    "numer_of_patterns = []\n",
    "for file in files:\n",
    "    df = load_file(file)\n",
    "    df,n,l = detect_channel_up(df,w,s)\n",
    "    numer_of_patterns.append(n)\n",
    "    print(\"total number of channel_up detected in \" + file + \": \" + str(n))\n",
    "\n",
    "for file in files:\n",
    "    df = load_file(file)\n",
    "    df,n,l = detect_channel_down(df,w,s)\n",
    "    numer_of_patterns.append(n)\n",
    "    print(\"total number of channel_down detected in \" + file + \": \" + str(n))"
   ]
  },
  {
   "cell_type": "markdown",
   "id": "7a0bc90c",
   "metadata": {},
   "source": [
    "# 3. Visualize"
   ]
  },
  {
   "cell_type": "code",
   "execution_count": 61,
   "id": "bb96a61d",
   "metadata": {},
   "outputs": [],
   "source": [
    "df = load_file(\"GBP_JPY_M30_2005_202206.csv\")\n",
    "df,n,index_list = detect_channel_up(df,5,5)"
   ]
  },
  {
   "cell_type": "code",
   "execution_count": 62,
   "id": "b432a723",
   "metadata": {},
   "outputs": [
    {
     "data": {
      "text/plain": [
       "[654,\n",
       " 655,\n",
       " 656,\n",
       " 657,\n",
       " 658,\n",
       " 659,\n",
       " 660,\n",
       " 661,\n",
       " 662,\n",
       " 663,\n",
       " 664,\n",
       " 665,\n",
       " 666,\n",
       " 667,\n",
       " 668,\n",
       " 669,\n",
       " 670,\n",
       " 671,\n",
       " 672,\n",
       " 673,\n",
       " 674,\n",
       " 675,\n",
       " 676,\n",
       " 677,\n",
       " 678,\n",
       " 951,\n",
       " 952,\n",
       " 953,\n",
       " 954,\n",
       " 955,\n",
       " 956,\n",
       " 957,\n",
       " 958,\n",
       " 959,\n",
       " 960,\n",
       " 961,\n",
       " 962,\n",
       " 963,\n",
       " 964,\n",
       " 965,\n",
       " 966,\n",
       " 967,\n",
       " 968,\n",
       " 969,\n",
       " 970,\n",
       " 971,\n",
       " 972,\n",
       " 973,\n",
       " 974,\n",
       " 1325,\n",
       " 1326,\n",
       " 1327,\n",
       " 1328,\n",
       " 1329,\n",
       " 1330,\n",
       " 1331,\n",
       " 1332,\n",
       " 1333,\n",
       " 1334,\n",
       " 1335,\n",
       " 1336,\n",
       " 1337,\n",
       " 1338,\n",
       " 1339,\n",
       " 1340,\n",
       " 1341,\n",
       " 1342,\n",
       " 1343,\n",
       " 1344,\n",
       " 1345,\n",
       " 1346,\n",
       " 1347,\n",
       " 1348,\n",
       " 1349,\n",
       " 1350,\n",
       " 1351,\n",
       " 1404,\n",
       " 1405,\n",
       " 1406,\n",
       " 1407,\n",
       " 1408,\n",
       " 1409,\n",
       " 1410,\n",
       " 1411,\n",
       " 1412,\n",
       " 1413,\n",
       " 1414,\n",
       " 1415,\n",
       " 1416,\n",
       " 1417,\n",
       " 1418,\n",
       " 1419,\n",
       " 1420,\n",
       " 1421,\n",
       " 1422,\n",
       " 1423,\n",
       " 1424,\n",
       " 1425,\n",
       " 1426,\n",
       " 1427,\n",
       " 1428,\n",
       " 1453,\n",
       " 1454,\n",
       " 1455,\n",
       " 1456,\n",
       " 1457,\n",
       " 1458,\n",
       " 1459,\n",
       " 1460,\n",
       " 1461,\n",
       " 1462,\n",
       " 1463,\n",
       " 1464,\n",
       " 1465,\n",
       " 1466,\n",
       " 1467,\n",
       " 1468,\n",
       " 1469,\n",
       " 1470,\n",
       " 1471,\n",
       " 1472,\n",
       " 1473,\n",
       " 1474,\n",
       " 1475,\n",
       " 1476,\n",
       " 1477,\n",
       " 1478,\n",
       " 2154,\n",
       " 2155,\n",
       " 2156,\n",
       " 2157,\n",
       " 2158,\n",
       " 2159,\n",
       " 2160,\n",
       " 2161,\n",
       " 2162,\n",
       " 2163,\n",
       " 2164,\n",
       " 2165,\n",
       " 2166,\n",
       " 2167,\n",
       " 2168,\n",
       " 2169,\n",
       " 2170,\n",
       " 2171,\n",
       " 2172,\n",
       " 2173,\n",
       " 2174,\n",
       " 2175,\n",
       " 2176,\n",
       " 2279,\n",
       " 2280,\n",
       " 2281,\n",
       " 2282,\n",
       " 2283,\n",
       " 2284,\n",
       " 2285,\n",
       " 2286,\n",
       " 2287,\n",
       " 2288,\n",
       " 2289,\n",
       " 2290,\n",
       " 2291,\n",
       " 2292,\n",
       " 2293,\n",
       " 2294,\n",
       " 2295,\n",
       " 2296,\n",
       " 2297,\n",
       " 2298,\n",
       " 2299,\n",
       " 2300,\n",
       " 2301,\n",
       " 2302,\n",
       " 2303,\n",
       " 2675,\n",
       " 2676,\n",
       " 2677,\n",
       " 2678,\n",
       " 2679,\n",
       " 2680,\n",
       " 2681,\n",
       " 2682,\n",
       " 2683,\n",
       " 2684,\n",
       " 2685,\n",
       " 2686,\n",
       " 2687,\n",
       " 2688,\n",
       " 2689,\n",
       " 2690,\n",
       " 2691,\n",
       " 2692,\n",
       " 2693,\n",
       " 2694,\n",
       " 2695,\n",
       " 2696,\n",
       " 2697,\n",
       " 2698,\n",
       " 2699,\n",
       " 2854,\n",
       " 2855,\n",
       " 2856,\n",
       " 2857,\n",
       " 2858,\n",
       " 2859,\n",
       " 2860,\n",
       " 2861,\n",
       " 2862,\n",
       " 2863,\n",
       " 2864,\n",
       " 2865,\n",
       " 2866,\n",
       " 2867,\n",
       " 2868,\n",
       " 2869,\n",
       " 2870,\n",
       " 2871,\n",
       " 2872,\n",
       " 2873,\n",
       " 2874,\n",
       " 3000,\n",
       " 3001,\n",
       " 3002,\n",
       " 3003,\n",
       " 3004,\n",
       " 3005,\n",
       " 3006,\n",
       " 3007,\n",
       " 3008,\n",
       " 3009,\n",
       " 3010,\n",
       " 3011,\n",
       " 3012,\n",
       " 3013,\n",
       " 3014,\n",
       " 3015,\n",
       " 3016,\n",
       " 3017,\n",
       " 3018,\n",
       " 3019,\n",
       " 3020,\n",
       " 3021,\n",
       " 3022,\n",
       " 3023,\n",
       " 3024,\n",
       " 3025,\n",
       " 3400,\n",
       " 3401,\n",
       " 3402,\n",
       " 3403,\n",
       " 3404,\n",
       " 3405,\n",
       " 3406,\n",
       " 3407,\n",
       " 3408,\n",
       " 3409,\n",
       " 3410,\n",
       " 3411,\n",
       " 3412,\n",
       " 3413,\n",
       " 3414,\n",
       " 3415,\n",
       " 3416,\n",
       " 3417,\n",
       " 3418,\n",
       " 3419,\n",
       " 3420,\n",
       " 3421,\n",
       " 3422,\n",
       " 3423,\n",
       " 3424,\n",
       " 3751,\n",
       " 3752,\n",
       " 3753,\n",
       " 3754,\n",
       " 3755,\n",
       " 3756,\n",
       " 3757,\n",
       " 3758,\n",
       " 3759,\n",
       " 3760,\n",
       " 3761,\n",
       " 3762,\n",
       " 3763,\n",
       " 3764,\n",
       " 3765,\n",
       " 3766,\n",
       " 3767,\n",
       " 3768,\n",
       " 3769,\n",
       " 3770,\n",
       " 3771,\n",
       " 3772,\n",
       " 3773,\n",
       " 3774,\n",
       " 3775,\n",
       " 3776,\n",
       " 4176,\n",
       " 4177,\n",
       " 4178,\n",
       " 4179,\n",
       " 4180,\n",
       " 4181,\n",
       " 4182,\n",
       " 4183,\n",
       " 4184,\n",
       " 4185,\n",
       " 4186,\n",
       " 4187,\n",
       " 4188,\n",
       " 4189,\n",
       " 4190,\n",
       " 4191,\n",
       " 4192,\n",
       " 4193,\n",
       " 4194,\n",
       " 4195,\n",
       " 4196,\n",
       " 4197,\n",
       " 4198,\n",
       " 4199,\n",
       " 4200,\n",
       " 4801,\n",
       " 4802,\n",
       " 4803,\n",
       " 4804,\n",
       " 4805,\n",
       " 4806,\n",
       " 4807,\n",
       " 4808,\n",
       " 4809,\n",
       " 4810,\n",
       " 4811,\n",
       " 4812,\n",
       " 4813,\n",
       " 4814,\n",
       " 4815,\n",
       " 4816,\n",
       " 4817,\n",
       " 4818,\n",
       " 4819,\n",
       " 4820,\n",
       " 4821,\n",
       " 4822,\n",
       " 4823,\n",
       " 4824,\n",
       " 4825,\n",
       " 5153,\n",
       " 5154,\n",
       " 5155,\n",
       " 5156,\n",
       " 5157,\n",
       " 5158,\n",
       " 5159,\n",
       " 5160,\n",
       " 5161,\n",
       " 5162,\n",
       " 5163,\n",
       " 5164,\n",
       " 5165,\n",
       " 5166,\n",
       " 5167,\n",
       " 5168,\n",
       " 5169,\n",
       " 5170,\n",
       " 5171,\n",
       " 5172,\n",
       " 5173,\n",
       " 5174,\n",
       " 6003,\n",
       " 6004,\n",
       " 6005,\n",
       " 6006,\n",
       " 6007,\n",
       " 6008,\n",
       " 6009,\n",
       " 6010,\n",
       " 6011,\n",
       " 6012,\n",
       " 6013,\n",
       " 6014,\n",
       " 6015,\n",
       " 6016,\n",
       " 6017,\n",
       " 6018,\n",
       " 6019,\n",
       " 6020,\n",
       " 6021,\n",
       " 6022,\n",
       " 6023,\n",
       " 6024,\n",
       " 6025,\n",
       " 6026,\n",
       " 6103,\n",
       " 6104,\n",
       " 6105,\n",
       " 6106,\n",
       " 6107,\n",
       " 6108,\n",
       " 6109,\n",
       " 6110,\n",
       " 6111,\n",
       " 6112,\n",
       " 6113,\n",
       " 6114,\n",
       " 6115,\n",
       " 6116,\n",
       " 6117,\n",
       " 6118,\n",
       " 6119,\n",
       " 6120,\n",
       " 6121,\n",
       " 6122,\n",
       " 6123,\n",
       " 6124,\n",
       " 6125,\n",
       " 6126,\n",
       " 6127,\n",
       " 6128,\n",
       " 6450,\n",
       " 6451,\n",
       " 6452,\n",
       " 6453,\n",
       " 6454,\n",
       " 6455,\n",
       " 6456,\n",
       " 6457,\n",
       " 6458,\n",
       " 6459,\n",
       " 6460,\n",
       " 6461,\n",
       " 6462,\n",
       " 6463,\n",
       " 6464,\n",
       " 6465,\n",
       " 6466,\n",
       " 6467,\n",
       " 6468,\n",
       " 6469,\n",
       " 6470,\n",
       " 6471,\n",
       " 6472,\n",
       " 6473,\n",
       " 6474,\n",
       " 6475,\n",
       " 6476,\n",
       " 6477,\n",
       " 6478,\n",
       " 7300,\n",
       " 7301,\n",
       " 7302,\n",
       " 7303,\n",
       " 7304,\n",
       " 7305,\n",
       " 7306,\n",
       " 7307,\n",
       " 7308,\n",
       " 7309,\n",
       " 7310,\n",
       " 7311,\n",
       " 7312,\n",
       " 7313,\n",
       " 7314,\n",
       " 7315,\n",
       " 7316,\n",
       " 7317,\n",
       " 7318,\n",
       " 7319,\n",
       " 7320,\n",
       " 7321,\n",
       " 7322,\n",
       " 7323,\n",
       " 7324,\n",
       " 7325,\n",
       " 7326,\n",
       " 7327,\n",
       " 7328,\n",
       " 7554,\n",
       " 7555,\n",
       " 7556,\n",
       " 7557,\n",
       " 7558,\n",
       " 7559,\n",
       " 7560,\n",
       " 7561,\n",
       " 7562,\n",
       " 7563,\n",
       " 7564,\n",
       " 7565,\n",
       " 7566,\n",
       " 7567,\n",
       " 7568,\n",
       " 7569,\n",
       " 7570,\n",
       " 7571,\n",
       " 7572,\n",
       " 7573,\n",
       " 7574,\n",
       " 7629,\n",
       " 7630,\n",
       " 7631,\n",
       " 7632,\n",
       " 7633,\n",
       " 7634,\n",
       " 7635,\n",
       " 7636,\n",
       " 7637,\n",
       " 7638,\n",
       " 7639,\n",
       " 7640,\n",
       " 7641,\n",
       " 7642,\n",
       " 7643,\n",
       " 7644,\n",
       " 7645,\n",
       " 7646,\n",
       " 7647,\n",
       " 7648,\n",
       " 7649,\n",
       " 8025,\n",
       " 8026,\n",
       " 8027,\n",
       " 8028,\n",
       " 8029,\n",
       " 8030,\n",
       " 8031,\n",
       " 8032,\n",
       " 8033,\n",
       " 8034,\n",
       " 8035,\n",
       " 8036,\n",
       " 8037,\n",
       " 8038,\n",
       " 8039,\n",
       " 8040,\n",
       " 8041,\n",
       " 8042,\n",
       " 8043,\n",
       " 8044,\n",
       " 8045,\n",
       " 8046,\n",
       " 8047,\n",
       " 8048,\n",
       " 8049,\n",
       " 8050,\n",
       " 8229,\n",
       " 8230,\n",
       " 8231,\n",
       " 8232,\n",
       " 8233,\n",
       " 8234,\n",
       " 8235,\n",
       " 8236,\n",
       " 8237,\n",
       " 8238,\n",
       " 8239,\n",
       " 8240,\n",
       " 8241,\n",
       " 8242,\n",
       " 8243,\n",
       " 8244,\n",
       " 8245,\n",
       " 8246,\n",
       " 8247,\n",
       " 8248,\n",
       " 8249,\n",
       " 8250,\n",
       " 8379,\n",
       " 8380,\n",
       " 8381,\n",
       " 8382,\n",
       " 8383,\n",
       " 8384,\n",
       " 8385,\n",
       " 8386,\n",
       " 8387,\n",
       " 8388,\n",
       " 8389,\n",
       " 8390,\n",
       " 8391,\n",
       " 8392,\n",
       " 8393,\n",
       " 8394,\n",
       " 8395,\n",
       " 8396,\n",
       " 8397,\n",
       " 8398,\n",
       " 8399,\n",
       " 8502,\n",
       " 8503,\n",
       " 8504,\n",
       " 8505,\n",
       " 8506,\n",
       " 8507,\n",
       " 8508,\n",
       " 8509,\n",
       " 8510,\n",
       " 8511,\n",
       " 8512,\n",
       " 8513,\n",
       " 8514,\n",
       " 8515,\n",
       " 8516,\n",
       " 8517,\n",
       " 8518,\n",
       " 8519,\n",
       " 8520,\n",
       " 8521,\n",
       " 8522,\n",
       " 8523,\n",
       " 8524,\n",
       " 8601,\n",
       " 8602,\n",
       " 8603,\n",
       " 8604,\n",
       " 8605,\n",
       " 8606,\n",
       " 8607,\n",
       " 8608,\n",
       " 8609,\n",
       " 8610,\n",
       " 8611,\n",
       " 8612,\n",
       " 8613,\n",
       " 8614,\n",
       " 8615,\n",
       " 8616,\n",
       " 8617,\n",
       " 8618,\n",
       " 8619,\n",
       " 8620,\n",
       " 8621,\n",
       " 8622,\n",
       " 8623,\n",
       " 8624,\n",
       " 9675,\n",
       " 9676,\n",
       " 9677,\n",
       " 9678,\n",
       " 9679,\n",
       " 9680,\n",
       " 9681,\n",
       " 9682,\n",
       " 9683,\n",
       " 9684,\n",
       " 9685,\n",
       " 9686,\n",
       " 9687,\n",
       " 9688,\n",
       " 9689,\n",
       " 9690,\n",
       " 9691,\n",
       " 9692,\n",
       " 9693,\n",
       " 9694,\n",
       " 9695,\n",
       " 9696,\n",
       " 9697,\n",
       " 9698,\n",
       " 9699,\n",
       " 9700,\n",
       " 10300,\n",
       " 10301,\n",
       " 10302,\n",
       " 10303,\n",
       " 10304,\n",
       " 10305,\n",
       " 10306,\n",
       " 10307,\n",
       " 10308,\n",
       " 10309,\n",
       " 10310,\n",
       " 10311,\n",
       " 10312,\n",
       " 10313,\n",
       " 10314,\n",
       " 10315,\n",
       " 10316,\n",
       " 10317,\n",
       " 10318,\n",
       " 10319,\n",
       " 10320,\n",
       " 10321,\n",
       " 10322,\n",
       " 10323,\n",
       " 10324,\n",
       " 10325,\n",
       " 10326,\n",
       " 10327,\n",
       " 10703,\n",
       " 10704,\n",
       " 10705,\n",
       " 10706,\n",
       " 10707,\n",
       " 10708,\n",
       " 10709,\n",
       " 10710,\n",
       " 10711,\n",
       " 10712,\n",
       " 10713,\n",
       " 10714,\n",
       " 10715,\n",
       " 10716,\n",
       " 10717,\n",
       " 10718,\n",
       " 10719,\n",
       " 10720,\n",
       " 10721,\n",
       " 10722,\n",
       " 10723,\n",
       " 10724,\n",
       " 10725,\n",
       " 10726,\n",
       " 10727,\n",
       " 10728,\n",
       " 10729,\n",
       " 10730,\n",
       " 10731,\n",
       " 10732,\n",
       " 10733,\n",
       " 10734,\n",
       " 10735,\n",
       " 10736,\n",
       " 10737,\n",
       " 10738,\n",
       " 10739,\n",
       " 10740,\n",
       " 10741,\n",
       " 10742,\n",
       " 10743,\n",
       " 10744,\n",
       " 10745,\n",
       " 10746,\n",
       " 10747,\n",
       " 10748,\n",
       " 10749,\n",
       " 10750,\n",
       " 10751,\n",
       " 10752,\n",
       " 10753,\n",
       " 10754,\n",
       " 10755,\n",
       " 10756,\n",
       " 10757,\n",
       " 10758,\n",
       " 10759,\n",
       " 10760,\n",
       " 10761,\n",
       " 10762,\n",
       " 10763,\n",
       " 10764,\n",
       " 10765,\n",
       " 10766,\n",
       " 10767,\n",
       " 10768,\n",
       " 10769,\n",
       " 10770,\n",
       " 10771,\n",
       " 10772,\n",
       " 10773,\n",
       " 10774,\n",
       " 10775,\n",
       " 11053,\n",
       " 11054,\n",
       " 11055,\n",
       " 11056,\n",
       " 11057,\n",
       " 11058,\n",
       " 11059,\n",
       " 11060,\n",
       " 11061,\n",
       " 11062,\n",
       " 11063,\n",
       " 11064,\n",
       " 11065,\n",
       " 11066,\n",
       " 11067,\n",
       " 11068,\n",
       " 11069,\n",
       " 11070,\n",
       " 11071,\n",
       " 11072,\n",
       " 11073,\n",
       " 11074,\n",
       " 11100,\n",
       " 11101,\n",
       " 11102,\n",
       " 11103,\n",
       " 11104,\n",
       " 11105,\n",
       " 11106,\n",
       " 11107,\n",
       " 11108,\n",
       " 11109,\n",
       " 11110,\n",
       " 11111,\n",
       " 11112,\n",
       " 11113,\n",
       " 11114,\n",
       " 11115,\n",
       " 11116,\n",
       " 11117,\n",
       " 11118,\n",
       " 11119,\n",
       " 11120,\n",
       " 11121,\n",
       " 11122,\n",
       " 11123,\n",
       " 11124,\n",
       " 11125,\n",
       " 11725,\n",
       " 11726,\n",
       " 11727,\n",
       " 11728,\n",
       " 11729,\n",
       " 11730,\n",
       " 11731,\n",
       " 11732,\n",
       " 11733,\n",
       " 11734,\n",
       " 11735,\n",
       " 11736,\n",
       " 11737,\n",
       " 11738,\n",
       " 11739,\n",
       " 11740,\n",
       " 11741,\n",
       " 11742,\n",
       " 11743,\n",
       " 11744,\n",
       " 11745,\n",
       " 11746,\n",
       " 11747,\n",
       " 11748,\n",
       " 11749,\n",
       " 12654,\n",
       " 12655,\n",
       " 12656,\n",
       " 12657,\n",
       " 12658,\n",
       " 12659,\n",
       " 12660,\n",
       " 12661,\n",
       " 12662,\n",
       " 12663,\n",
       " 12664,\n",
       " 12665,\n",
       " 12666,\n",
       " 12667,\n",
       " 12668,\n",
       " 12669,\n",
       " 12670,\n",
       " 12671,\n",
       " 12672,\n",
       " 12673,\n",
       " 12674,\n",
       " 12850,\n",
       " 12851,\n",
       " 12852,\n",
       " 12853,\n",
       " 12854,\n",
       " 12855,\n",
       " 12856,\n",
       " 12857,\n",
       " 12858,\n",
       " 12859,\n",
       " 12860,\n",
       " 12861,\n",
       " 12862,\n",
       " 12863,\n",
       " 12864,\n",
       " 12865,\n",
       " 12866,\n",
       " 12867,\n",
       " 12868,\n",
       " 12869,\n",
       " 12870,\n",
       " 12871,\n",
       " 12872,\n",
       " 12873,\n",
       " 12874,\n",
       " 12875,\n",
       " 12876,\n",
       " 14204,\n",
       " 14205,\n",
       " 14206,\n",
       " 14207,\n",
       " 14208,\n",
       " 14209,\n",
       " 14210,\n",
       " 14211,\n",
       " 14212,\n",
       " 14213,\n",
       " 14214,\n",
       " 14215,\n",
       " 14216,\n",
       " 14217,\n",
       " 14218,\n",
       " 14219,\n",
       " 14220,\n",
       " 14221,\n",
       " 14222,\n",
       " 14223,\n",
       " 14224,\n",
       " 14225,\n",
       " 14226,\n",
       " 14525,\n",
       " 14526,\n",
       " 14527,\n",
       " 14528,\n",
       " 14529,\n",
       " 14530,\n",
       " 14531,\n",
       " 14532,\n",
       " 14533,\n",
       " 14534,\n",
       " 14535,\n",
       " 14536,\n",
       " 14537,\n",
       " 14538,\n",
       " 14539,\n",
       " 14540,\n",
       " 14541,\n",
       " 14542,\n",
       " 14543,\n",
       " 14544,\n",
       " 14545,\n",
       " 14546,\n",
       " 14547,\n",
       " 14548,\n",
       " 14549,\n",
       " 14625,\n",
       " 14626,\n",
       " 14627,\n",
       " 14628,\n",
       " 14629,\n",
       " 14630,\n",
       " 14631,\n",
       " 14632,\n",
       " 14633,\n",
       " 14634,\n",
       " 14635,\n",
       " 14636,\n",
       " 14637,\n",
       " 14638,\n",
       " 14639,\n",
       " 14640,\n",
       " 14641,\n",
       " 14642,\n",
       " 14643,\n",
       " 14644,\n",
       " 14645,\n",
       " 14646,\n",
       " 14647,\n",
       " 14648,\n",
       " 14649,\n",
       " 15252,\n",
       " 15253,\n",
       " 15254,\n",
       " 15255,\n",
       " 15256,\n",
       " 15257,\n",
       " 15258,\n",
       " 15259,\n",
       " 15260,\n",
       " 15261,\n",
       " 15262,\n",
       " 15263,\n",
       " 15264,\n",
       " 15265,\n",
       " 15266,\n",
       " 15267,\n",
       " 15268,\n",
       " 15269,\n",
       " 15270,\n",
       " 15271,\n",
       " 15272,\n",
       " 15273,\n",
       " 15274,\n",
       " 15479,\n",
       " 15480,\n",
       " 15481,\n",
       " 15482,\n",
       " 15483,\n",
       " 15484,\n",
       " 15485,\n",
       " 15486,\n",
       " 15487,\n",
       " 15488,\n",
       " 15489,\n",
       " 15490,\n",
       " 15491,\n",
       " 15492,\n",
       " 15493,\n",
       " 15494,\n",
       " 15495,\n",
       " 15496,\n",
       " 15497,\n",
       " 15498,\n",
       " ...]"
      ]
     },
     "execution_count": 62,
     "metadata": {},
     "output_type": "execute_result"
    }
   ],
   "source": [
    "index_list"
   ]
  },
  {
   "cell_type": "code",
   "execution_count": 49,
   "id": "d64faa41",
   "metadata": {},
   "outputs": [],
   "source": [
    "local_min = np.array([])\n",
    "local_max = np.array([])\n",
    "max_idx = np.array([])\n",
    "min_idx = np.array([])\n",
    "\n",
    "for i in range(0,len(df),5):\n",
    "    local_min = np.append(local_min, df.low.iloc[i:i+w].min()) \n",
    "    min_idx = np.append(min_idx, df.low.iloc[i:i+w].idxmin())\n",
    "\n",
    "\n",
    "    local_max = np.append(local_max, df.low.iloc[i:i+w].max()) \n",
    "    max_idx = np.append(max_idx, df.low.iloc[i:i+w].idxmax())\n",
    "\n"
   ]
  },
  {
   "cell_type": "code",
   "execution_count": 67,
   "id": "fac2a448",
   "metadata": {},
   "outputs": [
    {
     "data": {
      "application/vnd.plotly.v1+json": {
       "config": {
        "plotlyServerURL": "https://plot.ly"
       },
       "data": [
        {
         "close": [
          190.615,
          190.615,
          190.485,
          190.815,
          190.895,
          191.175,
          191.205,
          191.135,
          191.145,
          191.135,
          191.215,
          191.215,
          191.275,
          191.165,
          191.155,
          191.245,
          191.085,
          191.05,
          191.48,
          191.612,
          192.155,
          192.42,
          192.495,
          192.785,
          192.725,
          192.705,
          192.385,
          192.095,
          192.175,
          192.285,
          192.195,
          192.005,
          192.055,
          192.025,
          192.435,
          192.065,
          191.945,
          191.84,
          191.75,
          191.97,
          191.97,
          192.15,
          192.23,
          192.32,
          192.41,
          192.305,
          192.285,
          192.265,
          192.315,
          192.34,
          192.53,
          192.52,
          192.61,
          192.46,
          191.96,
          192.02,
          192.28,
          192.13,
          192.04,
          192.26,
          192.19,
          192.16,
          192.06,
          192.03,
          192.17,
          192.135,
          192.025,
          192.205,
          192.315,
          192.055,
          191.795,
          192.365,
          192.145,
          192.325,
          192.295,
          192.375,
          192.205,
          192.115,
          192.075,
          192.195,
          192.51,
          192.845,
          192.955,
          193.39,
          193.32,
          193.475,
          193.385,
          193.695,
          193.487,
          193.357,
          193.708,
          193.508,
          193.508,
          193.493,
          193.603,
          193.49,
          193.63,
          193.73,
          193.35,
          193.51
         ],
         "high": [
          190.715,
          190.745,
          190.745,
          190.845,
          190.915,
          191.175,
          191.215,
          191.205,
          191.165,
          191.195,
          191.235,
          191.235,
          191.305,
          191.305,
          191.235,
          191.295,
          191.265,
          191.215,
          191.56,
          191.71,
          192.185,
          192.45,
          192.575,
          192.825,
          192.815,
          192.825,
          192.765,
          192.455,
          192.235,
          192.415,
          192.455,
          192.195,
          192.255,
          192.195,
          192.435,
          192.455,
          192.275,
          192.04,
          191.87,
          192.06,
          192.08,
          192.24,
          192.34,
          192.32,
          192.43,
          192.435,
          192.415,
          192.365,
          192.375,
          192.42,
          192.63,
          192.54,
          192.63,
          192.57,
          192.56,
          192.16,
          192.36,
          192.31,
          192.14,
          192.26,
          192.34,
          192.19,
          192.17,
          192.14,
          192.2,
          192.415,
          192.185,
          192.255,
          192.705,
          192.425,
          192.095,
          192.465,
          192.455,
          192.325,
          192.445,
          192.445,
          192.405,
          192.375,
          192.315,
          192.305,
          192.51,
          193.09,
          192.985,
          193.42,
          193.49,
          193.55,
          193.595,
          193.765,
          194.015,
          193.557,
          193.768,
          193.808,
          193.618,
          193.558,
          193.613,
          193.633,
          193.64,
          193.77,
          193.74,
          193.57
         ],
         "low": [
          190.605,
          190.565,
          190.485,
          190.495,
          190.725,
          190.845,
          191.045,
          190.985,
          191.065,
          191.095,
          191.065,
          191.065,
          191.195,
          191.125,
          191.065,
          191.055,
          191.065,
          191,
          191.06,
          191.35,
          191.512,
          192.145,
          192.195,
          192.485,
          192.625,
          192.585,
          192.375,
          192.075,
          191.965,
          192.145,
          192.175,
          191.715,
          191.915,
          192.025,
          191.935,
          192.005,
          191.925,
          191.8,
          191.73,
          191.54,
          191.91,
          191.85,
          192.08,
          192.22,
          192.24,
          192.275,
          192.215,
          192.185,
          192.215,
          192.25,
          192.3,
          192.31,
          192.45,
          192.4,
          191.94,
          191.96,
          192.01,
          192.07,
          192.03,
          192.03,
          192.13,
          192.05,
          192.02,
          192,
          192,
          192.045,
          191.945,
          191.965,
          192.175,
          191.875,
          191.645,
          191.775,
          191.925,
          192.035,
          192.255,
          192.135,
          192.125,
          192.095,
          192.045,
          192.025,
          192.115,
          192.435,
          192.675,
          192.895,
          193.28,
          193.245,
          193.285,
          193.345,
          193.437,
          193.317,
          193.347,
          193.468,
          193.478,
          193.343,
          193.373,
          193.413,
          193.44,
          193.59,
          193.33,
          193.32
         ],
         "open": [
          190.665,
          190.615,
          190.615,
          190.505,
          190.825,
          190.905,
          191.185,
          191.195,
          191.135,
          191.145,
          191.135,
          191.215,
          191.225,
          191.305,
          191.145,
          191.145,
          191.255,
          191.085,
          191.06,
          191.48,
          191.622,
          192.155,
          192.43,
          192.485,
          192.785,
          192.735,
          192.715,
          192.365,
          192.105,
          192.165,
          192.275,
          192.195,
          192.005,
          192.045,
          192.035,
          192.415,
          192.065,
          191.965,
          191.84,
          191.73,
          191.95,
          191.98,
          192.14,
          192.24,
          192.32,
          192.39,
          192.315,
          192.285,
          192.225,
          192.315,
          192.36,
          192.54,
          192.52,
          192.57,
          192.45,
          191.96,
          192.02,
          192.27,
          192.12,
          192.03,
          192.25,
          192.18,
          192.17,
          192.07,
          192.01,
          192.18,
          192.145,
          192.035,
          192.195,
          192.305,
          192.055,
          191.795,
          192.385,
          192.145,
          192.335,
          192.305,
          192.355,
          192.205,
          192.105,
          192.065,
          192.195,
          192.54,
          192.855,
          192.985,
          193.38,
          193.31,
          193.485,
          193.385,
          193.695,
          193.497,
          193.357,
          193.678,
          193.488,
          193.508,
          193.503,
          193.593,
          193.49,
          193.62,
          193.73,
          193.34
         ],
         "type": "candlestick",
         "x": [
          600,
          601,
          602,
          603,
          604,
          605,
          606,
          607,
          608,
          609,
          610,
          611,
          612,
          613,
          614,
          615,
          616,
          617,
          618,
          619,
          620,
          621,
          622,
          623,
          624,
          625,
          626,
          627,
          628,
          629,
          630,
          631,
          632,
          633,
          634,
          635,
          636,
          637,
          638,
          639,
          640,
          641,
          642,
          643,
          644,
          645,
          646,
          647,
          648,
          649,
          650,
          651,
          652,
          653,
          654,
          655,
          656,
          657,
          658,
          659,
          660,
          661,
          662,
          663,
          664,
          665,
          666,
          667,
          668,
          669,
          670,
          671,
          672,
          673,
          674,
          675,
          676,
          677,
          678,
          679,
          680,
          681,
          682,
          683,
          684,
          685,
          686,
          687,
          688,
          689,
          690,
          691,
          692,
          693,
          694,
          695,
          696,
          697,
          698,
          699
         ]
        },
        {
         "mode": "lines",
         "name": "lower line",
         "type": "scatter",
         "x": [
          602,
          605,
          610,
          617,
          620,
          628,
          631,
          639,
          641,
          647,
          654,
          655,
          663,
          669,
          670,
          679,
          680,
          685,
          693,
          699
         ],
         "y": [
          190.04896492823755,
          190.11937824022706,
          190.2367337602096,
          190.40103148818514,
          190.47144480017468,
          190.65921363214673,
          190.72962694413624,
          190.9173957761083,
          190.96433798410132,
          191.10516460808034,
          191.2694623360559,
          191.29293344005242,
          191.48070227202447,
          191.6215288960035,
          191.645,
          191.85623993596857,
          191.8797110399651,
          191.9970665599476,
          192.18483539191968,
          192.3256620158987
         ]
        },
        {
         "mode": "lines",
         "name": "upper line",
         "type": "scatter",
         "x": [
          604,
          609,
          612,
          619,
          624,
          625,
          630,
          635,
          644,
          645,
          652,
          657,
          660,
          668,
          674,
          675,
          684,
          688,
          692,
          697
         ],
         "y": [
          192.34701639637137,
          192.46401229727852,
          192.53420983782283,
          192.69800409909283,
          192.815,
          192.83839918018143,
          192.95539508108857,
          193.07239098199574,
          193.28298360362862,
          193.30638278381005,
          193.47017704508008,
          193.58717294598722,
          193.65737048653153,
          193.844563927983,
          193.98495900907156,
          194.008358189253,
          194.21895081088587,
          194.3125475316116,
          194.40614425233733,
          194.5231401532445
         ]
        }
       ],
       "layout": {
        "template": {
         "data": {
          "bar": [
           {
            "error_x": {
             "color": "#2a3f5f"
            },
            "error_y": {
             "color": "#2a3f5f"
            },
            "marker": {
             "line": {
              "color": "#E5ECF6",
              "width": 0.5
             },
             "pattern": {
              "fillmode": "overlay",
              "size": 10,
              "solidity": 0.2
             }
            },
            "type": "bar"
           }
          ],
          "barpolar": [
           {
            "marker": {
             "line": {
              "color": "#E5ECF6",
              "width": 0.5
             },
             "pattern": {
              "fillmode": "overlay",
              "size": 10,
              "solidity": 0.2
             }
            },
            "type": "barpolar"
           }
          ],
          "carpet": [
           {
            "aaxis": {
             "endlinecolor": "#2a3f5f",
             "gridcolor": "white",
             "linecolor": "white",
             "minorgridcolor": "white",
             "startlinecolor": "#2a3f5f"
            },
            "baxis": {
             "endlinecolor": "#2a3f5f",
             "gridcolor": "white",
             "linecolor": "white",
             "minorgridcolor": "white",
             "startlinecolor": "#2a3f5f"
            },
            "type": "carpet"
           }
          ],
          "choropleth": [
           {
            "colorbar": {
             "outlinewidth": 0,
             "ticks": ""
            },
            "type": "choropleth"
           }
          ],
          "contour": [
           {
            "colorbar": {
             "outlinewidth": 0,
             "ticks": ""
            },
            "colorscale": [
             [
              0,
              "#0d0887"
             ],
             [
              0.1111111111111111,
              "#46039f"
             ],
             [
              0.2222222222222222,
              "#7201a8"
             ],
             [
              0.3333333333333333,
              "#9c179e"
             ],
             [
              0.4444444444444444,
              "#bd3786"
             ],
             [
              0.5555555555555556,
              "#d8576b"
             ],
             [
              0.6666666666666666,
              "#ed7953"
             ],
             [
              0.7777777777777778,
              "#fb9f3a"
             ],
             [
              0.8888888888888888,
              "#fdca26"
             ],
             [
              1,
              "#f0f921"
             ]
            ],
            "type": "contour"
           }
          ],
          "contourcarpet": [
           {
            "colorbar": {
             "outlinewidth": 0,
             "ticks": ""
            },
            "type": "contourcarpet"
           }
          ],
          "heatmap": [
           {
            "colorbar": {
             "outlinewidth": 0,
             "ticks": ""
            },
            "colorscale": [
             [
              0,
              "#0d0887"
             ],
             [
              0.1111111111111111,
              "#46039f"
             ],
             [
              0.2222222222222222,
              "#7201a8"
             ],
             [
              0.3333333333333333,
              "#9c179e"
             ],
             [
              0.4444444444444444,
              "#bd3786"
             ],
             [
              0.5555555555555556,
              "#d8576b"
             ],
             [
              0.6666666666666666,
              "#ed7953"
             ],
             [
              0.7777777777777778,
              "#fb9f3a"
             ],
             [
              0.8888888888888888,
              "#fdca26"
             ],
             [
              1,
              "#f0f921"
             ]
            ],
            "type": "heatmap"
           }
          ],
          "heatmapgl": [
           {
            "colorbar": {
             "outlinewidth": 0,
             "ticks": ""
            },
            "colorscale": [
             [
              0,
              "#0d0887"
             ],
             [
              0.1111111111111111,
              "#46039f"
             ],
             [
              0.2222222222222222,
              "#7201a8"
             ],
             [
              0.3333333333333333,
              "#9c179e"
             ],
             [
              0.4444444444444444,
              "#bd3786"
             ],
             [
              0.5555555555555556,
              "#d8576b"
             ],
             [
              0.6666666666666666,
              "#ed7953"
             ],
             [
              0.7777777777777778,
              "#fb9f3a"
             ],
             [
              0.8888888888888888,
              "#fdca26"
             ],
             [
              1,
              "#f0f921"
             ]
            ],
            "type": "heatmapgl"
           }
          ],
          "histogram": [
           {
            "marker": {
             "pattern": {
              "fillmode": "overlay",
              "size": 10,
              "solidity": 0.2
             }
            },
            "type": "histogram"
           }
          ],
          "histogram2d": [
           {
            "colorbar": {
             "outlinewidth": 0,
             "ticks": ""
            },
            "colorscale": [
             [
              0,
              "#0d0887"
             ],
             [
              0.1111111111111111,
              "#46039f"
             ],
             [
              0.2222222222222222,
              "#7201a8"
             ],
             [
              0.3333333333333333,
              "#9c179e"
             ],
             [
              0.4444444444444444,
              "#bd3786"
             ],
             [
              0.5555555555555556,
              "#d8576b"
             ],
             [
              0.6666666666666666,
              "#ed7953"
             ],
             [
              0.7777777777777778,
              "#fb9f3a"
             ],
             [
              0.8888888888888888,
              "#fdca26"
             ],
             [
              1,
              "#f0f921"
             ]
            ],
            "type": "histogram2d"
           }
          ],
          "histogram2dcontour": [
           {
            "colorbar": {
             "outlinewidth": 0,
             "ticks": ""
            },
            "colorscale": [
             [
              0,
              "#0d0887"
             ],
             [
              0.1111111111111111,
              "#46039f"
             ],
             [
              0.2222222222222222,
              "#7201a8"
             ],
             [
              0.3333333333333333,
              "#9c179e"
             ],
             [
              0.4444444444444444,
              "#bd3786"
             ],
             [
              0.5555555555555556,
              "#d8576b"
             ],
             [
              0.6666666666666666,
              "#ed7953"
             ],
             [
              0.7777777777777778,
              "#fb9f3a"
             ],
             [
              0.8888888888888888,
              "#fdca26"
             ],
             [
              1,
              "#f0f921"
             ]
            ],
            "type": "histogram2dcontour"
           }
          ],
          "mesh3d": [
           {
            "colorbar": {
             "outlinewidth": 0,
             "ticks": ""
            },
            "type": "mesh3d"
           }
          ],
          "parcoords": [
           {
            "line": {
             "colorbar": {
              "outlinewidth": 0,
              "ticks": ""
             }
            },
            "type": "parcoords"
           }
          ],
          "pie": [
           {
            "automargin": true,
            "type": "pie"
           }
          ],
          "scatter": [
           {
            "fillpattern": {
             "fillmode": "overlay",
             "size": 10,
             "solidity": 0.2
            },
            "type": "scatter"
           }
          ],
          "scatter3d": [
           {
            "line": {
             "colorbar": {
              "outlinewidth": 0,
              "ticks": ""
             }
            },
            "marker": {
             "colorbar": {
              "outlinewidth": 0,
              "ticks": ""
             }
            },
            "type": "scatter3d"
           }
          ],
          "scattercarpet": [
           {
            "marker": {
             "colorbar": {
              "outlinewidth": 0,
              "ticks": ""
             }
            },
            "type": "scattercarpet"
           }
          ],
          "scattergeo": [
           {
            "marker": {
             "colorbar": {
              "outlinewidth": 0,
              "ticks": ""
             }
            },
            "type": "scattergeo"
           }
          ],
          "scattergl": [
           {
            "marker": {
             "colorbar": {
              "outlinewidth": 0,
              "ticks": ""
             }
            },
            "type": "scattergl"
           }
          ],
          "scattermapbox": [
           {
            "marker": {
             "colorbar": {
              "outlinewidth": 0,
              "ticks": ""
             }
            },
            "type": "scattermapbox"
           }
          ],
          "scatterpolar": [
           {
            "marker": {
             "colorbar": {
              "outlinewidth": 0,
              "ticks": ""
             }
            },
            "type": "scatterpolar"
           }
          ],
          "scatterpolargl": [
           {
            "marker": {
             "colorbar": {
              "outlinewidth": 0,
              "ticks": ""
             }
            },
            "type": "scatterpolargl"
           }
          ],
          "scatterternary": [
           {
            "marker": {
             "colorbar": {
              "outlinewidth": 0,
              "ticks": ""
             }
            },
            "type": "scatterternary"
           }
          ],
          "surface": [
           {
            "colorbar": {
             "outlinewidth": 0,
             "ticks": ""
            },
            "colorscale": [
             [
              0,
              "#0d0887"
             ],
             [
              0.1111111111111111,
              "#46039f"
             ],
             [
              0.2222222222222222,
              "#7201a8"
             ],
             [
              0.3333333333333333,
              "#9c179e"
             ],
             [
              0.4444444444444444,
              "#bd3786"
             ],
             [
              0.5555555555555556,
              "#d8576b"
             ],
             [
              0.6666666666666666,
              "#ed7953"
             ],
             [
              0.7777777777777778,
              "#fb9f3a"
             ],
             [
              0.8888888888888888,
              "#fdca26"
             ],
             [
              1,
              "#f0f921"
             ]
            ],
            "type": "surface"
           }
          ],
          "table": [
           {
            "cells": {
             "fill": {
              "color": "#EBF0F8"
             },
             "line": {
              "color": "white"
             }
            },
            "header": {
             "fill": {
              "color": "#C8D4E3"
             },
             "line": {
              "color": "white"
             }
            },
            "type": "table"
           }
          ]
         },
         "layout": {
          "annotationdefaults": {
           "arrowcolor": "#2a3f5f",
           "arrowhead": 0,
           "arrowwidth": 1
          },
          "autotypenumbers": "strict",
          "coloraxis": {
           "colorbar": {
            "outlinewidth": 0,
            "ticks": ""
           }
          },
          "colorscale": {
           "diverging": [
            [
             0,
             "#8e0152"
            ],
            [
             0.1,
             "#c51b7d"
            ],
            [
             0.2,
             "#de77ae"
            ],
            [
             0.3,
             "#f1b6da"
            ],
            [
             0.4,
             "#fde0ef"
            ],
            [
             0.5,
             "#f7f7f7"
            ],
            [
             0.6,
             "#e6f5d0"
            ],
            [
             0.7,
             "#b8e186"
            ],
            [
             0.8,
             "#7fbc41"
            ],
            [
             0.9,
             "#4d9221"
            ],
            [
             1,
             "#276419"
            ]
           ],
           "sequential": [
            [
             0,
             "#0d0887"
            ],
            [
             0.1111111111111111,
             "#46039f"
            ],
            [
             0.2222222222222222,
             "#7201a8"
            ],
            [
             0.3333333333333333,
             "#9c179e"
            ],
            [
             0.4444444444444444,
             "#bd3786"
            ],
            [
             0.5555555555555556,
             "#d8576b"
            ],
            [
             0.6666666666666666,
             "#ed7953"
            ],
            [
             0.7777777777777778,
             "#fb9f3a"
            ],
            [
             0.8888888888888888,
             "#fdca26"
            ],
            [
             1,
             "#f0f921"
            ]
           ],
           "sequentialminus": [
            [
             0,
             "#0d0887"
            ],
            [
             0.1111111111111111,
             "#46039f"
            ],
            [
             0.2222222222222222,
             "#7201a8"
            ],
            [
             0.3333333333333333,
             "#9c179e"
            ],
            [
             0.4444444444444444,
             "#bd3786"
            ],
            [
             0.5555555555555556,
             "#d8576b"
            ],
            [
             0.6666666666666666,
             "#ed7953"
            ],
            [
             0.7777777777777778,
             "#fb9f3a"
            ],
            [
             0.8888888888888888,
             "#fdca26"
            ],
            [
             1,
             "#f0f921"
            ]
           ]
          },
          "colorway": [
           "#636efa",
           "#EF553B",
           "#00cc96",
           "#ab63fa",
           "#FFA15A",
           "#19d3f3",
           "#FF6692",
           "#B6E880",
           "#FF97FF",
           "#FECB52"
          ],
          "font": {
           "color": "#2a3f5f"
          },
          "geo": {
           "bgcolor": "white",
           "lakecolor": "white",
           "landcolor": "#E5ECF6",
           "showlakes": true,
           "showland": true,
           "subunitcolor": "white"
          },
          "hoverlabel": {
           "align": "left"
          },
          "hovermode": "closest",
          "mapbox": {
           "style": "light"
          },
          "paper_bgcolor": "white",
          "plot_bgcolor": "#E5ECF6",
          "polar": {
           "angularaxis": {
            "gridcolor": "white",
            "linecolor": "white",
            "ticks": ""
           },
           "bgcolor": "#E5ECF6",
           "radialaxis": {
            "gridcolor": "white",
            "linecolor": "white",
            "ticks": ""
           }
          },
          "scene": {
           "xaxis": {
            "backgroundcolor": "#E5ECF6",
            "gridcolor": "white",
            "gridwidth": 2,
            "linecolor": "white",
            "showbackground": true,
            "ticks": "",
            "zerolinecolor": "white"
           },
           "yaxis": {
            "backgroundcolor": "#E5ECF6",
            "gridcolor": "white",
            "gridwidth": 2,
            "linecolor": "white",
            "showbackground": true,
            "ticks": "",
            "zerolinecolor": "white"
           },
           "zaxis": {
            "backgroundcolor": "#E5ECF6",
            "gridcolor": "white",
            "gridwidth": 2,
            "linecolor": "white",
            "showbackground": true,
            "ticks": "",
            "zerolinecolor": "white"
           }
          },
          "shapedefaults": {
           "line": {
            "color": "#2a3f5f"
           }
          },
          "ternary": {
           "aaxis": {
            "gridcolor": "white",
            "linecolor": "white",
            "ticks": ""
           },
           "baxis": {
            "gridcolor": "white",
            "linecolor": "white",
            "ticks": ""
           },
           "bgcolor": "#E5ECF6",
           "caxis": {
            "gridcolor": "white",
            "linecolor": "white",
            "ticks": ""
           }
          },
          "title": {
           "x": 0.05
          },
          "xaxis": {
           "automargin": true,
           "gridcolor": "white",
           "linecolor": "white",
           "ticks": "",
           "title": {
            "standoff": 15
           },
           "zerolinecolor": "white",
           "zerolinewidth": 2
          },
          "yaxis": {
           "automargin": true,
           "gridcolor": "white",
           "linecolor": "white",
           "ticks": "",
           "title": {
            "standoff": 15
           },
           "zerolinecolor": "white",
           "zerolinewidth": 2
          }
         }
        }
       }
      },
      "text/html": [
       "<div>                            <div id=\"5c203cc3-25e4-4ab0-9dd5-f088a1395b5c\" class=\"plotly-graph-div\" style=\"height:525px; width:100%;\"></div>            <script type=\"text/javascript\">                require([\"plotly\"], function(Plotly) {                    window.PLOTLYENV=window.PLOTLYENV || {};                                    if (document.getElementById(\"5c203cc3-25e4-4ab0-9dd5-f088a1395b5c\")) {                    Plotly.newPlot(                        \"5c203cc3-25e4-4ab0-9dd5-f088a1395b5c\",                        [{\"close\":[190.615,190.615,190.485,190.815,190.895,191.175,191.205,191.135,191.145,191.135,191.215,191.215,191.275,191.165,191.155,191.245,191.085,191.05,191.48,191.612,192.155,192.42,192.495,192.785,192.725,192.705,192.385,192.095,192.175,192.285,192.195,192.005,192.055,192.025,192.435,192.065,191.945,191.84,191.75,191.97,191.97,192.15,192.23,192.32,192.41,192.305,192.285,192.265,192.315,192.34,192.53,192.52,192.61,192.46,191.96,192.02,192.28,192.13,192.04,192.26,192.19,192.16,192.06,192.03,192.17,192.135,192.025,192.205,192.315,192.055,191.795,192.365,192.145,192.325,192.295,192.375,192.205,192.115,192.075,192.195,192.51,192.845,192.955,193.39,193.32,193.475,193.385,193.695,193.487,193.357,193.708,193.508,193.508,193.493,193.603,193.49,193.63,193.73,193.35,193.51],\"high\":[190.715,190.745,190.745,190.845,190.915,191.175,191.215,191.205,191.165,191.195,191.235,191.235,191.305,191.305,191.235,191.295,191.265,191.215,191.56,191.71,192.185,192.45,192.575,192.825,192.815,192.825,192.765,192.455,192.235,192.415,192.455,192.195,192.255,192.195,192.435,192.455,192.275,192.04,191.87,192.06,192.08,192.24,192.34,192.32,192.43,192.435,192.415,192.365,192.375,192.42,192.63,192.54,192.63,192.57,192.56,192.16,192.36,192.31,192.14,192.26,192.34,192.19,192.17,192.14,192.2,192.415,192.185,192.255,192.705,192.425,192.095,192.465,192.455,192.325,192.445,192.445,192.405,192.375,192.315,192.305,192.51,193.09,192.985,193.42,193.49,193.55,193.595,193.765,194.015,193.557,193.768,193.808,193.618,193.558,193.613,193.633,193.64,193.77,193.74,193.57],\"low\":[190.605,190.565,190.485,190.495,190.725,190.845,191.045,190.985,191.065,191.095,191.065,191.065,191.195,191.125,191.065,191.055,191.065,191.0,191.06,191.35,191.512,192.145,192.195,192.485,192.625,192.585,192.375,192.075,191.965,192.145,192.175,191.715,191.915,192.025,191.935,192.005,191.925,191.8,191.73,191.54,191.91,191.85,192.08,192.22,192.24,192.275,192.215,192.185,192.215,192.25,192.3,192.31,192.45,192.4,191.94,191.96,192.01,192.07,192.03,192.03,192.13,192.05,192.02,192.0,192.0,192.045,191.945,191.965,192.175,191.875,191.645,191.775,191.925,192.035,192.255,192.135,192.125,192.095,192.045,192.025,192.115,192.435,192.675,192.895,193.28,193.245,193.285,193.345,193.437,193.317,193.347,193.468,193.478,193.343,193.373,193.413,193.44,193.59,193.33,193.32],\"open\":[190.665,190.615,190.615,190.505,190.825,190.905,191.185,191.195,191.135,191.145,191.135,191.215,191.225,191.305,191.145,191.145,191.255,191.085,191.06,191.48,191.622,192.155,192.43,192.485,192.785,192.735,192.715,192.365,192.105,192.165,192.275,192.195,192.005,192.045,192.035,192.415,192.065,191.965,191.84,191.73,191.95,191.98,192.14,192.24,192.32,192.39,192.315,192.285,192.225,192.315,192.36,192.54,192.52,192.57,192.45,191.96,192.02,192.27,192.12,192.03,192.25,192.18,192.17,192.07,192.01,192.18,192.145,192.035,192.195,192.305,192.055,191.795,192.385,192.145,192.335,192.305,192.355,192.205,192.105,192.065,192.195,192.54,192.855,192.985,193.38,193.31,193.485,193.385,193.695,193.497,193.357,193.678,193.488,193.508,193.503,193.593,193.49,193.62,193.73,193.34],\"x\":[600,601,602,603,604,605,606,607,608,609,610,611,612,613,614,615,616,617,618,619,620,621,622,623,624,625,626,627,628,629,630,631,632,633,634,635,636,637,638,639,640,641,642,643,644,645,646,647,648,649,650,651,652,653,654,655,656,657,658,659,660,661,662,663,664,665,666,667,668,669,670,671,672,673,674,675,676,677,678,679,680,681,682,683,684,685,686,687,688,689,690,691,692,693,694,695,696,697,698,699],\"type\":\"candlestick\"},{\"mode\":\"lines\",\"name\":\"lower line\",\"x\":[602.0,605.0,610.0,617.0,620.0,628.0,631.0,639.0,641.0,647.0,654.0,655.0,663.0,669.0,670.0,679.0,680.0,685.0,693.0,699.0],\"y\":[190.04896492823755,190.11937824022706,190.2367337602096,190.40103148818514,190.47144480017468,190.65921363214673,190.72962694413624,190.9173957761083,190.96433798410132,191.10516460808034,191.2694623360559,191.29293344005242,191.48070227202447,191.6215288960035,191.645,191.85623993596857,191.8797110399651,191.9970665599476,192.18483539191968,192.3256620158987],\"type\":\"scatter\"},{\"mode\":\"lines\",\"name\":\"upper line\",\"x\":[604.0,609.0,612.0,619.0,624.0,625.0,630.0,635.0,644.0,645.0,652.0,657.0,660.0,668.0,674.0,675.0,684.0,688.0,692.0,697.0],\"y\":[192.34701639637137,192.46401229727852,192.53420983782283,192.69800409909283,192.815,192.83839918018143,192.95539508108857,193.07239098199574,193.28298360362862,193.30638278381005,193.47017704508008,193.58717294598722,193.65737048653153,193.844563927983,193.98495900907156,194.008358189253,194.21895081088587,194.3125475316116,194.40614425233733,194.5231401532445],\"type\":\"scatter\"}],                        {\"template\":{\"data\":{\"histogram2dcontour\":[{\"type\":\"histogram2dcontour\",\"colorbar\":{\"outlinewidth\":0,\"ticks\":\"\"},\"colorscale\":[[0.0,\"#0d0887\"],[0.1111111111111111,\"#46039f\"],[0.2222222222222222,\"#7201a8\"],[0.3333333333333333,\"#9c179e\"],[0.4444444444444444,\"#bd3786\"],[0.5555555555555556,\"#d8576b\"],[0.6666666666666666,\"#ed7953\"],[0.7777777777777778,\"#fb9f3a\"],[0.8888888888888888,\"#fdca26\"],[1.0,\"#f0f921\"]]}],\"choropleth\":[{\"type\":\"choropleth\",\"colorbar\":{\"outlinewidth\":0,\"ticks\":\"\"}}],\"histogram2d\":[{\"type\":\"histogram2d\",\"colorbar\":{\"outlinewidth\":0,\"ticks\":\"\"},\"colorscale\":[[0.0,\"#0d0887\"],[0.1111111111111111,\"#46039f\"],[0.2222222222222222,\"#7201a8\"],[0.3333333333333333,\"#9c179e\"],[0.4444444444444444,\"#bd3786\"],[0.5555555555555556,\"#d8576b\"],[0.6666666666666666,\"#ed7953\"],[0.7777777777777778,\"#fb9f3a\"],[0.8888888888888888,\"#fdca26\"],[1.0,\"#f0f921\"]]}],\"heatmap\":[{\"type\":\"heatmap\",\"colorbar\":{\"outlinewidth\":0,\"ticks\":\"\"},\"colorscale\":[[0.0,\"#0d0887\"],[0.1111111111111111,\"#46039f\"],[0.2222222222222222,\"#7201a8\"],[0.3333333333333333,\"#9c179e\"],[0.4444444444444444,\"#bd3786\"],[0.5555555555555556,\"#d8576b\"],[0.6666666666666666,\"#ed7953\"],[0.7777777777777778,\"#fb9f3a\"],[0.8888888888888888,\"#fdca26\"],[1.0,\"#f0f921\"]]}],\"heatmapgl\":[{\"type\":\"heatmapgl\",\"colorbar\":{\"outlinewidth\":0,\"ticks\":\"\"},\"colorscale\":[[0.0,\"#0d0887\"],[0.1111111111111111,\"#46039f\"],[0.2222222222222222,\"#7201a8\"],[0.3333333333333333,\"#9c179e\"],[0.4444444444444444,\"#bd3786\"],[0.5555555555555556,\"#d8576b\"],[0.6666666666666666,\"#ed7953\"],[0.7777777777777778,\"#fb9f3a\"],[0.8888888888888888,\"#fdca26\"],[1.0,\"#f0f921\"]]}],\"contourcarpet\":[{\"type\":\"contourcarpet\",\"colorbar\":{\"outlinewidth\":0,\"ticks\":\"\"}}],\"contour\":[{\"type\":\"contour\",\"colorbar\":{\"outlinewidth\":0,\"ticks\":\"\"},\"colorscale\":[[0.0,\"#0d0887\"],[0.1111111111111111,\"#46039f\"],[0.2222222222222222,\"#7201a8\"],[0.3333333333333333,\"#9c179e\"],[0.4444444444444444,\"#bd3786\"],[0.5555555555555556,\"#d8576b\"],[0.6666666666666666,\"#ed7953\"],[0.7777777777777778,\"#fb9f3a\"],[0.8888888888888888,\"#fdca26\"],[1.0,\"#f0f921\"]]}],\"surface\":[{\"type\":\"surface\",\"colorbar\":{\"outlinewidth\":0,\"ticks\":\"\"},\"colorscale\":[[0.0,\"#0d0887\"],[0.1111111111111111,\"#46039f\"],[0.2222222222222222,\"#7201a8\"],[0.3333333333333333,\"#9c179e\"],[0.4444444444444444,\"#bd3786\"],[0.5555555555555556,\"#d8576b\"],[0.6666666666666666,\"#ed7953\"],[0.7777777777777778,\"#fb9f3a\"],[0.8888888888888888,\"#fdca26\"],[1.0,\"#f0f921\"]]}],\"mesh3d\":[{\"type\":\"mesh3d\",\"colorbar\":{\"outlinewidth\":0,\"ticks\":\"\"}}],\"scatter\":[{\"fillpattern\":{\"fillmode\":\"overlay\",\"size\":10,\"solidity\":0.2},\"type\":\"scatter\"}],\"parcoords\":[{\"type\":\"parcoords\",\"line\":{\"colorbar\":{\"outlinewidth\":0,\"ticks\":\"\"}}}],\"scatterpolargl\":[{\"type\":\"scatterpolargl\",\"marker\":{\"colorbar\":{\"outlinewidth\":0,\"ticks\":\"\"}}}],\"bar\":[{\"error_x\":{\"color\":\"#2a3f5f\"},\"error_y\":{\"color\":\"#2a3f5f\"},\"marker\":{\"line\":{\"color\":\"#E5ECF6\",\"width\":0.5},\"pattern\":{\"fillmode\":\"overlay\",\"size\":10,\"solidity\":0.2}},\"type\":\"bar\"}],\"scattergeo\":[{\"type\":\"scattergeo\",\"marker\":{\"colorbar\":{\"outlinewidth\":0,\"ticks\":\"\"}}}],\"scatterpolar\":[{\"type\":\"scatterpolar\",\"marker\":{\"colorbar\":{\"outlinewidth\":0,\"ticks\":\"\"}}}],\"histogram\":[{\"marker\":{\"pattern\":{\"fillmode\":\"overlay\",\"size\":10,\"solidity\":0.2}},\"type\":\"histogram\"}],\"scattergl\":[{\"type\":\"scattergl\",\"marker\":{\"colorbar\":{\"outlinewidth\":0,\"ticks\":\"\"}}}],\"scatter3d\":[{\"type\":\"scatter3d\",\"line\":{\"colorbar\":{\"outlinewidth\":0,\"ticks\":\"\"}},\"marker\":{\"colorbar\":{\"outlinewidth\":0,\"ticks\":\"\"}}}],\"scattermapbox\":[{\"type\":\"scattermapbox\",\"marker\":{\"colorbar\":{\"outlinewidth\":0,\"ticks\":\"\"}}}],\"scatterternary\":[{\"type\":\"scatterternary\",\"marker\":{\"colorbar\":{\"outlinewidth\":0,\"ticks\":\"\"}}}],\"scattercarpet\":[{\"type\":\"scattercarpet\",\"marker\":{\"colorbar\":{\"outlinewidth\":0,\"ticks\":\"\"}}}],\"carpet\":[{\"aaxis\":{\"endlinecolor\":\"#2a3f5f\",\"gridcolor\":\"white\",\"linecolor\":\"white\",\"minorgridcolor\":\"white\",\"startlinecolor\":\"#2a3f5f\"},\"baxis\":{\"endlinecolor\":\"#2a3f5f\",\"gridcolor\":\"white\",\"linecolor\":\"white\",\"minorgridcolor\":\"white\",\"startlinecolor\":\"#2a3f5f\"},\"type\":\"carpet\"}],\"table\":[{\"cells\":{\"fill\":{\"color\":\"#EBF0F8\"},\"line\":{\"color\":\"white\"}},\"header\":{\"fill\":{\"color\":\"#C8D4E3\"},\"line\":{\"color\":\"white\"}},\"type\":\"table\"}],\"barpolar\":[{\"marker\":{\"line\":{\"color\":\"#E5ECF6\",\"width\":0.5},\"pattern\":{\"fillmode\":\"overlay\",\"size\":10,\"solidity\":0.2}},\"type\":\"barpolar\"}],\"pie\":[{\"automargin\":true,\"type\":\"pie\"}]},\"layout\":{\"autotypenumbers\":\"strict\",\"colorway\":[\"#636efa\",\"#EF553B\",\"#00cc96\",\"#ab63fa\",\"#FFA15A\",\"#19d3f3\",\"#FF6692\",\"#B6E880\",\"#FF97FF\",\"#FECB52\"],\"font\":{\"color\":\"#2a3f5f\"},\"hovermode\":\"closest\",\"hoverlabel\":{\"align\":\"left\"},\"paper_bgcolor\":\"white\",\"plot_bgcolor\":\"#E5ECF6\",\"polar\":{\"bgcolor\":\"#E5ECF6\",\"angularaxis\":{\"gridcolor\":\"white\",\"linecolor\":\"white\",\"ticks\":\"\"},\"radialaxis\":{\"gridcolor\":\"white\",\"linecolor\":\"white\",\"ticks\":\"\"}},\"ternary\":{\"bgcolor\":\"#E5ECF6\",\"aaxis\":{\"gridcolor\":\"white\",\"linecolor\":\"white\",\"ticks\":\"\"},\"baxis\":{\"gridcolor\":\"white\",\"linecolor\":\"white\",\"ticks\":\"\"},\"caxis\":{\"gridcolor\":\"white\",\"linecolor\":\"white\",\"ticks\":\"\"}},\"coloraxis\":{\"colorbar\":{\"outlinewidth\":0,\"ticks\":\"\"}},\"colorscale\":{\"sequential\":[[0.0,\"#0d0887\"],[0.1111111111111111,\"#46039f\"],[0.2222222222222222,\"#7201a8\"],[0.3333333333333333,\"#9c179e\"],[0.4444444444444444,\"#bd3786\"],[0.5555555555555556,\"#d8576b\"],[0.6666666666666666,\"#ed7953\"],[0.7777777777777778,\"#fb9f3a\"],[0.8888888888888888,\"#fdca26\"],[1.0,\"#f0f921\"]],\"sequentialminus\":[[0.0,\"#0d0887\"],[0.1111111111111111,\"#46039f\"],[0.2222222222222222,\"#7201a8\"],[0.3333333333333333,\"#9c179e\"],[0.4444444444444444,\"#bd3786\"],[0.5555555555555556,\"#d8576b\"],[0.6666666666666666,\"#ed7953\"],[0.7777777777777778,\"#fb9f3a\"],[0.8888888888888888,\"#fdca26\"],[1.0,\"#f0f921\"]],\"diverging\":[[0,\"#8e0152\"],[0.1,\"#c51b7d\"],[0.2,\"#de77ae\"],[0.3,\"#f1b6da\"],[0.4,\"#fde0ef\"],[0.5,\"#f7f7f7\"],[0.6,\"#e6f5d0\"],[0.7,\"#b8e186\"],[0.8,\"#7fbc41\"],[0.9,\"#4d9221\"],[1,\"#276419\"]]},\"xaxis\":{\"gridcolor\":\"white\",\"linecolor\":\"white\",\"ticks\":\"\",\"title\":{\"standoff\":15},\"zerolinecolor\":\"white\",\"automargin\":true,\"zerolinewidth\":2},\"yaxis\":{\"gridcolor\":\"white\",\"linecolor\":\"white\",\"ticks\":\"\",\"title\":{\"standoff\":15},\"zerolinecolor\":\"white\",\"automargin\":true,\"zerolinewidth\":2},\"scene\":{\"xaxis\":{\"backgroundcolor\":\"#E5ECF6\",\"gridcolor\":\"white\",\"linecolor\":\"white\",\"showbackground\":true,\"ticks\":\"\",\"zerolinecolor\":\"white\",\"gridwidth\":2},\"yaxis\":{\"backgroundcolor\":\"#E5ECF6\",\"gridcolor\":\"white\",\"linecolor\":\"white\",\"showbackground\":true,\"ticks\":\"\",\"zerolinecolor\":\"white\",\"gridwidth\":2},\"zaxis\":{\"backgroundcolor\":\"#E5ECF6\",\"gridcolor\":\"white\",\"linecolor\":\"white\",\"showbackground\":true,\"ticks\":\"\",\"zerolinecolor\":\"white\",\"gridwidth\":2}},\"shapedefaults\":{\"line\":{\"color\":\"#2a3f5f\"}},\"annotationdefaults\":{\"arrowcolor\":\"#2a3f5f\",\"arrowhead\":0,\"arrowwidth\":1},\"geo\":{\"bgcolor\":\"white\",\"landcolor\":\"#E5ECF6\",\"subunitcolor\":\"white\",\"showland\":true,\"showlakes\":true,\"lakecolor\":\"white\"},\"title\":{\"x\":0.05},\"mapbox\":{\"style\":\"light\"}}}},                        {\"responsive\": true}                    ).then(function(){\n",
       "                            \n",
       "var gd = document.getElementById('5c203cc3-25e4-4ab0-9dd5-f088a1395b5c');\n",
       "var x = new MutationObserver(function (mutations, observer) {{\n",
       "        var display = window.getComputedStyle(gd).display;\n",
       "        if (!display || display === 'none') {{\n",
       "            console.log([gd, 'removed!']);\n",
       "            Plotly.purge(gd);\n",
       "            observer.disconnect();\n",
       "        }}\n",
       "}});\n",
       "\n",
       "// Listen for the removal of the full notebook cells\n",
       "var notebookContainer = gd.closest('#notebook-container');\n",
       "if (notebookContainer) {{\n",
       "    x.observe(notebookContainer, {childList: true});\n",
       "}}\n",
       "\n",
       "// Listen for the clearing of the current output cell\n",
       "var outputEl = gd.closest('.output');\n",
       "if (outputEl) {{\n",
       "    x.observe(outputEl, {childList: true});\n",
       "}}\n",
       "\n",
       "                        })                };                });            </script>        </div>"
      ]
     },
     "metadata": {},
     "output_type": "display_data"
    },
    {
     "data": {
      "application/vnd.plotly.v1+json": {
       "config": {
        "plotlyServerURL": "https://plot.ly"
       },
       "data": [
        {
         "close": [
          195.265,
          195.255,
          195.275,
          195.275,
          195.9,
          195.515,
          195.465,
          195.515,
          195.585,
          195.595,
          195.56,
          195.57,
          195.6,
          195.8,
          195.905,
          195.465,
          195.255,
          195.335,
          195.255,
          195.175,
          195.205,
          195.145,
          195.145,
          195.125,
          195.235,
          195.245,
          195.205,
          195.275,
          195.515,
          195.615,
          195.185,
          195.323,
          195.393,
          195.433,
          195.293,
          195.403,
          195.353,
          195.423,
          195.273,
          195.223,
          195.033,
          195.103,
          195.203,
          195.333,
          195.233,
          195.143,
          194.953,
          194.767,
          194.677,
          194.752,
          194.782,
          194.722,
          194.742,
          194.862,
          194.962,
          194.692,
          194.754,
          194.734,
          194.699,
          194.739,
          194.739,
          194.559,
          194.869,
          194.789,
          195.019,
          195.089,
          195.019,
          194.859,
          194.909,
          194.849,
          194.959,
          195.039,
          195.129,
          195.14,
          195.07,
          195.23,
          195.29,
          195.485,
          195.185,
          195.335,
          195.475,
          195.615,
          195.705,
          196.025,
          196.075,
          195.895,
          196.145,
          196.325,
          196.255,
          196.165,
          196.015,
          195.975,
          196.255,
          196.375,
          196.528,
          196.438,
          196.268,
          196.14,
          195.98,
          195.96,
          195.82,
          195.92,
          195.94,
          195.91,
          196.09,
          196.18,
          196.175,
          196.305,
          196.215,
          196.125,
          196.055,
          195.955,
          195.815,
          195.825,
          195.765,
          195.845,
          195.815,
          195.745,
          195.765,
          195.815,
          195.915,
          195.965,
          195.795,
          196.085,
          195.915,
          195.925,
          195.825,
          195.815,
          195.905,
          196.19,
          196.165,
          196.62,
          196.468,
          196.458,
          196.458,
          196.276,
          196.526,
          196.416,
          196.7,
          196.436,
          196.526,
          196.526,
          196.516,
          196.366,
          196.586,
          196.61,
          196.57,
          196.5,
          196.42,
          196.31,
          196.42,
          196.53,
          196.47,
          196.385,
          196.165,
          196.215,
          196.225,
          196.195,
          196.31,
          196.32
         ],
         "high": [
          195.285,
          195.295,
          195.285,
          195.285,
          195.9,
          195.525,
          195.505,
          195.515,
          195.605,
          195.675,
          195.6,
          195.63,
          195.62,
          195.81,
          195.945,
          195.895,
          195.475,
          195.385,
          195.415,
          195.315,
          195.285,
          195.225,
          195.185,
          195.165,
          195.275,
          195.345,
          195.275,
          195.305,
          195.565,
          195.625,
          195.625,
          195.363,
          195.503,
          195.523,
          195.463,
          195.513,
          195.513,
          195.503,
          195.503,
          195.283,
          195.243,
          195.173,
          195.263,
          195.393,
          195.443,
          195.473,
          195.213,
          195.003,
          195.037,
          194.877,
          195.072,
          194.882,
          194.802,
          194.952,
          194.982,
          194.972,
          194.852,
          194.854,
          194.769,
          194.819,
          194.889,
          194.839,
          194.879,
          194.889,
          195.029,
          195.159,
          195.129,
          195.019,
          194.959,
          194.969,
          194.989,
          195.069,
          195.199,
          195.24,
          195.17,
          195.28,
          195.35,
          195.525,
          195.515,
          195.405,
          195.525,
          195.705,
          195.885,
          196.095,
          196.245,
          196.155,
          196.165,
          196.345,
          196.425,
          196.405,
          196.195,
          196.06,
          196.345,
          196.415,
          196.645,
          196.668,
          196.538,
          196.368,
          196.25,
          196,
          196.01,
          195.93,
          196.01,
          195.97,
          196.17,
          196.21,
          196.215,
          196.405,
          196.285,
          196.245,
          196.225,
          196.085,
          195.955,
          195.915,
          195.925,
          195.855,
          195.865,
          195.885,
          195.815,
          195.825,
          195.955,
          196.035,
          195.965,
          196.245,
          196.185,
          195.935,
          196.065,
          195.935,
          195.985,
          196.245,
          196.29,
          196.77,
          196.77,
          196.588,
          196.558,
          196.528,
          196.566,
          196.556,
          196.88,
          196.76,
          196.616,
          196.636,
          196.686,
          196.606,
          196.606,
          196.646,
          196.65,
          196.62,
          196.55,
          196.46,
          196.48,
          196.53,
          196.61,
          196.52,
          196.395,
          196.335,
          196.295,
          196.255,
          196.34,
          196.38
         ],
         "low": [
          195.095,
          195.165,
          195.265,
          195.265,
          195.9,
          195.435,
          195.375,
          195.435,
          195.465,
          195.515,
          195.48,
          195.54,
          195.51,
          195.54,
          195.79,
          195.395,
          194.755,
          195.165,
          195.235,
          195.115,
          195.135,
          195.135,
          195.065,
          195.075,
          195.075,
          195.225,
          195.145,
          195.195,
          195.285,
          195.385,
          195.175,
          195.055,
          195.273,
          195.263,
          195.283,
          195.263,
          195.313,
          195.273,
          195.163,
          195.023,
          194.903,
          194.993,
          194.983,
          195.023,
          195.203,
          195.033,
          194.753,
          194.737,
          194.547,
          194.607,
          194.692,
          194.672,
          194.662,
          194.722,
          194.792,
          194.672,
          194.722,
          194.674,
          194.684,
          194.659,
          194.719,
          194.559,
          194.539,
          194.699,
          194.759,
          194.929,
          194.899,
          194.829,
          194.789,
          194.789,
          194.839,
          194.929,
          194.959,
          195.04,
          194.92,
          195.07,
          195.12,
          195.23,
          195.065,
          195.155,
          195.285,
          195.325,
          195.585,
          195.605,
          196.005,
          195.815,
          195.815,
          196.085,
          196.205,
          196.165,
          195.935,
          195.945,
          195.975,
          196.235,
          196.295,
          196.408,
          196.228,
          196.133,
          195.97,
          195.89,
          195.8,
          195.78,
          195.88,
          195.85,
          195.9,
          196.02,
          196.105,
          196.155,
          196.165,
          196.105,
          195.925,
          195.895,
          195.645,
          195.725,
          195.765,
          195.695,
          195.745,
          195.745,
          195.695,
          195.715,
          195.805,
          195.865,
          195.705,
          195.645,
          195.895,
          195.765,
          195.725,
          195.695,
          195.705,
          195.895,
          196.075,
          196.135,
          196.26,
          196.298,
          196.338,
          196.258,
          196.256,
          196.366,
          196.356,
          196.376,
          196.416,
          196.396,
          196.456,
          196.316,
          196.326,
          196.436,
          196.38,
          196.45,
          196.3,
          196.27,
          196.3,
          196.36,
          196.43,
          196.325,
          196.145,
          196.165,
          196.145,
          196.165,
          196.095,
          196.18
         ],
         "open": [
          195.115,
          195.265,
          195.275,
          195.265,
          195.9,
          195.515,
          195.505,
          195.455,
          195.495,
          195.575,
          195.585,
          195.56,
          195.59,
          195.61,
          195.81,
          195.895,
          195.465,
          195.255,
          195.335,
          195.245,
          195.165,
          195.205,
          195.145,
          195.155,
          195.145,
          195.225,
          195.255,
          195.215,
          195.285,
          195.505,
          195.605,
          195.165,
          195.333,
          195.393,
          195.423,
          195.293,
          195.403,
          195.323,
          195.413,
          195.273,
          195.243,
          195.043,
          195.103,
          195.203,
          195.323,
          195.223,
          195.123,
          194.963,
          194.757,
          194.677,
          194.752,
          194.792,
          194.722,
          194.742,
          194.862,
          194.962,
          194.742,
          194.744,
          194.744,
          194.709,
          194.739,
          194.759,
          194.559,
          194.879,
          194.779,
          195.009,
          195.079,
          195.019,
          194.869,
          194.919,
          194.859,
          194.959,
          195.029,
          195.119,
          195.15,
          195.08,
          195.24,
          195.28,
          195.475,
          195.165,
          195.335,
          195.475,
          195.595,
          195.695,
          196.035,
          196.115,
          195.885,
          196.135,
          196.325,
          196.255,
          196.155,
          196.015,
          195.975,
          196.255,
          196.395,
          196.528,
          196.448,
          196.258,
          196.15,
          195.98,
          195.97,
          195.82,
          195.91,
          195.94,
          195.91,
          196.08,
          196.18,
          196.175,
          196.285,
          196.215,
          196.105,
          196.055,
          195.955,
          195.835,
          195.825,
          195.765,
          195.845,
          195.815,
          195.755,
          195.785,
          195.825,
          195.925,
          195.945,
          195.795,
          196.085,
          195.915,
          195.925,
          195.825,
          195.835,
          195.905,
          196.19,
          196.165,
          196.62,
          196.468,
          196.448,
          196.478,
          196.276,
          196.526,
          196.416,
          196.71,
          196.426,
          196.516,
          196.546,
          196.516,
          196.356,
          196.566,
          196.61,
          196.57,
          196.5,
          196.43,
          196.31,
          196.41,
          196.55,
          196.47,
          196.375,
          196.165,
          196.215,
          196.225,
          196.195,
          196.34
         ],
         "type": "candlestick",
         "x": [
          1240,
          1241,
          1242,
          1243,
          1244,
          1245,
          1246,
          1247,
          1248,
          1249,
          1250,
          1251,
          1252,
          1253,
          1254,
          1255,
          1256,
          1257,
          1258,
          1259,
          1260,
          1261,
          1262,
          1263,
          1264,
          1265,
          1266,
          1267,
          1268,
          1269,
          1270,
          1271,
          1272,
          1273,
          1274,
          1275,
          1276,
          1277,
          1278,
          1279,
          1280,
          1281,
          1282,
          1283,
          1284,
          1285,
          1286,
          1287,
          1288,
          1289,
          1290,
          1291,
          1292,
          1293,
          1294,
          1295,
          1296,
          1297,
          1298,
          1299,
          1300,
          1301,
          1302,
          1303,
          1304,
          1305,
          1306,
          1307,
          1308,
          1309,
          1310,
          1311,
          1312,
          1313,
          1314,
          1315,
          1316,
          1317,
          1318,
          1319,
          1320,
          1321,
          1322,
          1323,
          1324,
          1325,
          1326,
          1327,
          1328,
          1329,
          1330,
          1331,
          1332,
          1333,
          1334,
          1335,
          1336,
          1337,
          1338,
          1339,
          1340,
          1341,
          1342,
          1343,
          1344,
          1345,
          1346,
          1347,
          1348,
          1349,
          1350,
          1351,
          1352,
          1353,
          1354,
          1355,
          1356,
          1357,
          1358,
          1359,
          1360,
          1361,
          1362,
          1363,
          1364,
          1365,
          1366,
          1367,
          1368,
          1369,
          1370,
          1371,
          1372,
          1373,
          1374,
          1375,
          1376,
          1377,
          1378,
          1379,
          1380,
          1381,
          1382,
          1383,
          1384,
          1385,
          1386,
          1387,
          1388,
          1389,
          1390,
          1391,
          1392,
          1393,
          1394,
          1395,
          1396,
          1397,
          1398,
          1399
         ]
        },
        {
         "mode": "lines",
         "name": "lower line",
         "type": "scatter",
         "x": [
          1240,
          1246,
          1250,
          1256,
          1262,
          1266,
          1271,
          1279,
          1280,
          1288,
          1292,
          1299,
          1302,
          1308,
          1310,
          1318,
          1320,
          1325,
          1330,
          1339,
          1341,
          1345,
          1352,
          1355,
          1363,
          1367,
          1370,
          1376,
          1383,
          1389,
          1394,
          1398
         ],
         "y": [
          193.9743970984116,
          194.0290360888879,
          194.06546208253877,
          194.12010107301506,
          194.17474006349136,
          194.2111660571422,
          194.2566985492058,
          194.32955053650753,
          194.33865703492023,
          194.41150902222196,
          194.44793501587282,
          194.51168050476184,
          194.539,
          194.59363899047628,
          194.6118519873017,
          194.68470397460342,
          194.70291697142886,
          194.74844946349242,
          194.793981955556,
          194.87594044127044,
          194.89415343809588,
          194.93057943174674,
          194.99432492063576,
          195.0216444158739,
          195.09449640317564,
          195.1309223968265,
          195.15824189206464,
          195.21288088254093,
          195.27662637142993,
          195.33126536190625,
          195.3767978539698,
          195.41322384762069
         ]
        },
        {
         "mode": "lines",
         "name": "upper line",
         "type": "scatter",
         "x": [
          1244,
          1249,
          1254,
          1255,
          1260,
          1269,
          1274,
          1276,
          1284,
          1285,
          1294,
          1296,
          1304,
          1305,
          1313,
          1317,
          1324,
          1328,
          1334,
          1335,
          1344,
          1348,
          1350,
          1356,
          1364,
          1369,
          1374,
          1379,
          1382,
          1387,
          1392,
          1399
         ],
         "y": [
          195.93816370244411,
          195.9782645979142,
          196.01836549338432,
          196.02638567247834,
          196.06648656794843,
          196.13866817979462,
          196.17876907526474,
          196.19480943345278,
          196.25897086620495,
          196.26699104529897,
          196.33917265714516,
          196.3552130153332,
          196.41937444808536,
          196.42739462717938,
          196.49155605993155,
          196.52363677630763,
          196.57977802996578,
          196.61185874634185,
          196.659979820906,
          196.668,
          196.7401816118462,
          196.77226232822227,
          196.7883026864103,
          196.83642376097444,
          196.90058519372658,
          196.9406860891967,
          196.9807869846668,
          197.0208878801369,
          197.04494841741896,
          197.08504931288908,
          197.12515020835917,
          197.18129146201733
         ]
        }
       ],
       "layout": {
        "template": {
         "data": {
          "bar": [
           {
            "error_x": {
             "color": "#2a3f5f"
            },
            "error_y": {
             "color": "#2a3f5f"
            },
            "marker": {
             "line": {
              "color": "#E5ECF6",
              "width": 0.5
             },
             "pattern": {
              "fillmode": "overlay",
              "size": 10,
              "solidity": 0.2
             }
            },
            "type": "bar"
           }
          ],
          "barpolar": [
           {
            "marker": {
             "line": {
              "color": "#E5ECF6",
              "width": 0.5
             },
             "pattern": {
              "fillmode": "overlay",
              "size": 10,
              "solidity": 0.2
             }
            },
            "type": "barpolar"
           }
          ],
          "carpet": [
           {
            "aaxis": {
             "endlinecolor": "#2a3f5f",
             "gridcolor": "white",
             "linecolor": "white",
             "minorgridcolor": "white",
             "startlinecolor": "#2a3f5f"
            },
            "baxis": {
             "endlinecolor": "#2a3f5f",
             "gridcolor": "white",
             "linecolor": "white",
             "minorgridcolor": "white",
             "startlinecolor": "#2a3f5f"
            },
            "type": "carpet"
           }
          ],
          "choropleth": [
           {
            "colorbar": {
             "outlinewidth": 0,
             "ticks": ""
            },
            "type": "choropleth"
           }
          ],
          "contour": [
           {
            "colorbar": {
             "outlinewidth": 0,
             "ticks": ""
            },
            "colorscale": [
             [
              0,
              "#0d0887"
             ],
             [
              0.1111111111111111,
              "#46039f"
             ],
             [
              0.2222222222222222,
              "#7201a8"
             ],
             [
              0.3333333333333333,
              "#9c179e"
             ],
             [
              0.4444444444444444,
              "#bd3786"
             ],
             [
              0.5555555555555556,
              "#d8576b"
             ],
             [
              0.6666666666666666,
              "#ed7953"
             ],
             [
              0.7777777777777778,
              "#fb9f3a"
             ],
             [
              0.8888888888888888,
              "#fdca26"
             ],
             [
              1,
              "#f0f921"
             ]
            ],
            "type": "contour"
           }
          ],
          "contourcarpet": [
           {
            "colorbar": {
             "outlinewidth": 0,
             "ticks": ""
            },
            "type": "contourcarpet"
           }
          ],
          "heatmap": [
           {
            "colorbar": {
             "outlinewidth": 0,
             "ticks": ""
            },
            "colorscale": [
             [
              0,
              "#0d0887"
             ],
             [
              0.1111111111111111,
              "#46039f"
             ],
             [
              0.2222222222222222,
              "#7201a8"
             ],
             [
              0.3333333333333333,
              "#9c179e"
             ],
             [
              0.4444444444444444,
              "#bd3786"
             ],
             [
              0.5555555555555556,
              "#d8576b"
             ],
             [
              0.6666666666666666,
              "#ed7953"
             ],
             [
              0.7777777777777778,
              "#fb9f3a"
             ],
             [
              0.8888888888888888,
              "#fdca26"
             ],
             [
              1,
              "#f0f921"
             ]
            ],
            "type": "heatmap"
           }
          ],
          "heatmapgl": [
           {
            "colorbar": {
             "outlinewidth": 0,
             "ticks": ""
            },
            "colorscale": [
             [
              0,
              "#0d0887"
             ],
             [
              0.1111111111111111,
              "#46039f"
             ],
             [
              0.2222222222222222,
              "#7201a8"
             ],
             [
              0.3333333333333333,
              "#9c179e"
             ],
             [
              0.4444444444444444,
              "#bd3786"
             ],
             [
              0.5555555555555556,
              "#d8576b"
             ],
             [
              0.6666666666666666,
              "#ed7953"
             ],
             [
              0.7777777777777778,
              "#fb9f3a"
             ],
             [
              0.8888888888888888,
              "#fdca26"
             ],
             [
              1,
              "#f0f921"
             ]
            ],
            "type": "heatmapgl"
           }
          ],
          "histogram": [
           {
            "marker": {
             "pattern": {
              "fillmode": "overlay",
              "size": 10,
              "solidity": 0.2
             }
            },
            "type": "histogram"
           }
          ],
          "histogram2d": [
           {
            "colorbar": {
             "outlinewidth": 0,
             "ticks": ""
            },
            "colorscale": [
             [
              0,
              "#0d0887"
             ],
             [
              0.1111111111111111,
              "#46039f"
             ],
             [
              0.2222222222222222,
              "#7201a8"
             ],
             [
              0.3333333333333333,
              "#9c179e"
             ],
             [
              0.4444444444444444,
              "#bd3786"
             ],
             [
              0.5555555555555556,
              "#d8576b"
             ],
             [
              0.6666666666666666,
              "#ed7953"
             ],
             [
              0.7777777777777778,
              "#fb9f3a"
             ],
             [
              0.8888888888888888,
              "#fdca26"
             ],
             [
              1,
              "#f0f921"
             ]
            ],
            "type": "histogram2d"
           }
          ],
          "histogram2dcontour": [
           {
            "colorbar": {
             "outlinewidth": 0,
             "ticks": ""
            },
            "colorscale": [
             [
              0,
              "#0d0887"
             ],
             [
              0.1111111111111111,
              "#46039f"
             ],
             [
              0.2222222222222222,
              "#7201a8"
             ],
             [
              0.3333333333333333,
              "#9c179e"
             ],
             [
              0.4444444444444444,
              "#bd3786"
             ],
             [
              0.5555555555555556,
              "#d8576b"
             ],
             [
              0.6666666666666666,
              "#ed7953"
             ],
             [
              0.7777777777777778,
              "#fb9f3a"
             ],
             [
              0.8888888888888888,
              "#fdca26"
             ],
             [
              1,
              "#f0f921"
             ]
            ],
            "type": "histogram2dcontour"
           }
          ],
          "mesh3d": [
           {
            "colorbar": {
             "outlinewidth": 0,
             "ticks": ""
            },
            "type": "mesh3d"
           }
          ],
          "parcoords": [
           {
            "line": {
             "colorbar": {
              "outlinewidth": 0,
              "ticks": ""
             }
            },
            "type": "parcoords"
           }
          ],
          "pie": [
           {
            "automargin": true,
            "type": "pie"
           }
          ],
          "scatter": [
           {
            "fillpattern": {
             "fillmode": "overlay",
             "size": 10,
             "solidity": 0.2
            },
            "type": "scatter"
           }
          ],
          "scatter3d": [
           {
            "line": {
             "colorbar": {
              "outlinewidth": 0,
              "ticks": ""
             }
            },
            "marker": {
             "colorbar": {
              "outlinewidth": 0,
              "ticks": ""
             }
            },
            "type": "scatter3d"
           }
          ],
          "scattercarpet": [
           {
            "marker": {
             "colorbar": {
              "outlinewidth": 0,
              "ticks": ""
             }
            },
            "type": "scattercarpet"
           }
          ],
          "scattergeo": [
           {
            "marker": {
             "colorbar": {
              "outlinewidth": 0,
              "ticks": ""
             }
            },
            "type": "scattergeo"
           }
          ],
          "scattergl": [
           {
            "marker": {
             "colorbar": {
              "outlinewidth": 0,
              "ticks": ""
             }
            },
            "type": "scattergl"
           }
          ],
          "scattermapbox": [
           {
            "marker": {
             "colorbar": {
              "outlinewidth": 0,
              "ticks": ""
             }
            },
            "type": "scattermapbox"
           }
          ],
          "scatterpolar": [
           {
            "marker": {
             "colorbar": {
              "outlinewidth": 0,
              "ticks": ""
             }
            },
            "type": "scatterpolar"
           }
          ],
          "scatterpolargl": [
           {
            "marker": {
             "colorbar": {
              "outlinewidth": 0,
              "ticks": ""
             }
            },
            "type": "scatterpolargl"
           }
          ],
          "scatterternary": [
           {
            "marker": {
             "colorbar": {
              "outlinewidth": 0,
              "ticks": ""
             }
            },
            "type": "scatterternary"
           }
          ],
          "surface": [
           {
            "colorbar": {
             "outlinewidth": 0,
             "ticks": ""
            },
            "colorscale": [
             [
              0,
              "#0d0887"
             ],
             [
              0.1111111111111111,
              "#46039f"
             ],
             [
              0.2222222222222222,
              "#7201a8"
             ],
             [
              0.3333333333333333,
              "#9c179e"
             ],
             [
              0.4444444444444444,
              "#bd3786"
             ],
             [
              0.5555555555555556,
              "#d8576b"
             ],
             [
              0.6666666666666666,
              "#ed7953"
             ],
             [
              0.7777777777777778,
              "#fb9f3a"
             ],
             [
              0.8888888888888888,
              "#fdca26"
             ],
             [
              1,
              "#f0f921"
             ]
            ],
            "type": "surface"
           }
          ],
          "table": [
           {
            "cells": {
             "fill": {
              "color": "#EBF0F8"
             },
             "line": {
              "color": "white"
             }
            },
            "header": {
             "fill": {
              "color": "#C8D4E3"
             },
             "line": {
              "color": "white"
             }
            },
            "type": "table"
           }
          ]
         },
         "layout": {
          "annotationdefaults": {
           "arrowcolor": "#2a3f5f",
           "arrowhead": 0,
           "arrowwidth": 1
          },
          "autotypenumbers": "strict",
          "coloraxis": {
           "colorbar": {
            "outlinewidth": 0,
            "ticks": ""
           }
          },
          "colorscale": {
           "diverging": [
            [
             0,
             "#8e0152"
            ],
            [
             0.1,
             "#c51b7d"
            ],
            [
             0.2,
             "#de77ae"
            ],
            [
             0.3,
             "#f1b6da"
            ],
            [
             0.4,
             "#fde0ef"
            ],
            [
             0.5,
             "#f7f7f7"
            ],
            [
             0.6,
             "#e6f5d0"
            ],
            [
             0.7,
             "#b8e186"
            ],
            [
             0.8,
             "#7fbc41"
            ],
            [
             0.9,
             "#4d9221"
            ],
            [
             1,
             "#276419"
            ]
           ],
           "sequential": [
            [
             0,
             "#0d0887"
            ],
            [
             0.1111111111111111,
             "#46039f"
            ],
            [
             0.2222222222222222,
             "#7201a8"
            ],
            [
             0.3333333333333333,
             "#9c179e"
            ],
            [
             0.4444444444444444,
             "#bd3786"
            ],
            [
             0.5555555555555556,
             "#d8576b"
            ],
            [
             0.6666666666666666,
             "#ed7953"
            ],
            [
             0.7777777777777778,
             "#fb9f3a"
            ],
            [
             0.8888888888888888,
             "#fdca26"
            ],
            [
             1,
             "#f0f921"
            ]
           ],
           "sequentialminus": [
            [
             0,
             "#0d0887"
            ],
            [
             0.1111111111111111,
             "#46039f"
            ],
            [
             0.2222222222222222,
             "#7201a8"
            ],
            [
             0.3333333333333333,
             "#9c179e"
            ],
            [
             0.4444444444444444,
             "#bd3786"
            ],
            [
             0.5555555555555556,
             "#d8576b"
            ],
            [
             0.6666666666666666,
             "#ed7953"
            ],
            [
             0.7777777777777778,
             "#fb9f3a"
            ],
            [
             0.8888888888888888,
             "#fdca26"
            ],
            [
             1,
             "#f0f921"
            ]
           ]
          },
          "colorway": [
           "#636efa",
           "#EF553B",
           "#00cc96",
           "#ab63fa",
           "#FFA15A",
           "#19d3f3",
           "#FF6692",
           "#B6E880",
           "#FF97FF",
           "#FECB52"
          ],
          "font": {
           "color": "#2a3f5f"
          },
          "geo": {
           "bgcolor": "white",
           "lakecolor": "white",
           "landcolor": "#E5ECF6",
           "showlakes": true,
           "showland": true,
           "subunitcolor": "white"
          },
          "hoverlabel": {
           "align": "left"
          },
          "hovermode": "closest",
          "mapbox": {
           "style": "light"
          },
          "paper_bgcolor": "white",
          "plot_bgcolor": "#E5ECF6",
          "polar": {
           "angularaxis": {
            "gridcolor": "white",
            "linecolor": "white",
            "ticks": ""
           },
           "bgcolor": "#E5ECF6",
           "radialaxis": {
            "gridcolor": "white",
            "linecolor": "white",
            "ticks": ""
           }
          },
          "scene": {
           "xaxis": {
            "backgroundcolor": "#E5ECF6",
            "gridcolor": "white",
            "gridwidth": 2,
            "linecolor": "white",
            "showbackground": true,
            "ticks": "",
            "zerolinecolor": "white"
           },
           "yaxis": {
            "backgroundcolor": "#E5ECF6",
            "gridcolor": "white",
            "gridwidth": 2,
            "linecolor": "white",
            "showbackground": true,
            "ticks": "",
            "zerolinecolor": "white"
           },
           "zaxis": {
            "backgroundcolor": "#E5ECF6",
            "gridcolor": "white",
            "gridwidth": 2,
            "linecolor": "white",
            "showbackground": true,
            "ticks": "",
            "zerolinecolor": "white"
           }
          },
          "shapedefaults": {
           "line": {
            "color": "#2a3f5f"
           }
          },
          "ternary": {
           "aaxis": {
            "gridcolor": "white",
            "linecolor": "white",
            "ticks": ""
           },
           "baxis": {
            "gridcolor": "white",
            "linecolor": "white",
            "ticks": ""
           },
           "bgcolor": "#E5ECF6",
           "caxis": {
            "gridcolor": "white",
            "linecolor": "white",
            "ticks": ""
           }
          },
          "title": {
           "x": 0.05
          },
          "xaxis": {
           "automargin": true,
           "gridcolor": "white",
           "linecolor": "white",
           "ticks": "",
           "title": {
            "standoff": 15
           },
           "zerolinecolor": "white",
           "zerolinewidth": 2
          },
          "yaxis": {
           "automargin": true,
           "gridcolor": "white",
           "linecolor": "white",
           "ticks": "",
           "title": {
            "standoff": 15
           },
           "zerolinecolor": "white",
           "zerolinewidth": 2
          }
         }
        }
       }
      },
      "text/html": [
       "<div>                            <div id=\"5c9cfaa5-7a4b-4d9b-8a72-4ab3db861a0f\" class=\"plotly-graph-div\" style=\"height:525px; width:100%;\"></div>            <script type=\"text/javascript\">                require([\"plotly\"], function(Plotly) {                    window.PLOTLYENV=window.PLOTLYENV || {};                                    if (document.getElementById(\"5c9cfaa5-7a4b-4d9b-8a72-4ab3db861a0f\")) {                    Plotly.newPlot(                        \"5c9cfaa5-7a4b-4d9b-8a72-4ab3db861a0f\",                        [{\"close\":[195.265,195.255,195.275,195.275,195.9,195.515,195.465,195.515,195.585,195.595,195.56,195.57,195.6,195.8,195.905,195.465,195.255,195.335,195.255,195.175,195.205,195.145,195.145,195.125,195.235,195.245,195.205,195.275,195.515,195.615,195.185,195.323,195.393,195.433,195.293,195.403,195.353,195.423,195.273,195.223,195.033,195.103,195.203,195.333,195.233,195.143,194.953,194.767,194.677,194.752,194.782,194.722,194.742,194.862,194.962,194.692,194.754,194.734,194.699,194.739,194.739,194.559,194.869,194.789,195.019,195.089,195.019,194.859,194.909,194.849,194.959,195.039,195.129,195.14,195.07,195.23,195.29,195.485,195.185,195.335,195.475,195.615,195.705,196.025,196.075,195.895,196.145,196.325,196.255,196.165,196.015,195.975,196.255,196.375,196.528,196.438,196.268,196.14,195.98,195.96,195.82,195.92,195.94,195.91,196.09,196.18,196.175,196.305,196.215,196.125,196.055,195.955,195.815,195.825,195.765,195.845,195.815,195.745,195.765,195.815,195.915,195.965,195.795,196.085,195.915,195.925,195.825,195.815,195.905,196.19,196.165,196.62,196.468,196.458,196.458,196.276,196.526,196.416,196.7,196.436,196.526,196.526,196.516,196.366,196.586,196.61,196.57,196.5,196.42,196.31,196.42,196.53,196.47,196.385,196.165,196.215,196.225,196.195,196.31,196.32],\"high\":[195.285,195.295,195.285,195.285,195.9,195.525,195.505,195.515,195.605,195.675,195.6,195.63,195.62,195.81,195.945,195.895,195.475,195.385,195.415,195.315,195.285,195.225,195.185,195.165,195.275,195.345,195.275,195.305,195.565,195.625,195.625,195.363,195.503,195.523,195.463,195.513,195.513,195.503,195.503,195.283,195.243,195.173,195.263,195.393,195.443,195.473,195.213,195.003,195.037,194.877,195.072,194.882,194.802,194.952,194.982,194.972,194.852,194.854,194.769,194.819,194.889,194.839,194.879,194.889,195.029,195.159,195.129,195.019,194.959,194.969,194.989,195.069,195.199,195.24,195.17,195.28,195.35,195.525,195.515,195.405,195.525,195.705,195.885,196.095,196.245,196.155,196.165,196.345,196.425,196.405,196.195,196.06,196.345,196.415,196.645,196.668,196.538,196.368,196.25,196.0,196.01,195.93,196.01,195.97,196.17,196.21,196.215,196.405,196.285,196.245,196.225,196.085,195.955,195.915,195.925,195.855,195.865,195.885,195.815,195.825,195.955,196.035,195.965,196.245,196.185,195.935,196.065,195.935,195.985,196.245,196.29,196.77,196.77,196.588,196.558,196.528,196.566,196.556,196.88,196.76,196.616,196.636,196.686,196.606,196.606,196.646,196.65,196.62,196.55,196.46,196.48,196.53,196.61,196.52,196.395,196.335,196.295,196.255,196.34,196.38],\"low\":[195.095,195.165,195.265,195.265,195.9,195.435,195.375,195.435,195.465,195.515,195.48,195.54,195.51,195.54,195.79,195.395,194.755,195.165,195.235,195.115,195.135,195.135,195.065,195.075,195.075,195.225,195.145,195.195,195.285,195.385,195.175,195.055,195.273,195.263,195.283,195.263,195.313,195.273,195.163,195.023,194.903,194.993,194.983,195.023,195.203,195.033,194.753,194.737,194.547,194.607,194.692,194.672,194.662,194.722,194.792,194.672,194.722,194.674,194.684,194.659,194.719,194.559,194.539,194.699,194.759,194.929,194.899,194.829,194.789,194.789,194.839,194.929,194.959,195.04,194.92,195.07,195.12,195.23,195.065,195.155,195.285,195.325,195.585,195.605,196.005,195.815,195.815,196.085,196.205,196.165,195.935,195.945,195.975,196.235,196.295,196.408,196.228,196.133,195.97,195.89,195.8,195.78,195.88,195.85,195.9,196.02,196.105,196.155,196.165,196.105,195.925,195.895,195.645,195.725,195.765,195.695,195.745,195.745,195.695,195.715,195.805,195.865,195.705,195.645,195.895,195.765,195.725,195.695,195.705,195.895,196.075,196.135,196.26,196.298,196.338,196.258,196.256,196.366,196.356,196.376,196.416,196.396,196.456,196.316,196.326,196.436,196.38,196.45,196.3,196.27,196.3,196.36,196.43,196.325,196.145,196.165,196.145,196.165,196.095,196.18],\"open\":[195.115,195.265,195.275,195.265,195.9,195.515,195.505,195.455,195.495,195.575,195.585,195.56,195.59,195.61,195.81,195.895,195.465,195.255,195.335,195.245,195.165,195.205,195.145,195.155,195.145,195.225,195.255,195.215,195.285,195.505,195.605,195.165,195.333,195.393,195.423,195.293,195.403,195.323,195.413,195.273,195.243,195.043,195.103,195.203,195.323,195.223,195.123,194.963,194.757,194.677,194.752,194.792,194.722,194.742,194.862,194.962,194.742,194.744,194.744,194.709,194.739,194.759,194.559,194.879,194.779,195.009,195.079,195.019,194.869,194.919,194.859,194.959,195.029,195.119,195.15,195.08,195.24,195.28,195.475,195.165,195.335,195.475,195.595,195.695,196.035,196.115,195.885,196.135,196.325,196.255,196.155,196.015,195.975,196.255,196.395,196.528,196.448,196.258,196.15,195.98,195.97,195.82,195.91,195.94,195.91,196.08,196.18,196.175,196.285,196.215,196.105,196.055,195.955,195.835,195.825,195.765,195.845,195.815,195.755,195.785,195.825,195.925,195.945,195.795,196.085,195.915,195.925,195.825,195.835,195.905,196.19,196.165,196.62,196.468,196.448,196.478,196.276,196.526,196.416,196.71,196.426,196.516,196.546,196.516,196.356,196.566,196.61,196.57,196.5,196.43,196.31,196.41,196.55,196.47,196.375,196.165,196.215,196.225,196.195,196.34],\"x\":[1240,1241,1242,1243,1244,1245,1246,1247,1248,1249,1250,1251,1252,1253,1254,1255,1256,1257,1258,1259,1260,1261,1262,1263,1264,1265,1266,1267,1268,1269,1270,1271,1272,1273,1274,1275,1276,1277,1278,1279,1280,1281,1282,1283,1284,1285,1286,1287,1288,1289,1290,1291,1292,1293,1294,1295,1296,1297,1298,1299,1300,1301,1302,1303,1304,1305,1306,1307,1308,1309,1310,1311,1312,1313,1314,1315,1316,1317,1318,1319,1320,1321,1322,1323,1324,1325,1326,1327,1328,1329,1330,1331,1332,1333,1334,1335,1336,1337,1338,1339,1340,1341,1342,1343,1344,1345,1346,1347,1348,1349,1350,1351,1352,1353,1354,1355,1356,1357,1358,1359,1360,1361,1362,1363,1364,1365,1366,1367,1368,1369,1370,1371,1372,1373,1374,1375,1376,1377,1378,1379,1380,1381,1382,1383,1384,1385,1386,1387,1388,1389,1390,1391,1392,1393,1394,1395,1396,1397,1398,1399],\"type\":\"candlestick\"},{\"mode\":\"lines\",\"name\":\"lower line\",\"x\":[1240.0,1246.0,1250.0,1256.0,1262.0,1266.0,1271.0,1279.0,1280.0,1288.0,1292.0,1299.0,1302.0,1308.0,1310.0,1318.0,1320.0,1325.0,1330.0,1339.0,1341.0,1345.0,1352.0,1355.0,1363.0,1367.0,1370.0,1376.0,1383.0,1389.0,1394.0,1398.0],\"y\":[193.9743970984116,194.0290360888879,194.06546208253877,194.12010107301506,194.17474006349136,194.2111660571422,194.2566985492058,194.32955053650753,194.33865703492023,194.41150902222196,194.44793501587282,194.51168050476184,194.539,194.59363899047628,194.6118519873017,194.68470397460342,194.70291697142886,194.74844946349242,194.793981955556,194.87594044127044,194.89415343809588,194.93057943174674,194.99432492063576,195.0216444158739,195.09449640317564,195.1309223968265,195.15824189206464,195.21288088254093,195.27662637142993,195.33126536190625,195.3767978539698,195.41322384762069],\"type\":\"scatter\"},{\"mode\":\"lines\",\"name\":\"upper line\",\"x\":[1244.0,1249.0,1254.0,1255.0,1260.0,1269.0,1274.0,1276.0,1284.0,1285.0,1294.0,1296.0,1304.0,1305.0,1313.0,1317.0,1324.0,1328.0,1334.0,1335.0,1344.0,1348.0,1350.0,1356.0,1364.0,1369.0,1374.0,1379.0,1382.0,1387.0,1392.0,1399.0],\"y\":[195.93816370244411,195.9782645979142,196.01836549338432,196.02638567247834,196.06648656794843,196.13866817979462,196.17876907526474,196.19480943345278,196.25897086620495,196.26699104529897,196.33917265714516,196.3552130153332,196.41937444808536,196.42739462717938,196.49155605993155,196.52363677630763,196.57977802996578,196.61185874634185,196.659979820906,196.668,196.7401816118462,196.77226232822227,196.7883026864103,196.83642376097444,196.90058519372658,196.9406860891967,196.9807869846668,197.0208878801369,197.04494841741896,197.08504931288908,197.12515020835917,197.18129146201733],\"type\":\"scatter\"}],                        {\"template\":{\"data\":{\"histogram2dcontour\":[{\"type\":\"histogram2dcontour\",\"colorbar\":{\"outlinewidth\":0,\"ticks\":\"\"},\"colorscale\":[[0.0,\"#0d0887\"],[0.1111111111111111,\"#46039f\"],[0.2222222222222222,\"#7201a8\"],[0.3333333333333333,\"#9c179e\"],[0.4444444444444444,\"#bd3786\"],[0.5555555555555556,\"#d8576b\"],[0.6666666666666666,\"#ed7953\"],[0.7777777777777778,\"#fb9f3a\"],[0.8888888888888888,\"#fdca26\"],[1.0,\"#f0f921\"]]}],\"choropleth\":[{\"type\":\"choropleth\",\"colorbar\":{\"outlinewidth\":0,\"ticks\":\"\"}}],\"histogram2d\":[{\"type\":\"histogram2d\",\"colorbar\":{\"outlinewidth\":0,\"ticks\":\"\"},\"colorscale\":[[0.0,\"#0d0887\"],[0.1111111111111111,\"#46039f\"],[0.2222222222222222,\"#7201a8\"],[0.3333333333333333,\"#9c179e\"],[0.4444444444444444,\"#bd3786\"],[0.5555555555555556,\"#d8576b\"],[0.6666666666666666,\"#ed7953\"],[0.7777777777777778,\"#fb9f3a\"],[0.8888888888888888,\"#fdca26\"],[1.0,\"#f0f921\"]]}],\"heatmap\":[{\"type\":\"heatmap\",\"colorbar\":{\"outlinewidth\":0,\"ticks\":\"\"},\"colorscale\":[[0.0,\"#0d0887\"],[0.1111111111111111,\"#46039f\"],[0.2222222222222222,\"#7201a8\"],[0.3333333333333333,\"#9c179e\"],[0.4444444444444444,\"#bd3786\"],[0.5555555555555556,\"#d8576b\"],[0.6666666666666666,\"#ed7953\"],[0.7777777777777778,\"#fb9f3a\"],[0.8888888888888888,\"#fdca26\"],[1.0,\"#f0f921\"]]}],\"heatmapgl\":[{\"type\":\"heatmapgl\",\"colorbar\":{\"outlinewidth\":0,\"ticks\":\"\"},\"colorscale\":[[0.0,\"#0d0887\"],[0.1111111111111111,\"#46039f\"],[0.2222222222222222,\"#7201a8\"],[0.3333333333333333,\"#9c179e\"],[0.4444444444444444,\"#bd3786\"],[0.5555555555555556,\"#d8576b\"],[0.6666666666666666,\"#ed7953\"],[0.7777777777777778,\"#fb9f3a\"],[0.8888888888888888,\"#fdca26\"],[1.0,\"#f0f921\"]]}],\"contourcarpet\":[{\"type\":\"contourcarpet\",\"colorbar\":{\"outlinewidth\":0,\"ticks\":\"\"}}],\"contour\":[{\"type\":\"contour\",\"colorbar\":{\"outlinewidth\":0,\"ticks\":\"\"},\"colorscale\":[[0.0,\"#0d0887\"],[0.1111111111111111,\"#46039f\"],[0.2222222222222222,\"#7201a8\"],[0.3333333333333333,\"#9c179e\"],[0.4444444444444444,\"#bd3786\"],[0.5555555555555556,\"#d8576b\"],[0.6666666666666666,\"#ed7953\"],[0.7777777777777778,\"#fb9f3a\"],[0.8888888888888888,\"#fdca26\"],[1.0,\"#f0f921\"]]}],\"surface\":[{\"type\":\"surface\",\"colorbar\":{\"outlinewidth\":0,\"ticks\":\"\"},\"colorscale\":[[0.0,\"#0d0887\"],[0.1111111111111111,\"#46039f\"],[0.2222222222222222,\"#7201a8\"],[0.3333333333333333,\"#9c179e\"],[0.4444444444444444,\"#bd3786\"],[0.5555555555555556,\"#d8576b\"],[0.6666666666666666,\"#ed7953\"],[0.7777777777777778,\"#fb9f3a\"],[0.8888888888888888,\"#fdca26\"],[1.0,\"#f0f921\"]]}],\"mesh3d\":[{\"type\":\"mesh3d\",\"colorbar\":{\"outlinewidth\":0,\"ticks\":\"\"}}],\"scatter\":[{\"fillpattern\":{\"fillmode\":\"overlay\",\"size\":10,\"solidity\":0.2},\"type\":\"scatter\"}],\"parcoords\":[{\"type\":\"parcoords\",\"line\":{\"colorbar\":{\"outlinewidth\":0,\"ticks\":\"\"}}}],\"scatterpolargl\":[{\"type\":\"scatterpolargl\",\"marker\":{\"colorbar\":{\"outlinewidth\":0,\"ticks\":\"\"}}}],\"bar\":[{\"error_x\":{\"color\":\"#2a3f5f\"},\"error_y\":{\"color\":\"#2a3f5f\"},\"marker\":{\"line\":{\"color\":\"#E5ECF6\",\"width\":0.5},\"pattern\":{\"fillmode\":\"overlay\",\"size\":10,\"solidity\":0.2}},\"type\":\"bar\"}],\"scattergeo\":[{\"type\":\"scattergeo\",\"marker\":{\"colorbar\":{\"outlinewidth\":0,\"ticks\":\"\"}}}],\"scatterpolar\":[{\"type\":\"scatterpolar\",\"marker\":{\"colorbar\":{\"outlinewidth\":0,\"ticks\":\"\"}}}],\"histogram\":[{\"marker\":{\"pattern\":{\"fillmode\":\"overlay\",\"size\":10,\"solidity\":0.2}},\"type\":\"histogram\"}],\"scattergl\":[{\"type\":\"scattergl\",\"marker\":{\"colorbar\":{\"outlinewidth\":0,\"ticks\":\"\"}}}],\"scatter3d\":[{\"type\":\"scatter3d\",\"line\":{\"colorbar\":{\"outlinewidth\":0,\"ticks\":\"\"}},\"marker\":{\"colorbar\":{\"outlinewidth\":0,\"ticks\":\"\"}}}],\"scattermapbox\":[{\"type\":\"scattermapbox\",\"marker\":{\"colorbar\":{\"outlinewidth\":0,\"ticks\":\"\"}}}],\"scatterternary\":[{\"type\":\"scatterternary\",\"marker\":{\"colorbar\":{\"outlinewidth\":0,\"ticks\":\"\"}}}],\"scattercarpet\":[{\"type\":\"scattercarpet\",\"marker\":{\"colorbar\":{\"outlinewidth\":0,\"ticks\":\"\"}}}],\"carpet\":[{\"aaxis\":{\"endlinecolor\":\"#2a3f5f\",\"gridcolor\":\"white\",\"linecolor\":\"white\",\"minorgridcolor\":\"white\",\"startlinecolor\":\"#2a3f5f\"},\"baxis\":{\"endlinecolor\":\"#2a3f5f\",\"gridcolor\":\"white\",\"linecolor\":\"white\",\"minorgridcolor\":\"white\",\"startlinecolor\":\"#2a3f5f\"},\"type\":\"carpet\"}],\"table\":[{\"cells\":{\"fill\":{\"color\":\"#EBF0F8\"},\"line\":{\"color\":\"white\"}},\"header\":{\"fill\":{\"color\":\"#C8D4E3\"},\"line\":{\"color\":\"white\"}},\"type\":\"table\"}],\"barpolar\":[{\"marker\":{\"line\":{\"color\":\"#E5ECF6\",\"width\":0.5},\"pattern\":{\"fillmode\":\"overlay\",\"size\":10,\"solidity\":0.2}},\"type\":\"barpolar\"}],\"pie\":[{\"automargin\":true,\"type\":\"pie\"}]},\"layout\":{\"autotypenumbers\":\"strict\",\"colorway\":[\"#636efa\",\"#EF553B\",\"#00cc96\",\"#ab63fa\",\"#FFA15A\",\"#19d3f3\",\"#FF6692\",\"#B6E880\",\"#FF97FF\",\"#FECB52\"],\"font\":{\"color\":\"#2a3f5f\"},\"hovermode\":\"closest\",\"hoverlabel\":{\"align\":\"left\"},\"paper_bgcolor\":\"white\",\"plot_bgcolor\":\"#E5ECF6\",\"polar\":{\"bgcolor\":\"#E5ECF6\",\"angularaxis\":{\"gridcolor\":\"white\",\"linecolor\":\"white\",\"ticks\":\"\"},\"radialaxis\":{\"gridcolor\":\"white\",\"linecolor\":\"white\",\"ticks\":\"\"}},\"ternary\":{\"bgcolor\":\"#E5ECF6\",\"aaxis\":{\"gridcolor\":\"white\",\"linecolor\":\"white\",\"ticks\":\"\"},\"baxis\":{\"gridcolor\":\"white\",\"linecolor\":\"white\",\"ticks\":\"\"},\"caxis\":{\"gridcolor\":\"white\",\"linecolor\":\"white\",\"ticks\":\"\"}},\"coloraxis\":{\"colorbar\":{\"outlinewidth\":0,\"ticks\":\"\"}},\"colorscale\":{\"sequential\":[[0.0,\"#0d0887\"],[0.1111111111111111,\"#46039f\"],[0.2222222222222222,\"#7201a8\"],[0.3333333333333333,\"#9c179e\"],[0.4444444444444444,\"#bd3786\"],[0.5555555555555556,\"#d8576b\"],[0.6666666666666666,\"#ed7953\"],[0.7777777777777778,\"#fb9f3a\"],[0.8888888888888888,\"#fdca26\"],[1.0,\"#f0f921\"]],\"sequentialminus\":[[0.0,\"#0d0887\"],[0.1111111111111111,\"#46039f\"],[0.2222222222222222,\"#7201a8\"],[0.3333333333333333,\"#9c179e\"],[0.4444444444444444,\"#bd3786\"],[0.5555555555555556,\"#d8576b\"],[0.6666666666666666,\"#ed7953\"],[0.7777777777777778,\"#fb9f3a\"],[0.8888888888888888,\"#fdca26\"],[1.0,\"#f0f921\"]],\"diverging\":[[0,\"#8e0152\"],[0.1,\"#c51b7d\"],[0.2,\"#de77ae\"],[0.3,\"#f1b6da\"],[0.4,\"#fde0ef\"],[0.5,\"#f7f7f7\"],[0.6,\"#e6f5d0\"],[0.7,\"#b8e186\"],[0.8,\"#7fbc41\"],[0.9,\"#4d9221\"],[1,\"#276419\"]]},\"xaxis\":{\"gridcolor\":\"white\",\"linecolor\":\"white\",\"ticks\":\"\",\"title\":{\"standoff\":15},\"zerolinecolor\":\"white\",\"automargin\":true,\"zerolinewidth\":2},\"yaxis\":{\"gridcolor\":\"white\",\"linecolor\":\"white\",\"ticks\":\"\",\"title\":{\"standoff\":15},\"zerolinecolor\":\"white\",\"automargin\":true,\"zerolinewidth\":2},\"scene\":{\"xaxis\":{\"backgroundcolor\":\"#E5ECF6\",\"gridcolor\":\"white\",\"linecolor\":\"white\",\"showbackground\":true,\"ticks\":\"\",\"zerolinecolor\":\"white\",\"gridwidth\":2},\"yaxis\":{\"backgroundcolor\":\"#E5ECF6\",\"gridcolor\":\"white\",\"linecolor\":\"white\",\"showbackground\":true,\"ticks\":\"\",\"zerolinecolor\":\"white\",\"gridwidth\":2},\"zaxis\":{\"backgroundcolor\":\"#E5ECF6\",\"gridcolor\":\"white\",\"linecolor\":\"white\",\"showbackground\":true,\"ticks\":\"\",\"zerolinecolor\":\"white\",\"gridwidth\":2}},\"shapedefaults\":{\"line\":{\"color\":\"#2a3f5f\"}},\"annotationdefaults\":{\"arrowcolor\":\"#2a3f5f\",\"arrowhead\":0,\"arrowwidth\":1},\"geo\":{\"bgcolor\":\"white\",\"landcolor\":\"#E5ECF6\",\"subunitcolor\":\"white\",\"showland\":true,\"showlakes\":true,\"lakecolor\":\"white\"},\"title\":{\"x\":0.05},\"mapbox\":{\"style\":\"light\"}}}},                        {\"responsive\": true}                    ).then(function(){\n",
       "                            \n",
       "var gd = document.getElementById('5c9cfaa5-7a4b-4d9b-8a72-4ab3db861a0f');\n",
       "var x = new MutationObserver(function (mutations, observer) {{\n",
       "        var display = window.getComputedStyle(gd).display;\n",
       "        if (!display || display === 'none') {{\n",
       "            console.log([gd, 'removed!']);\n",
       "            Plotly.purge(gd);\n",
       "            observer.disconnect();\n",
       "        }}\n",
       "}});\n",
       "\n",
       "// Listen for the removal of the full notebook cells\n",
       "var notebookContainer = gd.closest('#notebook-container');\n",
       "if (notebookContainer) {{\n",
       "    x.observe(notebookContainer, {childList: true});\n",
       "}}\n",
       "\n",
       "// Listen for the clearing of the current output cell\n",
       "var outputEl = gd.closest('.output');\n",
       "if (outputEl) {{\n",
       "    x.observe(outputEl, {childList: true});\n",
       "}}\n",
       "\n",
       "                        })                };                });            </script>        </div>"
      ]
     },
     "metadata": {},
     "output_type": "display_data"
    },
    {
     "data": {
      "application/vnd.plotly.v1+json": {
       "config": {
        "plotlyServerURL": "https://plot.ly"
       },
       "data": [
        {
         "close": [
          198.568,
          198.748,
          198.825,
          198.695,
          198.942,
          198.922,
          198.592,
          198.474,
          198.677,
          198.582,
          198.742,
          198.894,
          198.654,
          198.844,
          198.744,
          198.974,
          199.024,
          198.984,
          198.924,
          198.839,
          198.87,
          198.88,
          198.8,
          198.999,
          199.099,
          199.239,
          199.479,
          199.319,
          199.44,
          199.34,
          199.52,
          199.901,
          199.76,
          199.81,
          199.84,
          199.7,
          199.8,
          199.72,
          199.823,
          199.863,
          199.662,
          199.564,
          199.823,
          199.763,
          199.962,
          200.072,
          200.052,
          200.035,
          200.035,
          199.868,
          199.818,
          200.047,
          200.06,
          200.1,
          199.912,
          200.1,
          200.19,
          200.219,
          200.269,
          200.199,
          200.249,
          200.164,
          200.143,
          200.013,
          200.182,
          200.112,
          200.312,
          200.297,
          200.087,
          200.064,
          200.034,
          200.203,
          200.253,
          200.273,
          200.073,
          200.083,
          199.934,
          199.915,
          199.997,
          199.967
         ],
         "high": [
          198.638,
          198.778,
          198.905,
          198.875,
          199.052,
          199.032,
          198.922,
          198.642,
          198.707,
          198.737,
          198.822,
          198.979,
          198.894,
          198.894,
          198.864,
          198.984,
          199.104,
          199.174,
          199.054,
          198.964,
          198.9,
          198.94,
          198.88,
          199.029,
          199.129,
          199.319,
          199.569,
          199.509,
          199.559,
          199.51,
          199.54,
          199.911,
          200.06,
          199.83,
          199.88,
          199.85,
          199.81,
          199.8,
          199.873,
          200.003,
          199.913,
          199.744,
          199.853,
          199.913,
          200.082,
          200.192,
          200.242,
          200.185,
          200.105,
          200.105,
          200.008,
          200.067,
          200.2,
          200.18,
          200.13,
          200.14,
          200.28,
          200.349,
          200.379,
          200.279,
          200.359,
          200.399,
          200.193,
          200.173,
          200.355,
          200.322,
          200.372,
          200.392,
          200.297,
          200.129,
          200.164,
          200.294,
          200.323,
          200.303,
          200.323,
          200.213,
          200.143,
          199.955,
          200.007,
          200.077
         ],
         "low": [
          198.478,
          198.468,
          198.655,
          198.545,
          198.645,
          198.702,
          198.592,
          198.304,
          198.228,
          198.332,
          198.452,
          198.602,
          198.634,
          198.654,
          198.654,
          198.724,
          198.844,
          198.944,
          198.904,
          198.834,
          198.789,
          198.77,
          198.65,
          198.78,
          198.959,
          199.049,
          198.999,
          199.109,
          199.289,
          199.33,
          199.32,
          199.47,
          199.611,
          199.56,
          199.77,
          199.63,
          199.65,
          199.64,
          199.67,
          199.743,
          199.592,
          199.484,
          199.554,
          199.723,
          199.693,
          199.922,
          199.982,
          199.942,
          199.895,
          199.755,
          199.698,
          199.698,
          199.967,
          199.92,
          199.812,
          199.81,
          200.07,
          200.139,
          199.999,
          200.039,
          200.009,
          200.104,
          199.935,
          200.003,
          199.873,
          200.112,
          200.112,
          200.212,
          200.077,
          199.949,
          199.924,
          200.014,
          200.133,
          200.083,
          200.073,
          199.984,
          199.894,
          199.845,
          199.767,
          199.867
         ],
         "open": [
          198.568,
          198.578,
          198.758,
          198.825,
          198.705,
          198.942,
          198.912,
          198.592,
          198.474,
          198.677,
          198.562,
          198.732,
          198.884,
          198.654,
          198.854,
          198.744,
          198.964,
          199.024,
          198.964,
          198.924,
          198.839,
          198.87,
          198.88,
          198.8,
          199.009,
          199.099,
          199.239,
          199.479,
          199.329,
          199.44,
          199.34,
          199.52,
          199.901,
          199.76,
          199.82,
          199.84,
          199.7,
          199.8,
          199.71,
          199.823,
          199.873,
          199.662,
          199.584,
          199.823,
          199.753,
          199.942,
          200.072,
          200.052,
          200.015,
          200.045,
          199.878,
          199.818,
          200.057,
          200.06,
          200.11,
          199.912,
          200.09,
          200.2,
          200.239,
          200.269,
          200.199,
          200.249,
          200.164,
          200.143,
          200.013,
          200.162,
          200.122,
          200.312,
          200.287,
          200.077,
          200.064,
          200.034,
          200.193,
          200.243,
          200.303,
          200.073,
          200.093,
          199.934,
          199.915,
          199.997
         ],
         "type": "candlestick",
         "x": [
          1820,
          1821,
          1822,
          1823,
          1824,
          1825,
          1826,
          1827,
          1828,
          1829,
          1830,
          1831,
          1832,
          1833,
          1834,
          1835,
          1836,
          1837,
          1838,
          1839,
          1840,
          1841,
          1842,
          1843,
          1844,
          1845,
          1846,
          1847,
          1848,
          1849,
          1850,
          1851,
          1852,
          1853,
          1854,
          1855,
          1856,
          1857,
          1858,
          1859,
          1860,
          1861,
          1862,
          1863,
          1864,
          1865,
          1866,
          1867,
          1868,
          1869,
          1870,
          1871,
          1872,
          1873,
          1874,
          1875,
          1876,
          1877,
          1878,
          1879,
          1880,
          1881,
          1882,
          1883,
          1884,
          1885,
          1886,
          1887,
          1888,
          1889,
          1890,
          1891,
          1892,
          1893,
          1894,
          1895,
          1896,
          1897,
          1898,
          1899
         ]
        },
        {
         "mode": "lines",
         "name": "lower line",
         "type": "scatter",
         "x": [
          1828,
          1830,
          1835,
          1842,
          1846,
          1850,
          1855,
          1861,
          1869,
          1870,
          1875,
          1884,
          1889,
          1890,
          1898
         ],
         "y": [
          198.1240227202445,
          198.1709649282375,
          198.28832044822005,
          198.45261817619559,
          198.54650259218164,
          198.64038700816766,
          198.75774252815017,
          198.89856915212923,
          199.08633798410128,
          199.1098090880978,
          199.22716460808033,
          199.4384045440489,
          199.5557600640314,
          199.57923116802792,
          199.767
         ]
        },
        {
         "mode": "lines",
         "name": "upper line",
         "type": "scatter",
         "x": [
          1825,
          1833,
          1837,
          1844,
          1849,
          1854,
          1859,
          1863,
          1866,
          1872,
          1877,
          1881,
          1887,
          1892,
          1895
         ],
         "y": [
          199.2826336125613,
          199.46982705401274,
          199.56342377473848,
          199.72721803600848,
          199.84421393691565,
          199.96120983782282,
          200.07820573872996,
          200.1718024594557,
          200.242,
          200.3823950810886,
          200.49939098199573,
          200.59298770272147,
          200.73338278381004,
          200.8503786847172,
          200.9205762252615
         ]
        }
       ],
       "layout": {
        "template": {
         "data": {
          "bar": [
           {
            "error_x": {
             "color": "#2a3f5f"
            },
            "error_y": {
             "color": "#2a3f5f"
            },
            "marker": {
             "line": {
              "color": "#E5ECF6",
              "width": 0.5
             },
             "pattern": {
              "fillmode": "overlay",
              "size": 10,
              "solidity": 0.2
             }
            },
            "type": "bar"
           }
          ],
          "barpolar": [
           {
            "marker": {
             "line": {
              "color": "#E5ECF6",
              "width": 0.5
             },
             "pattern": {
              "fillmode": "overlay",
              "size": 10,
              "solidity": 0.2
             }
            },
            "type": "barpolar"
           }
          ],
          "carpet": [
           {
            "aaxis": {
             "endlinecolor": "#2a3f5f",
             "gridcolor": "white",
             "linecolor": "white",
             "minorgridcolor": "white",
             "startlinecolor": "#2a3f5f"
            },
            "baxis": {
             "endlinecolor": "#2a3f5f",
             "gridcolor": "white",
             "linecolor": "white",
             "minorgridcolor": "white",
             "startlinecolor": "#2a3f5f"
            },
            "type": "carpet"
           }
          ],
          "choropleth": [
           {
            "colorbar": {
             "outlinewidth": 0,
             "ticks": ""
            },
            "type": "choropleth"
           }
          ],
          "contour": [
           {
            "colorbar": {
             "outlinewidth": 0,
             "ticks": ""
            },
            "colorscale": [
             [
              0,
              "#0d0887"
             ],
             [
              0.1111111111111111,
              "#46039f"
             ],
             [
              0.2222222222222222,
              "#7201a8"
             ],
             [
              0.3333333333333333,
              "#9c179e"
             ],
             [
              0.4444444444444444,
              "#bd3786"
             ],
             [
              0.5555555555555556,
              "#d8576b"
             ],
             [
              0.6666666666666666,
              "#ed7953"
             ],
             [
              0.7777777777777778,
              "#fb9f3a"
             ],
             [
              0.8888888888888888,
              "#fdca26"
             ],
             [
              1,
              "#f0f921"
             ]
            ],
            "type": "contour"
           }
          ],
          "contourcarpet": [
           {
            "colorbar": {
             "outlinewidth": 0,
             "ticks": ""
            },
            "type": "contourcarpet"
           }
          ],
          "heatmap": [
           {
            "colorbar": {
             "outlinewidth": 0,
             "ticks": ""
            },
            "colorscale": [
             [
              0,
              "#0d0887"
             ],
             [
              0.1111111111111111,
              "#46039f"
             ],
             [
              0.2222222222222222,
              "#7201a8"
             ],
             [
              0.3333333333333333,
              "#9c179e"
             ],
             [
              0.4444444444444444,
              "#bd3786"
             ],
             [
              0.5555555555555556,
              "#d8576b"
             ],
             [
              0.6666666666666666,
              "#ed7953"
             ],
             [
              0.7777777777777778,
              "#fb9f3a"
             ],
             [
              0.8888888888888888,
              "#fdca26"
             ],
             [
              1,
              "#f0f921"
             ]
            ],
            "type": "heatmap"
           }
          ],
          "heatmapgl": [
           {
            "colorbar": {
             "outlinewidth": 0,
             "ticks": ""
            },
            "colorscale": [
             [
              0,
              "#0d0887"
             ],
             [
              0.1111111111111111,
              "#46039f"
             ],
             [
              0.2222222222222222,
              "#7201a8"
             ],
             [
              0.3333333333333333,
              "#9c179e"
             ],
             [
              0.4444444444444444,
              "#bd3786"
             ],
             [
              0.5555555555555556,
              "#d8576b"
             ],
             [
              0.6666666666666666,
              "#ed7953"
             ],
             [
              0.7777777777777778,
              "#fb9f3a"
             ],
             [
              0.8888888888888888,
              "#fdca26"
             ],
             [
              1,
              "#f0f921"
             ]
            ],
            "type": "heatmapgl"
           }
          ],
          "histogram": [
           {
            "marker": {
             "pattern": {
              "fillmode": "overlay",
              "size": 10,
              "solidity": 0.2
             }
            },
            "type": "histogram"
           }
          ],
          "histogram2d": [
           {
            "colorbar": {
             "outlinewidth": 0,
             "ticks": ""
            },
            "colorscale": [
             [
              0,
              "#0d0887"
             ],
             [
              0.1111111111111111,
              "#46039f"
             ],
             [
              0.2222222222222222,
              "#7201a8"
             ],
             [
              0.3333333333333333,
              "#9c179e"
             ],
             [
              0.4444444444444444,
              "#bd3786"
             ],
             [
              0.5555555555555556,
              "#d8576b"
             ],
             [
              0.6666666666666666,
              "#ed7953"
             ],
             [
              0.7777777777777778,
              "#fb9f3a"
             ],
             [
              0.8888888888888888,
              "#fdca26"
             ],
             [
              1,
              "#f0f921"
             ]
            ],
            "type": "histogram2d"
           }
          ],
          "histogram2dcontour": [
           {
            "colorbar": {
             "outlinewidth": 0,
             "ticks": ""
            },
            "colorscale": [
             [
              0,
              "#0d0887"
             ],
             [
              0.1111111111111111,
              "#46039f"
             ],
             [
              0.2222222222222222,
              "#7201a8"
             ],
             [
              0.3333333333333333,
              "#9c179e"
             ],
             [
              0.4444444444444444,
              "#bd3786"
             ],
             [
              0.5555555555555556,
              "#d8576b"
             ],
             [
              0.6666666666666666,
              "#ed7953"
             ],
             [
              0.7777777777777778,
              "#fb9f3a"
             ],
             [
              0.8888888888888888,
              "#fdca26"
             ],
             [
              1,
              "#f0f921"
             ]
            ],
            "type": "histogram2dcontour"
           }
          ],
          "mesh3d": [
           {
            "colorbar": {
             "outlinewidth": 0,
             "ticks": ""
            },
            "type": "mesh3d"
           }
          ],
          "parcoords": [
           {
            "line": {
             "colorbar": {
              "outlinewidth": 0,
              "ticks": ""
             }
            },
            "type": "parcoords"
           }
          ],
          "pie": [
           {
            "automargin": true,
            "type": "pie"
           }
          ],
          "scatter": [
           {
            "fillpattern": {
             "fillmode": "overlay",
             "size": 10,
             "solidity": 0.2
            },
            "type": "scatter"
           }
          ],
          "scatter3d": [
           {
            "line": {
             "colorbar": {
              "outlinewidth": 0,
              "ticks": ""
             }
            },
            "marker": {
             "colorbar": {
              "outlinewidth": 0,
              "ticks": ""
             }
            },
            "type": "scatter3d"
           }
          ],
          "scattercarpet": [
           {
            "marker": {
             "colorbar": {
              "outlinewidth": 0,
              "ticks": ""
             }
            },
            "type": "scattercarpet"
           }
          ],
          "scattergeo": [
           {
            "marker": {
             "colorbar": {
              "outlinewidth": 0,
              "ticks": ""
             }
            },
            "type": "scattergeo"
           }
          ],
          "scattergl": [
           {
            "marker": {
             "colorbar": {
              "outlinewidth": 0,
              "ticks": ""
             }
            },
            "type": "scattergl"
           }
          ],
          "scattermapbox": [
           {
            "marker": {
             "colorbar": {
              "outlinewidth": 0,
              "ticks": ""
             }
            },
            "type": "scattermapbox"
           }
          ],
          "scatterpolar": [
           {
            "marker": {
             "colorbar": {
              "outlinewidth": 0,
              "ticks": ""
             }
            },
            "type": "scatterpolar"
           }
          ],
          "scatterpolargl": [
           {
            "marker": {
             "colorbar": {
              "outlinewidth": 0,
              "ticks": ""
             }
            },
            "type": "scatterpolargl"
           }
          ],
          "scatterternary": [
           {
            "marker": {
             "colorbar": {
              "outlinewidth": 0,
              "ticks": ""
             }
            },
            "type": "scatterternary"
           }
          ],
          "surface": [
           {
            "colorbar": {
             "outlinewidth": 0,
             "ticks": ""
            },
            "colorscale": [
             [
              0,
              "#0d0887"
             ],
             [
              0.1111111111111111,
              "#46039f"
             ],
             [
              0.2222222222222222,
              "#7201a8"
             ],
             [
              0.3333333333333333,
              "#9c179e"
             ],
             [
              0.4444444444444444,
              "#bd3786"
             ],
             [
              0.5555555555555556,
              "#d8576b"
             ],
             [
              0.6666666666666666,
              "#ed7953"
             ],
             [
              0.7777777777777778,
              "#fb9f3a"
             ],
             [
              0.8888888888888888,
              "#fdca26"
             ],
             [
              1,
              "#f0f921"
             ]
            ],
            "type": "surface"
           }
          ],
          "table": [
           {
            "cells": {
             "fill": {
              "color": "#EBF0F8"
             },
             "line": {
              "color": "white"
             }
            },
            "header": {
             "fill": {
              "color": "#C8D4E3"
             },
             "line": {
              "color": "white"
             }
            },
            "type": "table"
           }
          ]
         },
         "layout": {
          "annotationdefaults": {
           "arrowcolor": "#2a3f5f",
           "arrowhead": 0,
           "arrowwidth": 1
          },
          "autotypenumbers": "strict",
          "coloraxis": {
           "colorbar": {
            "outlinewidth": 0,
            "ticks": ""
           }
          },
          "colorscale": {
           "diverging": [
            [
             0,
             "#8e0152"
            ],
            [
             0.1,
             "#c51b7d"
            ],
            [
             0.2,
             "#de77ae"
            ],
            [
             0.3,
             "#f1b6da"
            ],
            [
             0.4,
             "#fde0ef"
            ],
            [
             0.5,
             "#f7f7f7"
            ],
            [
             0.6,
             "#e6f5d0"
            ],
            [
             0.7,
             "#b8e186"
            ],
            [
             0.8,
             "#7fbc41"
            ],
            [
             0.9,
             "#4d9221"
            ],
            [
             1,
             "#276419"
            ]
           ],
           "sequential": [
            [
             0,
             "#0d0887"
            ],
            [
             0.1111111111111111,
             "#46039f"
            ],
            [
             0.2222222222222222,
             "#7201a8"
            ],
            [
             0.3333333333333333,
             "#9c179e"
            ],
            [
             0.4444444444444444,
             "#bd3786"
            ],
            [
             0.5555555555555556,
             "#d8576b"
            ],
            [
             0.6666666666666666,
             "#ed7953"
            ],
            [
             0.7777777777777778,
             "#fb9f3a"
            ],
            [
             0.8888888888888888,
             "#fdca26"
            ],
            [
             1,
             "#f0f921"
            ]
           ],
           "sequentialminus": [
            [
             0,
             "#0d0887"
            ],
            [
             0.1111111111111111,
             "#46039f"
            ],
            [
             0.2222222222222222,
             "#7201a8"
            ],
            [
             0.3333333333333333,
             "#9c179e"
            ],
            [
             0.4444444444444444,
             "#bd3786"
            ],
            [
             0.5555555555555556,
             "#d8576b"
            ],
            [
             0.6666666666666666,
             "#ed7953"
            ],
            [
             0.7777777777777778,
             "#fb9f3a"
            ],
            [
             0.8888888888888888,
             "#fdca26"
            ],
            [
             1,
             "#f0f921"
            ]
           ]
          },
          "colorway": [
           "#636efa",
           "#EF553B",
           "#00cc96",
           "#ab63fa",
           "#FFA15A",
           "#19d3f3",
           "#FF6692",
           "#B6E880",
           "#FF97FF",
           "#FECB52"
          ],
          "font": {
           "color": "#2a3f5f"
          },
          "geo": {
           "bgcolor": "white",
           "lakecolor": "white",
           "landcolor": "#E5ECF6",
           "showlakes": true,
           "showland": true,
           "subunitcolor": "white"
          },
          "hoverlabel": {
           "align": "left"
          },
          "hovermode": "closest",
          "mapbox": {
           "style": "light"
          },
          "paper_bgcolor": "white",
          "plot_bgcolor": "#E5ECF6",
          "polar": {
           "angularaxis": {
            "gridcolor": "white",
            "linecolor": "white",
            "ticks": ""
           },
           "bgcolor": "#E5ECF6",
           "radialaxis": {
            "gridcolor": "white",
            "linecolor": "white",
            "ticks": ""
           }
          },
          "scene": {
           "xaxis": {
            "backgroundcolor": "#E5ECF6",
            "gridcolor": "white",
            "gridwidth": 2,
            "linecolor": "white",
            "showbackground": true,
            "ticks": "",
            "zerolinecolor": "white"
           },
           "yaxis": {
            "backgroundcolor": "#E5ECF6",
            "gridcolor": "white",
            "gridwidth": 2,
            "linecolor": "white",
            "showbackground": true,
            "ticks": "",
            "zerolinecolor": "white"
           },
           "zaxis": {
            "backgroundcolor": "#E5ECF6",
            "gridcolor": "white",
            "gridwidth": 2,
            "linecolor": "white",
            "showbackground": true,
            "ticks": "",
            "zerolinecolor": "white"
           }
          },
          "shapedefaults": {
           "line": {
            "color": "#2a3f5f"
           }
          },
          "ternary": {
           "aaxis": {
            "gridcolor": "white",
            "linecolor": "white",
            "ticks": ""
           },
           "baxis": {
            "gridcolor": "white",
            "linecolor": "white",
            "ticks": ""
           },
           "bgcolor": "#E5ECF6",
           "caxis": {
            "gridcolor": "white",
            "linecolor": "white",
            "ticks": ""
           }
          },
          "title": {
           "x": 0.05
          },
          "xaxis": {
           "automargin": true,
           "gridcolor": "white",
           "linecolor": "white",
           "ticks": "",
           "title": {
            "standoff": 15
           },
           "zerolinecolor": "white",
           "zerolinewidth": 2
          },
          "yaxis": {
           "automargin": true,
           "gridcolor": "white",
           "linecolor": "white",
           "ticks": "",
           "title": {
            "standoff": 15
           },
           "zerolinecolor": "white",
           "zerolinewidth": 2
          }
         }
        }
       }
      },
      "text/html": [
       "<div>                            <div id=\"c7d58d42-91bc-4477-b4c7-83e658bb0466\" class=\"plotly-graph-div\" style=\"height:525px; width:100%;\"></div>            <script type=\"text/javascript\">                require([\"plotly\"], function(Plotly) {                    window.PLOTLYENV=window.PLOTLYENV || {};                                    if (document.getElementById(\"c7d58d42-91bc-4477-b4c7-83e658bb0466\")) {                    Plotly.newPlot(                        \"c7d58d42-91bc-4477-b4c7-83e658bb0466\",                        [{\"close\":[198.568,198.748,198.825,198.695,198.942,198.922,198.592,198.474,198.677,198.582,198.742,198.894,198.654,198.844,198.744,198.974,199.024,198.984,198.924,198.839,198.87,198.88,198.8,198.999,199.099,199.239,199.479,199.319,199.44,199.34,199.52,199.901,199.76,199.81,199.84,199.7,199.8,199.72,199.823,199.863,199.662,199.564,199.823,199.763,199.962,200.072,200.052,200.035,200.035,199.868,199.818,200.047,200.06,200.1,199.912,200.1,200.19,200.219,200.269,200.199,200.249,200.164,200.143,200.013,200.182,200.112,200.312,200.297,200.087,200.064,200.034,200.203,200.253,200.273,200.073,200.083,199.934,199.915,199.997,199.967],\"high\":[198.638,198.778,198.905,198.875,199.052,199.032,198.922,198.642,198.707,198.737,198.822,198.979,198.894,198.894,198.864,198.984,199.104,199.174,199.054,198.964,198.9,198.94,198.88,199.029,199.129,199.319,199.569,199.509,199.559,199.51,199.54,199.911,200.06,199.83,199.88,199.85,199.81,199.8,199.873,200.003,199.913,199.744,199.853,199.913,200.082,200.192,200.242,200.185,200.105,200.105,200.008,200.067,200.2,200.18,200.13,200.14,200.28,200.349,200.379,200.279,200.359,200.399,200.193,200.173,200.355,200.322,200.372,200.392,200.297,200.129,200.164,200.294,200.323,200.303,200.323,200.213,200.143,199.955,200.007,200.077],\"low\":[198.478,198.468,198.655,198.545,198.645,198.702,198.592,198.304,198.228,198.332,198.452,198.602,198.634,198.654,198.654,198.724,198.844,198.944,198.904,198.834,198.789,198.77,198.65,198.78,198.959,199.049,198.999,199.109,199.289,199.33,199.32,199.47,199.611,199.56,199.77,199.63,199.65,199.64,199.67,199.743,199.592,199.484,199.554,199.723,199.693,199.922,199.982,199.942,199.895,199.755,199.698,199.698,199.967,199.92,199.812,199.81,200.07,200.139,199.999,200.039,200.009,200.104,199.935,200.003,199.873,200.112,200.112,200.212,200.077,199.949,199.924,200.014,200.133,200.083,200.073,199.984,199.894,199.845,199.767,199.867],\"open\":[198.568,198.578,198.758,198.825,198.705,198.942,198.912,198.592,198.474,198.677,198.562,198.732,198.884,198.654,198.854,198.744,198.964,199.024,198.964,198.924,198.839,198.87,198.88,198.8,199.009,199.099,199.239,199.479,199.329,199.44,199.34,199.52,199.901,199.76,199.82,199.84,199.7,199.8,199.71,199.823,199.873,199.662,199.584,199.823,199.753,199.942,200.072,200.052,200.015,200.045,199.878,199.818,200.057,200.06,200.11,199.912,200.09,200.2,200.239,200.269,200.199,200.249,200.164,200.143,200.013,200.162,200.122,200.312,200.287,200.077,200.064,200.034,200.193,200.243,200.303,200.073,200.093,199.934,199.915,199.997],\"x\":[1820,1821,1822,1823,1824,1825,1826,1827,1828,1829,1830,1831,1832,1833,1834,1835,1836,1837,1838,1839,1840,1841,1842,1843,1844,1845,1846,1847,1848,1849,1850,1851,1852,1853,1854,1855,1856,1857,1858,1859,1860,1861,1862,1863,1864,1865,1866,1867,1868,1869,1870,1871,1872,1873,1874,1875,1876,1877,1878,1879,1880,1881,1882,1883,1884,1885,1886,1887,1888,1889,1890,1891,1892,1893,1894,1895,1896,1897,1898,1899],\"type\":\"candlestick\"},{\"mode\":\"lines\",\"name\":\"lower line\",\"x\":[1828.0,1830.0,1835.0,1842.0,1846.0,1850.0,1855.0,1861.0,1869.0,1870.0,1875.0,1884.0,1889.0,1890.0,1898.0],\"y\":[198.1240227202445,198.1709649282375,198.28832044822005,198.45261817619559,198.54650259218164,198.64038700816766,198.75774252815017,198.89856915212923,199.08633798410128,199.1098090880978,199.22716460808033,199.4384045440489,199.5557600640314,199.57923116802792,199.767],\"type\":\"scatter\"},{\"mode\":\"lines\",\"name\":\"upper line\",\"x\":[1825.0,1833.0,1837.0,1844.0,1849.0,1854.0,1859.0,1863.0,1866.0,1872.0,1877.0,1881.0,1887.0,1892.0,1895.0],\"y\":[199.2826336125613,199.46982705401274,199.56342377473848,199.72721803600848,199.84421393691565,199.96120983782282,200.07820573872996,200.1718024594557,200.242,200.3823950810886,200.49939098199573,200.59298770272147,200.73338278381004,200.8503786847172,200.9205762252615],\"type\":\"scatter\"}],                        {\"template\":{\"data\":{\"histogram2dcontour\":[{\"type\":\"histogram2dcontour\",\"colorbar\":{\"outlinewidth\":0,\"ticks\":\"\"},\"colorscale\":[[0.0,\"#0d0887\"],[0.1111111111111111,\"#46039f\"],[0.2222222222222222,\"#7201a8\"],[0.3333333333333333,\"#9c179e\"],[0.4444444444444444,\"#bd3786\"],[0.5555555555555556,\"#d8576b\"],[0.6666666666666666,\"#ed7953\"],[0.7777777777777778,\"#fb9f3a\"],[0.8888888888888888,\"#fdca26\"],[1.0,\"#f0f921\"]]}],\"choropleth\":[{\"type\":\"choropleth\",\"colorbar\":{\"outlinewidth\":0,\"ticks\":\"\"}}],\"histogram2d\":[{\"type\":\"histogram2d\",\"colorbar\":{\"outlinewidth\":0,\"ticks\":\"\"},\"colorscale\":[[0.0,\"#0d0887\"],[0.1111111111111111,\"#46039f\"],[0.2222222222222222,\"#7201a8\"],[0.3333333333333333,\"#9c179e\"],[0.4444444444444444,\"#bd3786\"],[0.5555555555555556,\"#d8576b\"],[0.6666666666666666,\"#ed7953\"],[0.7777777777777778,\"#fb9f3a\"],[0.8888888888888888,\"#fdca26\"],[1.0,\"#f0f921\"]]}],\"heatmap\":[{\"type\":\"heatmap\",\"colorbar\":{\"outlinewidth\":0,\"ticks\":\"\"},\"colorscale\":[[0.0,\"#0d0887\"],[0.1111111111111111,\"#46039f\"],[0.2222222222222222,\"#7201a8\"],[0.3333333333333333,\"#9c179e\"],[0.4444444444444444,\"#bd3786\"],[0.5555555555555556,\"#d8576b\"],[0.6666666666666666,\"#ed7953\"],[0.7777777777777778,\"#fb9f3a\"],[0.8888888888888888,\"#fdca26\"],[1.0,\"#f0f921\"]]}],\"heatmapgl\":[{\"type\":\"heatmapgl\",\"colorbar\":{\"outlinewidth\":0,\"ticks\":\"\"},\"colorscale\":[[0.0,\"#0d0887\"],[0.1111111111111111,\"#46039f\"],[0.2222222222222222,\"#7201a8\"],[0.3333333333333333,\"#9c179e\"],[0.4444444444444444,\"#bd3786\"],[0.5555555555555556,\"#d8576b\"],[0.6666666666666666,\"#ed7953\"],[0.7777777777777778,\"#fb9f3a\"],[0.8888888888888888,\"#fdca26\"],[1.0,\"#f0f921\"]]}],\"contourcarpet\":[{\"type\":\"contourcarpet\",\"colorbar\":{\"outlinewidth\":0,\"ticks\":\"\"}}],\"contour\":[{\"type\":\"contour\",\"colorbar\":{\"outlinewidth\":0,\"ticks\":\"\"},\"colorscale\":[[0.0,\"#0d0887\"],[0.1111111111111111,\"#46039f\"],[0.2222222222222222,\"#7201a8\"],[0.3333333333333333,\"#9c179e\"],[0.4444444444444444,\"#bd3786\"],[0.5555555555555556,\"#d8576b\"],[0.6666666666666666,\"#ed7953\"],[0.7777777777777778,\"#fb9f3a\"],[0.8888888888888888,\"#fdca26\"],[1.0,\"#f0f921\"]]}],\"surface\":[{\"type\":\"surface\",\"colorbar\":{\"outlinewidth\":0,\"ticks\":\"\"},\"colorscale\":[[0.0,\"#0d0887\"],[0.1111111111111111,\"#46039f\"],[0.2222222222222222,\"#7201a8\"],[0.3333333333333333,\"#9c179e\"],[0.4444444444444444,\"#bd3786\"],[0.5555555555555556,\"#d8576b\"],[0.6666666666666666,\"#ed7953\"],[0.7777777777777778,\"#fb9f3a\"],[0.8888888888888888,\"#fdca26\"],[1.0,\"#f0f921\"]]}],\"mesh3d\":[{\"type\":\"mesh3d\",\"colorbar\":{\"outlinewidth\":0,\"ticks\":\"\"}}],\"scatter\":[{\"fillpattern\":{\"fillmode\":\"overlay\",\"size\":10,\"solidity\":0.2},\"type\":\"scatter\"}],\"parcoords\":[{\"type\":\"parcoords\",\"line\":{\"colorbar\":{\"outlinewidth\":0,\"ticks\":\"\"}}}],\"scatterpolargl\":[{\"type\":\"scatterpolargl\",\"marker\":{\"colorbar\":{\"outlinewidth\":0,\"ticks\":\"\"}}}],\"bar\":[{\"error_x\":{\"color\":\"#2a3f5f\"},\"error_y\":{\"color\":\"#2a3f5f\"},\"marker\":{\"line\":{\"color\":\"#E5ECF6\",\"width\":0.5},\"pattern\":{\"fillmode\":\"overlay\",\"size\":10,\"solidity\":0.2}},\"type\":\"bar\"}],\"scattergeo\":[{\"type\":\"scattergeo\",\"marker\":{\"colorbar\":{\"outlinewidth\":0,\"ticks\":\"\"}}}],\"scatterpolar\":[{\"type\":\"scatterpolar\",\"marker\":{\"colorbar\":{\"outlinewidth\":0,\"ticks\":\"\"}}}],\"histogram\":[{\"marker\":{\"pattern\":{\"fillmode\":\"overlay\",\"size\":10,\"solidity\":0.2}},\"type\":\"histogram\"}],\"scattergl\":[{\"type\":\"scattergl\",\"marker\":{\"colorbar\":{\"outlinewidth\":0,\"ticks\":\"\"}}}],\"scatter3d\":[{\"type\":\"scatter3d\",\"line\":{\"colorbar\":{\"outlinewidth\":0,\"ticks\":\"\"}},\"marker\":{\"colorbar\":{\"outlinewidth\":0,\"ticks\":\"\"}}}],\"scattermapbox\":[{\"type\":\"scattermapbox\",\"marker\":{\"colorbar\":{\"outlinewidth\":0,\"ticks\":\"\"}}}],\"scatterternary\":[{\"type\":\"scatterternary\",\"marker\":{\"colorbar\":{\"outlinewidth\":0,\"ticks\":\"\"}}}],\"scattercarpet\":[{\"type\":\"scattercarpet\",\"marker\":{\"colorbar\":{\"outlinewidth\":0,\"ticks\":\"\"}}}],\"carpet\":[{\"aaxis\":{\"endlinecolor\":\"#2a3f5f\",\"gridcolor\":\"white\",\"linecolor\":\"white\",\"minorgridcolor\":\"white\",\"startlinecolor\":\"#2a3f5f\"},\"baxis\":{\"endlinecolor\":\"#2a3f5f\",\"gridcolor\":\"white\",\"linecolor\":\"white\",\"minorgridcolor\":\"white\",\"startlinecolor\":\"#2a3f5f\"},\"type\":\"carpet\"}],\"table\":[{\"cells\":{\"fill\":{\"color\":\"#EBF0F8\"},\"line\":{\"color\":\"white\"}},\"header\":{\"fill\":{\"color\":\"#C8D4E3\"},\"line\":{\"color\":\"white\"}},\"type\":\"table\"}],\"barpolar\":[{\"marker\":{\"line\":{\"color\":\"#E5ECF6\",\"width\":0.5},\"pattern\":{\"fillmode\":\"overlay\",\"size\":10,\"solidity\":0.2}},\"type\":\"barpolar\"}],\"pie\":[{\"automargin\":true,\"type\":\"pie\"}]},\"layout\":{\"autotypenumbers\":\"strict\",\"colorway\":[\"#636efa\",\"#EF553B\",\"#00cc96\",\"#ab63fa\",\"#FFA15A\",\"#19d3f3\",\"#FF6692\",\"#B6E880\",\"#FF97FF\",\"#FECB52\"],\"font\":{\"color\":\"#2a3f5f\"},\"hovermode\":\"closest\",\"hoverlabel\":{\"align\":\"left\"},\"paper_bgcolor\":\"white\",\"plot_bgcolor\":\"#E5ECF6\",\"polar\":{\"bgcolor\":\"#E5ECF6\",\"angularaxis\":{\"gridcolor\":\"white\",\"linecolor\":\"white\",\"ticks\":\"\"},\"radialaxis\":{\"gridcolor\":\"white\",\"linecolor\":\"white\",\"ticks\":\"\"}},\"ternary\":{\"bgcolor\":\"#E5ECF6\",\"aaxis\":{\"gridcolor\":\"white\",\"linecolor\":\"white\",\"ticks\":\"\"},\"baxis\":{\"gridcolor\":\"white\",\"linecolor\":\"white\",\"ticks\":\"\"},\"caxis\":{\"gridcolor\":\"white\",\"linecolor\":\"white\",\"ticks\":\"\"}},\"coloraxis\":{\"colorbar\":{\"outlinewidth\":0,\"ticks\":\"\"}},\"colorscale\":{\"sequential\":[[0.0,\"#0d0887\"],[0.1111111111111111,\"#46039f\"],[0.2222222222222222,\"#7201a8\"],[0.3333333333333333,\"#9c179e\"],[0.4444444444444444,\"#bd3786\"],[0.5555555555555556,\"#d8576b\"],[0.6666666666666666,\"#ed7953\"],[0.7777777777777778,\"#fb9f3a\"],[0.8888888888888888,\"#fdca26\"],[1.0,\"#f0f921\"]],\"sequentialminus\":[[0.0,\"#0d0887\"],[0.1111111111111111,\"#46039f\"],[0.2222222222222222,\"#7201a8\"],[0.3333333333333333,\"#9c179e\"],[0.4444444444444444,\"#bd3786\"],[0.5555555555555556,\"#d8576b\"],[0.6666666666666666,\"#ed7953\"],[0.7777777777777778,\"#fb9f3a\"],[0.8888888888888888,\"#fdca26\"],[1.0,\"#f0f921\"]],\"diverging\":[[0,\"#8e0152\"],[0.1,\"#c51b7d\"],[0.2,\"#de77ae\"],[0.3,\"#f1b6da\"],[0.4,\"#fde0ef\"],[0.5,\"#f7f7f7\"],[0.6,\"#e6f5d0\"],[0.7,\"#b8e186\"],[0.8,\"#7fbc41\"],[0.9,\"#4d9221\"],[1,\"#276419\"]]},\"xaxis\":{\"gridcolor\":\"white\",\"linecolor\":\"white\",\"ticks\":\"\",\"title\":{\"standoff\":15},\"zerolinecolor\":\"white\",\"automargin\":true,\"zerolinewidth\":2},\"yaxis\":{\"gridcolor\":\"white\",\"linecolor\":\"white\",\"ticks\":\"\",\"title\":{\"standoff\":15},\"zerolinecolor\":\"white\",\"automargin\":true,\"zerolinewidth\":2},\"scene\":{\"xaxis\":{\"backgroundcolor\":\"#E5ECF6\",\"gridcolor\":\"white\",\"linecolor\":\"white\",\"showbackground\":true,\"ticks\":\"\",\"zerolinecolor\":\"white\",\"gridwidth\":2},\"yaxis\":{\"backgroundcolor\":\"#E5ECF6\",\"gridcolor\":\"white\",\"linecolor\":\"white\",\"showbackground\":true,\"ticks\":\"\",\"zerolinecolor\":\"white\",\"gridwidth\":2},\"zaxis\":{\"backgroundcolor\":\"#E5ECF6\",\"gridcolor\":\"white\",\"linecolor\":\"white\",\"showbackground\":true,\"ticks\":\"\",\"zerolinecolor\":\"white\",\"gridwidth\":2}},\"shapedefaults\":{\"line\":{\"color\":\"#2a3f5f\"}},\"annotationdefaults\":{\"arrowcolor\":\"#2a3f5f\",\"arrowhead\":0,\"arrowwidth\":1},\"geo\":{\"bgcolor\":\"white\",\"landcolor\":\"#E5ECF6\",\"subunitcolor\":\"white\",\"showland\":true,\"showlakes\":true,\"lakecolor\":\"white\"},\"title\":{\"x\":0.05},\"mapbox\":{\"style\":\"light\"}}}},                        {\"responsive\": true}                    ).then(function(){\n",
       "                            \n",
       "var gd = document.getElementById('c7d58d42-91bc-4477-b4c7-83e658bb0466');\n",
       "var x = new MutationObserver(function (mutations, observer) {{\n",
       "        var display = window.getComputedStyle(gd).display;\n",
       "        if (!display || display === 'none') {{\n",
       "            console.log([gd, 'removed!']);\n",
       "            Plotly.purge(gd);\n",
       "            observer.disconnect();\n",
       "        }}\n",
       "}});\n",
       "\n",
       "// Listen for the removal of the full notebook cells\n",
       "var notebookContainer = gd.closest('#notebook-container');\n",
       "if (notebookContainer) {{\n",
       "    x.observe(notebookContainer, {childList: true});\n",
       "}}\n",
       "\n",
       "// Listen for the clearing of the current output cell\n",
       "var outputEl = gd.closest('.output');\n",
       "if (outputEl) {{\n",
       "    x.observe(outputEl, {childList: true});\n",
       "}}\n",
       "\n",
       "                        })                };                });            </script>        </div>"
      ]
     },
     "metadata": {},
     "output_type": "display_data"
    }
   ],
   "source": [
    "dfpl = df[600:700]\n",
    "fig = go.Figure(data=[go.Candlestick(x=dfpl.index,\n",
    "                open=dfpl['open'],\n",
    "                high=dfpl['high'],\n",
    "                low=dfpl['low'],\n",
    "                close=dfpl['close'])])\n",
    "#fit intercepts\n",
    "\n",
    "max_d = (df.high.iloc[max_idx[120:140]] - k_max*max_idx[120:140]).max()\n",
    "min_d = (df.low.iloc[min_idx[120:140]] - k_min*min_idx[120:140]).min()\n",
    "\n",
    "fig.add_trace(go.Scatter(x=min_idx[120:140], y=k_min*min_idx[120:140] + min_d, mode='lines', name='lower line'))\n",
    "fig.add_trace(go.Scatter(x=max_idx[120:140], y=k_max*max_idx[120:140] + max_d, mode='lines', name='upper line'))\n",
    "\n",
    "\n",
    "fig.show()\n",
    "\n",
    "\n",
    "dfpl = df[1240:1400]\n",
    "k_min, b_min = np.polyfit(min_idx[248:280], local_min[248:280],1)\n",
    "k_max, b_max = np.polyfit(max_idx[248:280], local_max[248:280],1)\n",
    "\n",
    "\n",
    "fig = go.Figure(data=[go.Candlestick(x=dfpl.index,\n",
    "                open=dfpl['open'],\n",
    "                high=dfpl['high'],\n",
    "                low=dfpl['low'],\n",
    "                close=dfpl['close'])])\n",
    "#fit intercepts\n",
    "max_d = (df.high.iloc[max_idx[248:280]] - k_max*max_idx[248:280]).max()\n",
    "min_d = (df.low.iloc[min_idx[248:280]] - k_min*min_idx[248:280]).min()\n",
    "fig.add_trace(go.Scatter(x=min_idx[248:280], y=k_min*min_idx[248:280] + min_d, mode='lines', name='lower line'))\n",
    "fig.add_trace(go.Scatter(x=max_idx[248:280], y=k_max*max_idx[248:280] + max_d, mode='lines', name='upper line'))\n",
    "fig.show()\n",
    "\n",
    "k_min, b_min = np.polyfit(min_idx[365:380], local_min[365:380],1)\n",
    "k_max, b_max = np.polyfit(max_idx[365:380], local_max[365:380],1)\n",
    "\n",
    "dfpl = df[1820:1900]\n",
    "fig = go.Figure(data=[go.Candlestick(x=dfpl.index,\n",
    "                open=dfpl['open'],\n",
    "                high=dfpl['high'],\n",
    "                low=dfpl['low'],\n",
    "                close=dfpl['close'])])\n",
    "#fit intercepts\n",
    "max_d = (df.high.iloc[max_idx[365:380]] - k_max*max_idx[365:380]).max()\n",
    "min_d = (df.low.iloc[min_idx[365:380]] - k_min*min_idx[365:380]).min()\n",
    "fig.add_trace(go.Scatter(x=min_idx[365:380], y=k_min*min_idx[365:380] + min_d, mode='lines', name='lower line'))\n",
    "fig.add_trace(go.Scatter(x=max_idx[365:380], y=k_max*max_idx[365:380] + max_d, mode='lines', name='upper line'))\n",
    "fig.show()"
   ]
  },
  {
   "cell_type": "code",
   "execution_count": null,
   "id": "7bbf0b6c",
   "metadata": {},
   "outputs": [],
   "source": []
  }
 ],
 "metadata": {
  "kernelspec": {
   "display_name": "Python 3 (ipykernel)",
   "language": "python",
   "name": "python3"
  },
  "language_info": {
   "codemirror_mode": {
    "name": "ipython",
    "version": 3
   },
   "file_extension": ".py",
   "mimetype": "text/x-python",
   "name": "python",
   "nbconvert_exporter": "python",
   "pygments_lexer": "ipython3",
   "version": "3.8.11"
  }
 },
 "nbformat": 4,
 "nbformat_minor": 5
}
