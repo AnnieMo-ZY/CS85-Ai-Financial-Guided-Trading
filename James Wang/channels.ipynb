{
 "cells": [
  {
   "cell_type": "markdown",
   "id": "2a0bd4cc",
   "metadata": {},
   "source": [
    "# 1. Import Library"
   ]
  },
  {
   "cell_type": "code",
   "execution_count": 1,
   "id": "2a1b719c",
   "metadata": {},
   "outputs": [],
   "source": [
    "import pandas as pd\n",
    "import numpy as np\n",
    "from matplotlib import pyplot\n",
    "import os\n",
    "import plotly.graph_objects as go\n",
    "from datetime import datetime"
   ]
  },
  {
   "cell_type": "code",
   "execution_count": 2,
   "id": "3d6aae2f",
   "metadata": {},
   "outputs": [],
   "source": [
    "path=\"/Users/jameswang/Desktop/22S2/data5703/Data_OANDA/\""
   ]
  },
  {
   "cell_type": "markdown",
   "id": "832c7903",
   "metadata": {},
   "source": [
    "# 2. Detect Pattern"
   ]
  },
  {
   "cell_type": "code",
   "execution_count": 3,
   "id": "5432b330",
   "metadata": {},
   "outputs": [],
   "source": [
    "#load file\n",
    "def load_file(file):\n",
    "    df = pd.read_csv(path+file)\n",
    "    df.columns=['datetime', 'open', 'high', 'low', 'close']\n",
    "    df['datetime'] = pd.to_datetime(df['datetime'], format='%Y-%m-%dT%H:%M:%S.000000000Z')\n",
    "    \n",
    "    return df\n"
   ]
  },
  {
   "attachments": {
    "dotdash_INV_final_Ascending_Channel_Jan_2021-01-e24ac9e9f9d143b4845a9e7c827e555a.webp": {
     "image/webp": "[encoded data removed]"
    }
   },
   "cell_type": "markdown",
   "id": "9bd40422",
   "metadata": {},
   "source": [
    "## 2.1 Channel_up\n",
    "reference:\n",
    "<br>\n",
    "https://www.investopedia.com/terms/a/ascendingchannel.asp\n",
    "<br>\n",
    "https://tlc.thinkorswim.com/center/reference/Patterns/Classic-Patterns/Channel-Up\n",
    "<br>\n",
    "![dotdash_INV_final_Ascending_Channel_Jan_2021-01-e24ac9e9f9d143b4845a9e7c827e555a.webp](attachment:dotdash_INV_final_Ascending_Channel_Jan_2021-01-e24ac9e9f9d143b4845a9e7c827e555a.webp)\n"
   ]
  },
  {
   "cell_type": "markdown",
   "id": "5fed1f5a",
   "metadata": {},
   "source": [
    "<br>\n",
    "The Channel Up pattern is identified when there are two parallel lines, both moving up to the right across respective peaks (upper line) and bottoms (lower line). "
   ]
  },
  {
   "cell_type": "code",
   "execution_count": 4,
   "id": "abfd3c29",
   "metadata": {},
   "outputs": [],
   "source": [
    "def detect_channel_up(df,w,s):\n",
    "    \n",
    "    \n",
    "    local_min = np.array([])\n",
    "    local_max = np.array([])\n",
    "    max_idx = np.array([])\n",
    "    min_idx = np.array([])\n",
    "    \n",
    "    #determine and store local min, local max and their index\n",
    "    for i in range(0,len(df),w):\n",
    "        local_max = np.append(local_max, df.low.iloc[i:i+w].max()) \n",
    "        max_idx = np.append(max_idx, df.low.iloc[i:i+w].idxmax())\n",
    "        \n",
    "        local_min = np.append(local_min, df.low.iloc[i:i+w].min()) \n",
    "        min_idx = np.append(min_idx, df.low.iloc[i:i+w].idxmin())\n",
    "\n",
    "        \n",
    "    channel_up = np.array([0]*len(df))\n",
    "    \n",
    "    count = 0\n",
    "    n=0\n",
    "    total_patterns=0\n",
    "    index_list=[]\n",
    "    \n",
    "    \n",
    "    for i in range(0,len(local_min),s):\n",
    "\n",
    "        k_min, b_min = np.polyfit(min_idx[i:i+s], local_min[i:i+s],1)\n",
    "        k_max, b_max = np.polyfit(max_idx[i:i+s], local_max[i:i+s],1)\n",
    "    \n",
    "        m = int(min_idx[count])\n",
    "        \n",
    "        #both lines need to be positive\n",
    "        if k_min>0 and k_max>0:\n",
    "            \n",
    "            #check ratios of the slope \n",
    "            if k_min/k_max <1.1 and k_min/k_max>0.9:\n",
    "                channel_up[n:m] = 1\n",
    "                total_patterns+=1\n",
    "                for j in range (n,m):\n",
    "                    index_list.append(j)\n",
    "        n=m\n",
    "        count +=s\n",
    "    \n",
    "    df[\"channel_up\"] = channel_up\n",
    "    \n",
    "    return df,total_patterns,index_list"
   ]
  },
  {
   "cell_type": "code",
   "execution_count": 5,
   "id": "7e07cbfc",
   "metadata": {},
   "outputs": [],
   "source": [
    "df = load_file(\"GBP_JPY_M30_2005_202206.csv\")\n",
    "df,n,index_list = detect_channel_up(df,5,20)"
   ]
  },
  {
   "cell_type": "markdown",
   "id": "c1cc8125",
   "metadata": {},
   "source": [
    "## 2.2 Channel_down\n",
    "reference:\n",
    "<br>\n",
    "https://www.investopedia.com/terms/a/ascendingchannel.asp\n",
    "<br>\n",
    "https://tlc.thinkorswim.com/center/reference/Patterns/Classic-Patterns/Channel-Down\n",
    "<br>\n",
    "The Channel Down pattern is identified when there are two parallel lines, both moving down to the right across respective peaks (upper line) and bottoms (lower line). "
   ]
  },
  {
   "cell_type": "code",
   "execution_count": 6,
   "id": "05164565",
   "metadata": {},
   "outputs": [],
   "source": [
    "def detect_channel_down(df,w,s):\n",
    "    \n",
    "    \n",
    "    local_min = np.array([])\n",
    "    local_max = np.array([])\n",
    "    max_idx = np.array([])\n",
    "    min_idx = np.array([])\n",
    "    \n",
    "    #determine and store local min, local max and their index\n",
    "    for i in range(0,len(df),w):\n",
    "        local_min = np.append(local_min, df.low.iloc[i:i+w].min()) \n",
    "        min_idx = np.append(min_idx, df.low.iloc[i:i+w].idxmin())\n",
    "\n",
    "\n",
    "        local_max = np.append(local_max, df.low.iloc[i:i+w].max()) \n",
    "        max_idx = np.append(max_idx, df.low.iloc[i:i+w].idxmax())\n",
    "        \n",
    "    channel_down = np.array([0]*len(df))\n",
    "    \n",
    "    count = 0\n",
    "    n=0\n",
    "    total_patterns=0\n",
    "    index_list=[]\n",
    "    \n",
    "    for i in range(0,len(local_max),s):\n",
    "        \n",
    "        k_max, b_max = np.polyfit(max_idx[i:i+s], local_max[i:i+s],1)\n",
    "        k_min, b_min = np.polyfit(min_idx[i:i+s], local_min[i:i+s],1)\n",
    "    \n",
    "        m = int(max_idx[count])\n",
    "        if k_min<0 and k_max<0:\n",
    "        #both slopes have to be negative\n",
    "            \n",
    "            #check ratios of the slope \n",
    "            if k_min/k_max <1.1 and k_min/k_max>0.9:\n",
    "                channel_down[n:m] = 1\n",
    "                total_patterns+=1\n",
    "                for j in range (n,m+1):\n",
    "                    index_list.append(j)\n",
    "        n=m\n",
    "        count +=s\n",
    "    \n",
    "    df[\"channel_down\"] = channel_down\n",
    "    \n",
    "    return df,total_patterns,index_list"
   ]
  },
  {
   "cell_type": "code",
   "execution_count": 7,
   "id": "04ee084a",
   "metadata": {},
   "outputs": [
    {
     "name": "stdout",
     "output_type": "stream",
     "text": [
      "total number of channel_up detected in GBP_JPY_M5_2005_202206.csv: 3348\n",
      "total number of channel_up detected in GBP_JPY_M15_2005_202206.csv: 1043\n",
      "total number of channel_up detected in GBP_JPY_M30_2005_202206.csv: 647\n",
      "total number of channel_up detected in GBP_JPY_H1_2005_202206.csv: 354\n",
      "total number of channel_up detected in GBP_JPY_H4_2005_202206.csv: 81\n",
      "total number of channel_up detected in GBP_JPY_D_2005_202206.csv: 14\n",
      "total number of channel_down detected in GBP_JPY_M5_2005_202206.csv: 2928\n",
      "total number of channel_down detected in GBP_JPY_M15_2005_202206.csv: 940\n",
      "total number of channel_down detected in GBP_JPY_M30_2005_202206.csv: 548\n",
      "total number of channel_down detected in GBP_JPY_H1_2005_202206.csv: 301\n",
      "total number of channel_down detected in GBP_JPY_H4_2005_202206.csv: 70\n",
      "total number of channel_down detected in GBP_JPY_D_2005_202206.csv: 13\n"
     ]
    }
   ],
   "source": [
    "import warnings\n",
    "warnings.filterwarnings('ignore')\n",
    "w = 5\n",
    "s = 10\n",
    "files = [\"GBP_JPY_M5_2005_202206.csv\",\n",
    "         \"GBP_JPY_M15_2005_202206.csv\",\n",
    "         \"GBP_JPY_M30_2005_202206.csv\",\n",
    "         \"GBP_JPY_H1_2005_202206.csv\",\n",
    "         \"GBP_JPY_H4_2005_202206.csv\",\n",
    "         \"GBP_JPY_D_2005_202206.csv\"]\n",
    "numer_of_patterns = []\n",
    "for file in files:\n",
    "    df = load_file(file)\n",
    "    df,n,l = detect_channel_up(df,w,s)\n",
    "    numer_of_patterns.append(n)\n",
    "    print(\"total number of channel_up detected in \" + file + \": \" + str(n))\n",
    "\n",
    "numer_of_patterns = []\n",
    "\n",
    "for file in files:\n",
    "    df = load_file(file)\n",
    "    df,n,l = detect_channel_down(df,w,s)\n",
    "    numer_of_patterns.append(n)\n",
    "    print(\"total number of channel_down detected in \" + file + \": \" + str(n))"
   ]
  }
 ],
 "metadata": {
  "kernelspec": {
   "display_name": "Python 3 (ipykernel)",
   "language": "python",
   "name": "python3"
  },
  "language_info": {
   "codemirror_mode": {
    "name": "ipython",
    "version": 3
   },
   "file_extension": ".py",
   "mimetype": "text/x-python",
   "name": "python",
   "nbconvert_exporter": "python",
   "pygments_lexer": "ipython3",
   "version": "3.8.11"
  }
 },
 "nbformat": 4,
 "nbformat_minor": 5
}
